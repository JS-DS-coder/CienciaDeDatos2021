{
  "nbformat": 4,
  "nbformat_minor": 0,
  "metadata": {
    "colab": {
      "name": "proyecto final SL2 problema 1.ipynb",
      "provenance": [],
      "collapsed_sections": [
        "aSfcpDKgshFf"
      ],
      "authorship_tag": "ABX9TyPoFPrqxGSU85Prj4eWj83w",
      "include_colab_link": true
    },
    "kernelspec": {
      "name": "python3",
      "display_name": "Python 3"
    },
    "language_info": {
      "name": "python"
    }
  },
  "cells": [
    {
      "cell_type": "markdown",
      "metadata": {
        "id": "view-in-github",
        "colab_type": "text"
      },
      "source": [
        "<a href=\"https://colab.research.google.com/github/JS-DS-coder/CienciaDeDatos2021/blob/SL2/proyecto_final_SL2_problema_1.ipynb\" target=\"_parent\"><img src=\"https://colab.research.google.com/assets/colab-badge.svg\" alt=\"Open In Colab\"/></a>"
      ]
    },
    {
      "cell_type": "markdown",
      "metadata": {
        "id": "aSfcpDKgshFf"
      },
      "source": [
        "# Proyecto Final \n",
        "# Statistical Learning II\n",
        "Jairo O. Salazar\n",
        "Carnet:\n",
        "\n",
        "Set de datos, poster y Paper: \n",
        "\n",
        "https://drive.google.com/drive/folders/1rZccmCOakc_T2O-JBJ2Rz_BkWhIjSLUP?usp=sharing\n"
      ]
    },
    {
      "cell_type": "markdown",
      "metadata": {
        "id": "AIM7jgARso5S"
      },
      "source": [
        "# Parte 1 - Feed Forward Network\n",
        "\n",
        "**Heart Failure Prediction**\n",
        "\n",
        "Aunque no soy medico, este problema me interesa bastante, ya que mi padre fallecio en 2018 de un ataque cardiaco aun habiendolo internado dias antes, tengo la impresion que los examenes que le practicaron fueron insuficientes para detectar a tiempo la dolencia. \n",
        "\n",
        "Las enfermedades Cardiovasculares son la causa no. 1 de muerte globalmente, y se estima que mueren 17.9 millones de personas cada año alrededor del mundo, el 31% de estas personas se estima es por un ataque al corazon.\n",
        "\n",
        "El datase a analizar contiene 12 caracteristicas que son usadas para predecir la mortalidad por un fallo cardiaco.\n",
        "\n",
        "Las personas con una enfermedad cardiovascular o que tienen un alto riesgo de padecer una enfermedad debido a la presencia de factores como la hipertension, diabetes y hyperlimidaemia) necesitan deteccion temprana y aca es donde el machine learning puede ser de gran ayuda.\n",
        "\n",
        "Este sera un problema de clasificacion, en base a 12 caracteristicas poder predecir si se esta en riesgo de un evento mortal o no. Las 12 caracteristicas contenidas en el dataset son las siguientes:\n",
        "\n",
        "1. *Edad :* Edad del paciente\n",
        "2. *Creatinina phosphokinasea:* Es una enzima producida por el cuerpo. Un nivel alto de esta enzima puede indicar daño o estress al tejido muscular, el corazon o el cerebro.\n",
        "3. *Diabetes: * Presencia de Diabetes es un factor de riesgo cardiaco muy comun.\n",
        "4. *eun:* Es una medida que expresa el porcentaje de cuanda sangre puede el ventriculo izquierdo empujar afuera del corazon con cada contraccion.\n",
        "\n",
        "5. *presion arterial alta: * Es un indicador si el paciente presenta presion arterial alta.\n",
        "\n",
        "6. *platelets: * numero de plaquetas presentes en la sangre.\n",
        "\n",
        "7. *Serum Creatinina: * Es una medida de que tan bien el higado esta limpieando la sangre. Mientras menor sea este valor mejor.\n",
        "\n",
        "8. *Serum Sodium: * Es un test para determinar que tanto sodio tenemos en la sangre, es particularmente importante para los nervios y la funcion de los musculos.\n",
        "\n",
        "9. *Sexo: * Hombre o mujer\n",
        "\n",
        "10. *Smoking: * Fumador o no fumador.\n",
        "\n",
        "11. *Anemia:*  deficiencia en el numero o calidad de los globulos rojos en el cuerpo.\n",
        "\n",
        "12. *Time: * tiempo desde la ultima visita o evento cardiaco.\n"
      ]
    },
    {
      "cell_type": "code",
      "metadata": {
        "id": "NR0vUx_9soJx"
      },
      "source": [
        "from keras import models\n",
        "from keras import layers\n",
        "import pandas as pd\n",
        "import seaborn as sns\n",
        "import matplotlib.pyplot as plt\n",
        "import keras\n",
        "import tensorflow as tf\n",
        "from keras.layers import Dense, Dropout, Activation, Flatten, LSTM, Bidirectional\n",
        "\n",
        "\n",
        "\n"
      ],
      "execution_count": 1,
      "outputs": []
    },
    {
      "cell_type": "code",
      "metadata": {
        "colab": {
          "base_uri": "https://localhost:8080/"
        },
        "id": "91LBw6NY-ggi",
        "outputId": "b5e88749-7695-4933-86a4-85e1cd95a411"
      },
      "source": [
        "!pip install graphviz \n",
        "!apt-get install graphviz\n",
        "\n",
        "!pip install ann_visualizer\n",
        "!apt-get install ann_visualizer"
      ],
      "execution_count": 2,
      "outputs": [
        {
          "output_type": "stream",
          "name": "stdout",
          "text": [
            "Requirement already satisfied: graphviz in /usr/local/lib/python3.7/dist-packages (0.10.1)\n",
            "Reading package lists... Done\n",
            "Building dependency tree       \n",
            "Reading state information... Done\n",
            "graphviz is already the newest version (2.40.1-2).\n",
            "0 upgraded, 0 newly installed, 0 to remove and 37 not upgraded.\n",
            "Collecting ann_visualizer\n",
            "  Downloading ann_visualizer-2.5.tar.gz (4.7 kB)\n",
            "Building wheels for collected packages: ann-visualizer\n",
            "  Building wheel for ann-visualizer (setup.py) ... \u001b[?25l\u001b[?25hdone\n",
            "  Created wheel for ann-visualizer: filename=ann_visualizer-2.5-py3-none-any.whl size=4168 sha256=a5caff479c4b071e05e49933d2bd8b2f037976b99dbcfbf7ed7340a449c692a2\n",
            "  Stored in directory: /root/.cache/pip/wheels/1b/fc/58/2ab1c3b30350105929308becddda4fb59b1358e54f985e1f4a\n",
            "Successfully built ann-visualizer\n",
            "Installing collected packages: ann-visualizer\n",
            "Successfully installed ann-visualizer-2.5\n",
            "Reading package lists... Done\n",
            "Building dependency tree       \n",
            "Reading state information... Done\n",
            "E: Unable to locate package ann_visualizer\n"
          ]
        }
      ]
    },
    {
      "cell_type": "code",
      "metadata": {
        "id": "8vxUY7drAqgc"
      },
      "source": [
        "from ann_visualizer.visualize import ann_viz;"
      ],
      "execution_count": 3,
      "outputs": []
    },
    {
      "cell_type": "code",
      "metadata": {
        "id": "gZTFAFvo-4B1"
      },
      "source": [
        ""
      ],
      "execution_count": 3,
      "outputs": []
    },
    {
      "cell_type": "code",
      "metadata": {
        "colab": {
          "base_uri": "https://localhost:8080/",
          "height": 224
        },
        "id": "rEFdfVJvyws2",
        "outputId": "9ab6da2c-3cdd-42cd-e142-f31c40934ce3"
      },
      "source": [
        "Dataset = pd.read_csv(\"heart_failure_clinical_records_dataset.csv\")\n",
        "Dataset.columns = ['age','anaemia','creatinine_phosphokinasea','Diabetes','ejection_fraction','high_blood_pressure','platalets','serum_creatinine','serum_sodium','sex','smoking','time','Death_event']\n",
        "Dataset.head()\n",
        "#print(Dataset.shape)"
      ],
      "execution_count": 4,
      "outputs": [
        {
          "output_type": "execute_result",
          "data": {
            "text/html": [
              "<div>\n",
              "<style scoped>\n",
              "    .dataframe tbody tr th:only-of-type {\n",
              "        vertical-align: middle;\n",
              "    }\n",
              "\n",
              "    .dataframe tbody tr th {\n",
              "        vertical-align: top;\n",
              "    }\n",
              "\n",
              "    .dataframe thead th {\n",
              "        text-align: right;\n",
              "    }\n",
              "</style>\n",
              "<table border=\"1\" class=\"dataframe\">\n",
              "  <thead>\n",
              "    <tr style=\"text-align: right;\">\n",
              "      <th></th>\n",
              "      <th>age</th>\n",
              "      <th>anaemia</th>\n",
              "      <th>creatinine_phosphokinasea</th>\n",
              "      <th>Diabetes</th>\n",
              "      <th>ejection_fraction</th>\n",
              "      <th>high_blood_pressure</th>\n",
              "      <th>platalets</th>\n",
              "      <th>serum_creatinine</th>\n",
              "      <th>serum_sodium</th>\n",
              "      <th>sex</th>\n",
              "      <th>smoking</th>\n",
              "      <th>time</th>\n",
              "      <th>Death_event</th>\n",
              "    </tr>\n",
              "  </thead>\n",
              "  <tbody>\n",
              "    <tr>\n",
              "      <th>0</th>\n",
              "      <td>75.0</td>\n",
              "      <td>0</td>\n",
              "      <td>582</td>\n",
              "      <td>0</td>\n",
              "      <td>20</td>\n",
              "      <td>1</td>\n",
              "      <td>265000.00</td>\n",
              "      <td>1.9</td>\n",
              "      <td>130</td>\n",
              "      <td>1</td>\n",
              "      <td>0</td>\n",
              "      <td>4</td>\n",
              "      <td>1</td>\n",
              "    </tr>\n",
              "    <tr>\n",
              "      <th>1</th>\n",
              "      <td>55.0</td>\n",
              "      <td>0</td>\n",
              "      <td>7861</td>\n",
              "      <td>0</td>\n",
              "      <td>38</td>\n",
              "      <td>0</td>\n",
              "      <td>263358.03</td>\n",
              "      <td>1.1</td>\n",
              "      <td>136</td>\n",
              "      <td>1</td>\n",
              "      <td>0</td>\n",
              "      <td>6</td>\n",
              "      <td>1</td>\n",
              "    </tr>\n",
              "    <tr>\n",
              "      <th>2</th>\n",
              "      <td>65.0</td>\n",
              "      <td>0</td>\n",
              "      <td>146</td>\n",
              "      <td>0</td>\n",
              "      <td>20</td>\n",
              "      <td>0</td>\n",
              "      <td>162000.00</td>\n",
              "      <td>1.3</td>\n",
              "      <td>129</td>\n",
              "      <td>1</td>\n",
              "      <td>1</td>\n",
              "      <td>7</td>\n",
              "      <td>1</td>\n",
              "    </tr>\n",
              "    <tr>\n",
              "      <th>3</th>\n",
              "      <td>50.0</td>\n",
              "      <td>1</td>\n",
              "      <td>111</td>\n",
              "      <td>0</td>\n",
              "      <td>20</td>\n",
              "      <td>0</td>\n",
              "      <td>210000.00</td>\n",
              "      <td>1.9</td>\n",
              "      <td>137</td>\n",
              "      <td>1</td>\n",
              "      <td>0</td>\n",
              "      <td>7</td>\n",
              "      <td>1</td>\n",
              "    </tr>\n",
              "    <tr>\n",
              "      <th>4</th>\n",
              "      <td>65.0</td>\n",
              "      <td>1</td>\n",
              "      <td>160</td>\n",
              "      <td>1</td>\n",
              "      <td>20</td>\n",
              "      <td>0</td>\n",
              "      <td>327000.00</td>\n",
              "      <td>2.7</td>\n",
              "      <td>116</td>\n",
              "      <td>0</td>\n",
              "      <td>0</td>\n",
              "      <td>8</td>\n",
              "      <td>1</td>\n",
              "    </tr>\n",
              "  </tbody>\n",
              "</table>\n",
              "</div>"
            ],
            "text/plain": [
              "    age  anaemia  creatinine_phosphokinasea  ...  smoking  time  Death_event\n",
              "0  75.0        0                        582  ...        0     4            1\n",
              "1  55.0        0                       7861  ...        0     6            1\n",
              "2  65.0        0                        146  ...        1     7            1\n",
              "3  50.0        1                        111  ...        0     7            1\n",
              "4  65.0        1                        160  ...        0     8            1\n",
              "\n",
              "[5 rows x 13 columns]"
            ]
          },
          "metadata": {},
          "execution_count": 4
        }
      ]
    },
    {
      "cell_type": "markdown",
      "metadata": {
        "id": "UxLOYkBB4JYW"
      },
      "source": [
        "# Data Preprocessing\n",
        "\n",
        "- Revision de valores faltantes, revision de variables categoricas (vertorizacion).\n",
        "- Normalizacion de valores"
      ]
    },
    {
      "cell_type": "code",
      "metadata": {
        "colab": {
          "base_uri": "https://localhost:8080/"
        },
        "id": "uXXlhJjJ0iwM",
        "outputId": "75670c4f-a127-4083-9761-fb6e69e06059"
      },
      "source": [
        "Dataset.isnull().sum()\n",
        "\n",
        "#Revision de Datos faltantes ninguno."
      ],
      "execution_count": 5,
      "outputs": [
        {
          "output_type": "execute_result",
          "data": {
            "text/plain": [
              "age                          0\n",
              "anaemia                      0\n",
              "creatinine_phosphokinasea    0\n",
              "Diabetes                     0\n",
              "ejection_fraction            0\n",
              "high_blood_pressure          0\n",
              "platalets                    0\n",
              "serum_creatinine             0\n",
              "serum_sodium                 0\n",
              "sex                          0\n",
              "smoking                      0\n",
              "time                         0\n",
              "Death_event                  0\n",
              "dtype: int64"
            ]
          },
          "metadata": {},
          "execution_count": 5
        }
      ]
    },
    {
      "cell_type": "code",
      "metadata": {
        "colab": {
          "base_uri": "https://localhost:8080/",
          "height": 439
        },
        "id": "bXBfgmW95Jxc",
        "outputId": "7f41406b-f78c-4d20-fa89-096531ede9a3"
      },
      "source": [
        "#Value Normalization\n",
        "datasetNorm = Dataset\n",
        "for column in datasetNorm.columns:\n",
        "    datasetNorm[column] = datasetNorm[column]  / datasetNorm[column].abs().max()\n",
        "      \n",
        "# view normalized data\n",
        "display(datasetNorm)"
      ],
      "execution_count": 6,
      "outputs": [
        {
          "output_type": "display_data",
          "data": {
            "text/html": [
              "<div>\n",
              "<style scoped>\n",
              "    .dataframe tbody tr th:only-of-type {\n",
              "        vertical-align: middle;\n",
              "    }\n",
              "\n",
              "    .dataframe tbody tr th {\n",
              "        vertical-align: top;\n",
              "    }\n",
              "\n",
              "    .dataframe thead th {\n",
              "        text-align: right;\n",
              "    }\n",
              "</style>\n",
              "<table border=\"1\" class=\"dataframe\">\n",
              "  <thead>\n",
              "    <tr style=\"text-align: right;\">\n",
              "      <th></th>\n",
              "      <th>age</th>\n",
              "      <th>anaemia</th>\n",
              "      <th>creatinine_phosphokinasea</th>\n",
              "      <th>Diabetes</th>\n",
              "      <th>ejection_fraction</th>\n",
              "      <th>high_blood_pressure</th>\n",
              "      <th>platalets</th>\n",
              "      <th>serum_creatinine</th>\n",
              "      <th>serum_sodium</th>\n",
              "      <th>sex</th>\n",
              "      <th>smoking</th>\n",
              "      <th>time</th>\n",
              "      <th>Death_event</th>\n",
              "    </tr>\n",
              "  </thead>\n",
              "  <tbody>\n",
              "    <tr>\n",
              "      <th>0</th>\n",
              "      <td>0.789474</td>\n",
              "      <td>0.0</td>\n",
              "      <td>0.074036</td>\n",
              "      <td>0.0</td>\n",
              "      <td>0.2500</td>\n",
              "      <td>1.0</td>\n",
              "      <td>0.311765</td>\n",
              "      <td>0.202128</td>\n",
              "      <td>0.878378</td>\n",
              "      <td>1.0</td>\n",
              "      <td>0.0</td>\n",
              "      <td>0.014035</td>\n",
              "      <td>1.0</td>\n",
              "    </tr>\n",
              "    <tr>\n",
              "      <th>1</th>\n",
              "      <td>0.578947</td>\n",
              "      <td>0.0</td>\n",
              "      <td>1.000000</td>\n",
              "      <td>0.0</td>\n",
              "      <td>0.4750</td>\n",
              "      <td>0.0</td>\n",
              "      <td>0.309833</td>\n",
              "      <td>0.117021</td>\n",
              "      <td>0.918919</td>\n",
              "      <td>1.0</td>\n",
              "      <td>0.0</td>\n",
              "      <td>0.021053</td>\n",
              "      <td>1.0</td>\n",
              "    </tr>\n",
              "    <tr>\n",
              "      <th>2</th>\n",
              "      <td>0.684211</td>\n",
              "      <td>0.0</td>\n",
              "      <td>0.018573</td>\n",
              "      <td>0.0</td>\n",
              "      <td>0.2500</td>\n",
              "      <td>0.0</td>\n",
              "      <td>0.190588</td>\n",
              "      <td>0.138298</td>\n",
              "      <td>0.871622</td>\n",
              "      <td>1.0</td>\n",
              "      <td>1.0</td>\n",
              "      <td>0.024561</td>\n",
              "      <td>1.0</td>\n",
              "    </tr>\n",
              "    <tr>\n",
              "      <th>3</th>\n",
              "      <td>0.526316</td>\n",
              "      <td>1.0</td>\n",
              "      <td>0.014120</td>\n",
              "      <td>0.0</td>\n",
              "      <td>0.2500</td>\n",
              "      <td>0.0</td>\n",
              "      <td>0.247059</td>\n",
              "      <td>0.202128</td>\n",
              "      <td>0.925676</td>\n",
              "      <td>1.0</td>\n",
              "      <td>0.0</td>\n",
              "      <td>0.024561</td>\n",
              "      <td>1.0</td>\n",
              "    </tr>\n",
              "    <tr>\n",
              "      <th>4</th>\n",
              "      <td>0.684211</td>\n",
              "      <td>1.0</td>\n",
              "      <td>0.020354</td>\n",
              "      <td>1.0</td>\n",
              "      <td>0.2500</td>\n",
              "      <td>0.0</td>\n",
              "      <td>0.384706</td>\n",
              "      <td>0.287234</td>\n",
              "      <td>0.783784</td>\n",
              "      <td>0.0</td>\n",
              "      <td>0.0</td>\n",
              "      <td>0.028070</td>\n",
              "      <td>1.0</td>\n",
              "    </tr>\n",
              "    <tr>\n",
              "      <th>...</th>\n",
              "      <td>...</td>\n",
              "      <td>...</td>\n",
              "      <td>...</td>\n",
              "      <td>...</td>\n",
              "      <td>...</td>\n",
              "      <td>...</td>\n",
              "      <td>...</td>\n",
              "      <td>...</td>\n",
              "      <td>...</td>\n",
              "      <td>...</td>\n",
              "      <td>...</td>\n",
              "      <td>...</td>\n",
              "      <td>...</td>\n",
              "    </tr>\n",
              "    <tr>\n",
              "      <th>294</th>\n",
              "      <td>0.652632</td>\n",
              "      <td>0.0</td>\n",
              "      <td>0.007760</td>\n",
              "      <td>1.0</td>\n",
              "      <td>0.4750</td>\n",
              "      <td>1.0</td>\n",
              "      <td>0.182353</td>\n",
              "      <td>0.117021</td>\n",
              "      <td>0.966216</td>\n",
              "      <td>1.0</td>\n",
              "      <td>1.0</td>\n",
              "      <td>0.947368</td>\n",
              "      <td>0.0</td>\n",
              "    </tr>\n",
              "    <tr>\n",
              "      <th>295</th>\n",
              "      <td>0.578947</td>\n",
              "      <td>0.0</td>\n",
              "      <td>0.231523</td>\n",
              "      <td>0.0</td>\n",
              "      <td>0.4750</td>\n",
              "      <td>0.0</td>\n",
              "      <td>0.317647</td>\n",
              "      <td>0.127660</td>\n",
              "      <td>0.939189</td>\n",
              "      <td>0.0</td>\n",
              "      <td>0.0</td>\n",
              "      <td>0.950877</td>\n",
              "      <td>0.0</td>\n",
              "    </tr>\n",
              "    <tr>\n",
              "      <th>296</th>\n",
              "      <td>0.473684</td>\n",
              "      <td>0.0</td>\n",
              "      <td>0.262053</td>\n",
              "      <td>1.0</td>\n",
              "      <td>0.7500</td>\n",
              "      <td>0.0</td>\n",
              "      <td>0.872941</td>\n",
              "      <td>0.085106</td>\n",
              "      <td>0.932432</td>\n",
              "      <td>0.0</td>\n",
              "      <td>0.0</td>\n",
              "      <td>0.975439</td>\n",
              "      <td>0.0</td>\n",
              "    </tr>\n",
              "    <tr>\n",
              "      <th>297</th>\n",
              "      <td>0.473684</td>\n",
              "      <td>0.0</td>\n",
              "      <td>0.306958</td>\n",
              "      <td>0.0</td>\n",
              "      <td>0.4750</td>\n",
              "      <td>0.0</td>\n",
              "      <td>0.164706</td>\n",
              "      <td>0.148936</td>\n",
              "      <td>0.945946</td>\n",
              "      <td>1.0</td>\n",
              "      <td>1.0</td>\n",
              "      <td>0.982456</td>\n",
              "      <td>0.0</td>\n",
              "    </tr>\n",
              "    <tr>\n",
              "      <th>298</th>\n",
              "      <td>0.526316</td>\n",
              "      <td>0.0</td>\n",
              "      <td>0.024933</td>\n",
              "      <td>0.0</td>\n",
              "      <td>0.5625</td>\n",
              "      <td>0.0</td>\n",
              "      <td>0.464706</td>\n",
              "      <td>0.170213</td>\n",
              "      <td>0.918919</td>\n",
              "      <td>1.0</td>\n",
              "      <td>1.0</td>\n",
              "      <td>1.000000</td>\n",
              "      <td>0.0</td>\n",
              "    </tr>\n",
              "  </tbody>\n",
              "</table>\n",
              "<p>299 rows × 13 columns</p>\n",
              "</div>"
            ],
            "text/plain": [
              "          age  anaemia  ...      time  Death_event\n",
              "0    0.789474      0.0  ...  0.014035          1.0\n",
              "1    0.578947      0.0  ...  0.021053          1.0\n",
              "2    0.684211      0.0  ...  0.024561          1.0\n",
              "3    0.526316      1.0  ...  0.024561          1.0\n",
              "4    0.684211      1.0  ...  0.028070          1.0\n",
              "..        ...      ...  ...       ...          ...\n",
              "294  0.652632      0.0  ...  0.947368          0.0\n",
              "295  0.578947      0.0  ...  0.950877          0.0\n",
              "296  0.473684      0.0  ...  0.975439          0.0\n",
              "297  0.473684      0.0  ...  0.982456          0.0\n",
              "298  0.526316      0.0  ...  1.000000          0.0\n",
              "\n",
              "[299 rows x 13 columns]"
            ]
          },
          "metadata": {}
        }
      ]
    },
    {
      "cell_type": "code",
      "metadata": {
        "colab": {
          "base_uri": "https://localhost:8080/",
          "height": 392
        },
        "id": "3MoupwgU82AA",
        "outputId": "22831b0e-b6c0-4a5c-f481-70eb9a797fcb"
      },
      "source": [
        "cmap = sns.diverging_palette(230, 20, as_cmap=True)\n",
        "\n",
        "sns.heatmap(datasetNorm.corr(), cmap=cmap, vmax=.3, center=0,\n",
        "            square=True, linewidths=.5, cbar_kws={\"shrink\": .5})\n",
        "plt.show()"
      ],
      "execution_count": 7,
      "outputs": [
        {
          "output_type": "display_data",
          "data": {
            "image/png": "[encoded data removed]",
            "text/plain": [
              "<Figure size 432x288 with 2 Axes>"
            ]
          },
          "metadata": {
            "needs_background": "light"
          }
        }
      ]
    },
    {
      "cell_type": "code",
      "metadata": {
        "colab": {
          "base_uri": "https://localhost:8080/",
          "height": 472
        },
        "id": "tyr7TR86-hJH",
        "outputId": "aa8c91cd-0d7b-4b7a-a6b5-eb0a099906b2"
      },
      "source": [
        "datasetNorm.corr()"
      ],
      "execution_count": 8,
      "outputs": [
        {
          "output_type": "execute_result",
          "data": {
            "text/html": [
              "<div>\n",
              "<style scoped>\n",
              "    .dataframe tbody tr th:only-of-type {\n",
              "        vertical-align: middle;\n",
              "    }\n",
              "\n",
              "    .dataframe tbody tr th {\n",
              "        vertical-align: top;\n",
              "    }\n",
              "\n",
              "    .dataframe thead th {\n",
              "        text-align: right;\n",
              "    }\n",
              "</style>\n",
              "<table border=\"1\" class=\"dataframe\">\n",
              "  <thead>\n",
              "    <tr style=\"text-align: right;\">\n",
              "      <th></th>\n",
              "      <th>age</th>\n",
              "      <th>anaemia</th>\n",
              "      <th>creatinine_phosphokinasea</th>\n",
              "      <th>Diabetes</th>\n",
              "      <th>ejection_fraction</th>\n",
              "      <th>high_blood_pressure</th>\n",
              "      <th>platalets</th>\n",
              "      <th>serum_creatinine</th>\n",
              "      <th>serum_sodium</th>\n",
              "      <th>sex</th>\n",
              "      <th>smoking</th>\n",
              "      <th>time</th>\n",
              "      <th>Death_event</th>\n",
              "    </tr>\n",
              "  </thead>\n",
              "  <tbody>\n",
              "    <tr>\n",
              "      <th>age</th>\n",
              "      <td>1.000000</td>\n",
              "      <td>0.088006</td>\n",
              "      <td>-0.081584</td>\n",
              "      <td>-0.101012</td>\n",
              "      <td>0.060098</td>\n",
              "      <td>0.093289</td>\n",
              "      <td>-0.052354</td>\n",
              "      <td>0.159187</td>\n",
              "      <td>-0.045966</td>\n",
              "      <td>0.065430</td>\n",
              "      <td>0.018668</td>\n",
              "      <td>-0.224068</td>\n",
              "      <td>0.253729</td>\n",
              "    </tr>\n",
              "    <tr>\n",
              "      <th>anaemia</th>\n",
              "      <td>0.088006</td>\n",
              "      <td>1.000000</td>\n",
              "      <td>-0.190741</td>\n",
              "      <td>-0.012729</td>\n",
              "      <td>0.031557</td>\n",
              "      <td>0.038182</td>\n",
              "      <td>-0.043786</td>\n",
              "      <td>0.052174</td>\n",
              "      <td>0.041882</td>\n",
              "      <td>-0.094769</td>\n",
              "      <td>-0.107290</td>\n",
              "      <td>-0.141414</td>\n",
              "      <td>0.066270</td>\n",
              "    </tr>\n",
              "    <tr>\n",
              "      <th>creatinine_phosphokinasea</th>\n",
              "      <td>-0.081584</td>\n",
              "      <td>-0.190741</td>\n",
              "      <td>1.000000</td>\n",
              "      <td>-0.009639</td>\n",
              "      <td>-0.044080</td>\n",
              "      <td>-0.070590</td>\n",
              "      <td>0.024463</td>\n",
              "      <td>-0.016408</td>\n",
              "      <td>0.059550</td>\n",
              "      <td>0.079791</td>\n",
              "      <td>0.002421</td>\n",
              "      <td>-0.009346</td>\n",
              "      <td>0.062728</td>\n",
              "    </tr>\n",
              "    <tr>\n",
              "      <th>Diabetes</th>\n",
              "      <td>-0.101012</td>\n",
              "      <td>-0.012729</td>\n",
              "      <td>-0.009639</td>\n",
              "      <td>1.000000</td>\n",
              "      <td>-0.004850</td>\n",
              "      <td>-0.012732</td>\n",
              "      <td>0.092193</td>\n",
              "      <td>-0.046975</td>\n",
              "      <td>-0.089551</td>\n",
              "      <td>-0.157730</td>\n",
              "      <td>-0.147173</td>\n",
              "      <td>0.033726</td>\n",
              "      <td>-0.001943</td>\n",
              "    </tr>\n",
              "    <tr>\n",
              "      <th>ejection_fraction</th>\n",
              "      <td>0.060098</td>\n",
              "      <td>0.031557</td>\n",
              "      <td>-0.044080</td>\n",
              "      <td>-0.004850</td>\n",
              "      <td>1.000000</td>\n",
              "      <td>0.024445</td>\n",
              "      <td>0.072177</td>\n",
              "      <td>-0.011302</td>\n",
              "      <td>0.175902</td>\n",
              "      <td>-0.148386</td>\n",
              "      <td>-0.067315</td>\n",
              "      <td>0.041729</td>\n",
              "      <td>-0.268603</td>\n",
              "    </tr>\n",
              "    <tr>\n",
              "      <th>high_blood_pressure</th>\n",
              "      <td>0.093289</td>\n",
              "      <td>0.038182</td>\n",
              "      <td>-0.070590</td>\n",
              "      <td>-0.012732</td>\n",
              "      <td>0.024445</td>\n",
              "      <td>1.000000</td>\n",
              "      <td>0.049963</td>\n",
              "      <td>-0.004935</td>\n",
              "      <td>0.037109</td>\n",
              "      <td>-0.104615</td>\n",
              "      <td>-0.055711</td>\n",
              "      <td>-0.196439</td>\n",
              "      <td>0.079351</td>\n",
              "    </tr>\n",
              "    <tr>\n",
              "      <th>platalets</th>\n",
              "      <td>-0.052354</td>\n",
              "      <td>-0.043786</td>\n",
              "      <td>0.024463</td>\n",
              "      <td>0.092193</td>\n",
              "      <td>0.072177</td>\n",
              "      <td>0.049963</td>\n",
              "      <td>1.000000</td>\n",
              "      <td>-0.041198</td>\n",
              "      <td>0.062125</td>\n",
              "      <td>-0.125120</td>\n",
              "      <td>0.028234</td>\n",
              "      <td>0.010514</td>\n",
              "      <td>-0.049139</td>\n",
              "    </tr>\n",
              "    <tr>\n",
              "      <th>serum_creatinine</th>\n",
              "      <td>0.159187</td>\n",
              "      <td>0.052174</td>\n",
              "      <td>-0.016408</td>\n",
              "      <td>-0.046975</td>\n",
              "      <td>-0.011302</td>\n",
              "      <td>-0.004935</td>\n",
              "      <td>-0.041198</td>\n",
              "      <td>1.000000</td>\n",
              "      <td>-0.189095</td>\n",
              "      <td>0.006970</td>\n",
              "      <td>-0.027414</td>\n",
              "      <td>-0.149315</td>\n",
              "      <td>0.294278</td>\n",
              "    </tr>\n",
              "    <tr>\n",
              "      <th>serum_sodium</th>\n",
              "      <td>-0.045966</td>\n",
              "      <td>0.041882</td>\n",
              "      <td>0.059550</td>\n",
              "      <td>-0.089551</td>\n",
              "      <td>0.175902</td>\n",
              "      <td>0.037109</td>\n",
              "      <td>0.062125</td>\n",
              "      <td>-0.189095</td>\n",
              "      <td>1.000000</td>\n",
              "      <td>-0.027566</td>\n",
              "      <td>0.004813</td>\n",
              "      <td>0.087640</td>\n",
              "      <td>-0.195204</td>\n",
              "    </tr>\n",
              "    <tr>\n",
              "      <th>sex</th>\n",
              "      <td>0.065430</td>\n",
              "      <td>-0.094769</td>\n",
              "      <td>0.079791</td>\n",
              "      <td>-0.157730</td>\n",
              "      <td>-0.148386</td>\n",
              "      <td>-0.104615</td>\n",
              "      <td>-0.125120</td>\n",
              "      <td>0.006970</td>\n",
              "      <td>-0.027566</td>\n",
              "      <td>1.000000</td>\n",
              "      <td>0.445892</td>\n",
              "      <td>-0.015608</td>\n",
              "      <td>-0.004316</td>\n",
              "    </tr>\n",
              "    <tr>\n",
              "      <th>smoking</th>\n",
              "      <td>0.018668</td>\n",
              "      <td>-0.107290</td>\n",
              "      <td>0.002421</td>\n",
              "      <td>-0.147173</td>\n",
              "      <td>-0.067315</td>\n",
              "      <td>-0.055711</td>\n",
              "      <td>0.028234</td>\n",
              "      <td>-0.027414</td>\n",
              "      <td>0.004813</td>\n",
              "      <td>0.445892</td>\n",
              "      <td>1.000000</td>\n",
              "      <td>-0.022839</td>\n",
              "      <td>-0.012623</td>\n",
              "    </tr>\n",
              "    <tr>\n",
              "      <th>time</th>\n",
              "      <td>-0.224068</td>\n",
              "      <td>-0.141414</td>\n",
              "      <td>-0.009346</td>\n",
              "      <td>0.033726</td>\n",
              "      <td>0.041729</td>\n",
              "      <td>-0.196439</td>\n",
              "      <td>0.010514</td>\n",
              "      <td>-0.149315</td>\n",
              "      <td>0.087640</td>\n",
              "      <td>-0.015608</td>\n",
              "      <td>-0.022839</td>\n",
              "      <td>1.000000</td>\n",
              "      <td>-0.526964</td>\n",
              "    </tr>\n",
              "    <tr>\n",
              "      <th>Death_event</th>\n",
              "      <td>0.253729</td>\n",
              "      <td>0.066270</td>\n",
              "      <td>0.062728</td>\n",
              "      <td>-0.001943</td>\n",
              "      <td>-0.268603</td>\n",
              "      <td>0.079351</td>\n",
              "      <td>-0.049139</td>\n",
              "      <td>0.294278</td>\n",
              "      <td>-0.195204</td>\n",
              "      <td>-0.004316</td>\n",
              "      <td>-0.012623</td>\n",
              "      <td>-0.526964</td>\n",
              "      <td>1.000000</td>\n",
              "    </tr>\n",
              "  </tbody>\n",
              "</table>\n",
              "</div>"
            ],
            "text/plain": [
              "                                age   anaemia  ...      time  Death_event\n",
              "age                        1.000000  0.088006  ... -0.224068     0.253729\n",
              "anaemia                    0.088006  1.000000  ... -0.141414     0.066270\n",
              "creatinine_phosphokinasea -0.081584 -0.190741  ... -0.009346     0.062728\n",
              "Diabetes                  -0.101012 -0.012729  ...  0.033726    -0.001943\n",
              "ejection_fraction          0.060098  0.031557  ...  0.041729    -0.268603\n",
              "high_blood_pressure        0.093289  0.038182  ... -0.196439     0.079351\n",
              "platalets                 -0.052354 -0.043786  ...  0.010514    -0.049139\n",
              "serum_creatinine           0.159187  0.052174  ... -0.149315     0.294278\n",
              "serum_sodium              -0.045966  0.041882  ...  0.087640    -0.195204\n",
              "sex                        0.065430 -0.094769  ... -0.015608    -0.004316\n",
              "smoking                    0.018668 -0.107290  ... -0.022839    -0.012623\n",
              "time                      -0.224068 -0.141414  ...  1.000000    -0.526964\n",
              "Death_event                0.253729  0.066270  ... -0.526964     1.000000\n",
              "\n",
              "[13 rows x 13 columns]"
            ]
          },
          "metadata": {},
          "execution_count": 8
        }
      ]
    },
    {
      "cell_type": "code",
      "metadata": {
        "id": "qtugM_j6-uIA"
      },
      "source": [
        "model = models.Sequential()\n",
        "#act = keras.layers.LeakyReLU(alpha=0.3)\n",
        "act = keras.layers.LeakyReLU(alpha=0.3)\n",
        "#model.add(layers.Dense(12,activation='relu'))\n",
        "model.add(layers.Dense(12,activation=act))\n",
        "\n",
        "model.add(layers.Dense(12,activation=act))\n",
        "\n",
        "model.add(layers.Dense(8,activation=act))\n",
        "\n",
        "model.add(layers.Dense(8,activation='tanh'))\n",
        "\n",
        "model.add(layers.Dense(4,activation='tanh'))\n",
        "#model.add(layers.Dense(4,activation='relu'))\n",
        "model.add(layers.Dense(4,activation='tanh'))\n",
        "#model.add(layers.Dense(4,activation='relu'))\n",
        "#model.add(layers.Dense(2,activation='relu'))\n",
        "#model.add(layers.Dense(2,activation='relu'))\n",
        "model.add(layers.Dense(1,activation='sigmoid'))"
      ],
      "execution_count": 9,
      "outputs": []
    },
    {
      "cell_type": "code",
      "metadata": {
        "colab": {
          "base_uri": "https://localhost:8080/"
        },
        "id": "RcclsfU3_Tv5",
        "outputId": "a77316d9-d014-4d93-d33b-32acd7abc573"
      },
      "source": [
        "model.build(input_shape=(299,12))\n",
        "model.summary()"
      ],
      "execution_count": 10,
      "outputs": [
        {
          "output_type": "stream",
          "name": "stdout",
          "text": [
            "Model: \"sequential\"\n",
            "_________________________________________________________________\n",
            "Layer (type)                 Output Shape              Param #   \n",
            "=================================================================\n",
            "dense (Dense)                (299, 12)                 156       \n",
            "_________________________________________________________________\n",
            "dense_1 (Dense)              (299, 12)                 156       \n",
            "_________________________________________________________________\n",
            "dense_2 (Dense)              (299, 8)                  104       \n",
            "_________________________________________________________________\n",
            "dense_3 (Dense)              (299, 8)                  72        \n",
            "_________________________________________________________________\n",
            "dense_4 (Dense)              (299, 4)                  36        \n",
            "_________________________________________________________________\n",
            "dense_5 (Dense)              (299, 4)                  20        \n",
            "_________________________________________________________________\n",
            "dense_6 (Dense)              (299, 1)                  5         \n",
            "=================================================================\n",
            "Total params: 549\n",
            "Trainable params: 549\n",
            "Non-trainable params: 0\n",
            "_________________________________________________________________\n"
          ]
        }
      ]
    },
    {
      "cell_type": "code",
      "metadata": {
        "colab": {
          "base_uri": "https://localhost:8080/",
          "height": 865
        },
        "id": "BN5ttcFD_bcz",
        "outputId": "5397b8f3-16f9-4f0a-8d79-99b5e818ee37"
      },
      "source": [
        "img_file = './model_arch.png'\n",
        "tf.keras.utils.plot_model(model, to_file=img_file, show_shapes=True, show_layer_names=True)\n",
        "  "
      ],
      "execution_count": 11,
      "outputs": [
        {
          "output_type": "execute_result",
          "data": {
            "image/png": "[encoded data removed]",
            "text/plain": [
              "<IPython.core.display.Image object>"
            ]
          },
          "metadata": {},
          "execution_count": 11
        }
      ]
    },
    {
      "cell_type": "code",
      "metadata": {
        "id": "ao16aEKLA33h"
      },
      "source": [
        "ann_viz(model, title=\"Heart Failure Prediction\")"
      ],
      "execution_count": 12,
      "outputs": []
    },
    {
      "cell_type": "code",
      "metadata": {
        "id": "YCk6t36ZCTbJ"
      },
      "source": [
        "y = pd.DataFrame(datasetNorm[\"Death_event\"])\n",
        "x = datasetNorm.drop('Death_event', inplace=True, axis=1)\n"
      ],
      "execution_count": 13,
      "outputs": []
    },
    {
      "cell_type": "code",
      "metadata": {
        "id": "m8UQdlw6HeFf"
      },
      "source": [
        "from sklearn.model_selection import train_test_split\n",
        "x_train, x_test, y_train, y_test = train_test_split(datasetNorm, y, train_size = 0.8, shuffle = True, random_state = 2)\n"
      ],
      "execution_count": 14,
      "outputs": []
    },
    {
      "cell_type": "code",
      "metadata": {
        "colab": {
          "base_uri": "https://localhost:8080/"
        },
        "id": "UPUAdCuUC6Ki",
        "outputId": "b3ab54d4-0e4b-43a9-e3c5-5a691bddaf94"
      },
      "source": [
        "Early_Stopper = tf.keras.callbacks.EarlyStopping(monitor=\"loss\",patience=3,mode=\"min\")\n",
        "Model_Check_FFN = tf.keras.callbacks.ModelCheckpoint(monitor=\"val_accuracy\",\n",
        "                                                     save_best_only=True,\n",
        "                                                     filepath=\"./my_FFN_model\")\n",
        "\n",
        "from sklearn.model_selection import train_test_split\n",
        "x_train, x_test, y_train, y_test = train_test_split(datasetNorm, y, train_size = 0.8, shuffle = True, random_state = 2)\n",
        "\n",
        "model.compile(optimizer = 'adamax',\n",
        "              loss = 'binary_crossentropy',\n",
        "              metrics=['accuracy'])\n",
        "\n",
        "history = model.fit(x_train, y_train, epochs=300,callbacks=[Early_Stopper,Model_Check_FFN],validation_data=(x_test, y_test))"
      ],
      "execution_count": 15,
      "outputs": [
        {
          "output_type": "stream",
          "name": "stdout",
          "text": [
            "Epoch 1/300\n",
            "8/8 [==============================] - 2s 64ms/step - loss: 0.6582 - accuracy: 0.6695 - val_loss: 0.6390 - val_accuracy: 0.7167\n"
          ]
        },
        {
          "output_type": "stream",
          "name": "stderr",
          "text": [
            "WARNING:absl:Found untraced functions such as leaky_re_lu_layer_call_and_return_conditional_losses, leaky_re_lu_layer_call_fn, leaky_re_lu_layer_call_fn, leaky_re_lu_layer_call_and_return_conditional_losses, leaky_re_lu_layer_call_and_return_conditional_losses while saving (showing 5 of 5). These functions will not be directly callable after loading.\n"
          ]
        },
        {
          "output_type": "stream",
          "name": "stdout",
          "text": [
            "INFO:tensorflow:Assets written to: ./my_FFN_model/assets\n"
          ]
        },
        {
          "output_type": "stream",
          "name": "stderr",
          "text": [
            "INFO:tensorflow:Assets written to: ./my_FFN_model/assets\n"
          ]
        },
        {
          "output_type": "stream",
          "name": "stdout",
          "text": [
            "Epoch 2/300\n",
            "8/8 [==============================] - 0s 5ms/step - loss: 0.6519 - accuracy: 0.6695 - val_loss: 0.6322 - val_accuracy: 0.7167\n",
            "Epoch 3/300\n",
            "8/8 [==============================] - 0s 5ms/step - loss: 0.6478 - accuracy: 0.6695 - val_loss: 0.6273 - val_accuracy: 0.7167\n",
            "Epoch 4/300\n",
            "8/8 [==============================] - 0s 5ms/step - loss: 0.6445 - accuracy: 0.6695 - val_loss: 0.6240 - val_accuracy: 0.7167\n",
            "Epoch 5/300\n",
            "8/8 [==============================] - 0s 5ms/step - loss: 0.6426 - accuracy: 0.6695 - val_loss: 0.6217 - val_accuracy: 0.7167\n",
            "Epoch 6/300\n",
            "8/8 [==============================] - 0s 8ms/step - loss: 0.6412 - accuracy: 0.6695 - val_loss: 0.6197 - val_accuracy: 0.7167\n",
            "Epoch 7/300\n",
            "8/8 [==============================] - 0s 5ms/step - loss: 0.6400 - accuracy: 0.6695 - val_loss: 0.6181 - val_accuracy: 0.7167\n",
            "Epoch 8/300\n",
            "8/8 [==============================] - 0s 5ms/step - loss: 0.6392 - accuracy: 0.6695 - val_loss: 0.6165 - val_accuracy: 0.7167\n",
            "Epoch 9/300\n",
            "8/8 [==============================] - 0s 5ms/step - loss: 0.6384 - accuracy: 0.6695 - val_loss: 0.6153 - val_accuracy: 0.7167\n",
            "Epoch 10/300\n",
            "8/8 [==============================] - 0s 8ms/step - loss: 0.6378 - accuracy: 0.6695 - val_loss: 0.6142 - val_accuracy: 0.7167\n",
            "Epoch 11/300\n",
            "8/8 [==============================] - 0s 5ms/step - loss: 0.6372 - accuracy: 0.6695 - val_loss: 0.6133 - val_accuracy: 0.7167\n",
            "Epoch 12/300\n",
            "8/8 [==============================] - 0s 5ms/step - loss: 0.6367 - accuracy: 0.6695 - val_loss: 0.6125 - val_accuracy: 0.7167\n",
            "Epoch 13/300\n",
            "8/8 [==============================] - 0s 5ms/step - loss: 0.6364 - accuracy: 0.6695 - val_loss: 0.6114 - val_accuracy: 0.7167\n",
            "Epoch 14/300\n",
            "8/8 [==============================] - 0s 5ms/step - loss: 0.6360 - accuracy: 0.6695 - val_loss: 0.6105 - val_accuracy: 0.7167\n",
            "Epoch 15/300\n",
            "8/8 [==============================] - 0s 5ms/step - loss: 0.6355 - accuracy: 0.6695 - val_loss: 0.6099 - val_accuracy: 0.7167\n",
            "Epoch 16/300\n",
            "8/8 [==============================] - 0s 5ms/step - loss: 0.6352 - accuracy: 0.6695 - val_loss: 0.6093 - val_accuracy: 0.7167\n",
            "Epoch 17/300\n",
            "8/8 [==============================] - 0s 7ms/step - loss: 0.6349 - accuracy: 0.6695 - val_loss: 0.6088 - val_accuracy: 0.7167\n",
            "Epoch 18/300\n",
            "8/8 [==============================] - 0s 5ms/step - loss: 0.6347 - accuracy: 0.6695 - val_loss: 0.6085 - val_accuracy: 0.7167\n",
            "Epoch 19/300\n",
            "8/8 [==============================] - 0s 5ms/step - loss: 0.6345 - accuracy: 0.6695 - val_loss: 0.6082 - val_accuracy: 0.7167\n",
            "Epoch 20/300\n",
            "8/8 [==============================] - 0s 5ms/step - loss: 0.6343 - accuracy: 0.6695 - val_loss: 0.6078 - val_accuracy: 0.7167\n",
            "Epoch 21/300\n",
            "8/8 [==============================] - 0s 8ms/step - loss: 0.6342 - accuracy: 0.6695 - val_loss: 0.6074 - val_accuracy: 0.7167\n",
            "Epoch 22/300\n",
            "8/8 [==============================] - 0s 5ms/step - loss: 0.6339 - accuracy: 0.6695 - val_loss: 0.6074 - val_accuracy: 0.7167\n",
            "Epoch 23/300\n",
            "8/8 [==============================] - 0s 5ms/step - loss: 0.6338 - accuracy: 0.6695 - val_loss: 0.6072 - val_accuracy: 0.7167\n",
            "Epoch 24/300\n",
            "8/8 [==============================] - 0s 6ms/step - loss: 0.6336 - accuracy: 0.6695 - val_loss: 0.6071 - val_accuracy: 0.7167\n",
            "Epoch 25/300\n",
            "8/8 [==============================] - 0s 5ms/step - loss: 0.6335 - accuracy: 0.6695 - val_loss: 0.6071 - val_accuracy: 0.7167\n",
            "Epoch 26/300\n",
            "8/8 [==============================] - 0s 5ms/step - loss: 0.6333 - accuracy: 0.6695 - val_loss: 0.6069 - val_accuracy: 0.7167\n",
            "Epoch 27/300\n",
            "8/8 [==============================] - 0s 7ms/step - loss: 0.6331 - accuracy: 0.6695 - val_loss: 0.6068 - val_accuracy: 0.7167\n",
            "Epoch 28/300\n",
            "8/8 [==============================] - 0s 6ms/step - loss: 0.6329 - accuracy: 0.6695 - val_loss: 0.6067 - val_accuracy: 0.7167\n",
            "Epoch 29/300\n",
            "8/8 [==============================] - 0s 5ms/step - loss: 0.6327 - accuracy: 0.6695 - val_loss: 0.6067 - val_accuracy: 0.7167\n",
            "Epoch 30/300\n",
            "8/8 [==============================] - 0s 5ms/step - loss: 0.6325 - accuracy: 0.6695 - val_loss: 0.6064 - val_accuracy: 0.7167\n",
            "Epoch 31/300\n",
            "8/8 [==============================] - 0s 6ms/step - loss: 0.6323 - accuracy: 0.6695 - val_loss: 0.6062 - val_accuracy: 0.7167\n",
            "Epoch 32/300\n",
            "8/8 [==============================] - 0s 5ms/step - loss: 0.6320 - accuracy: 0.6695 - val_loss: 0.6063 - val_accuracy: 0.7167\n",
            "Epoch 33/300\n",
            "8/8 [==============================] - 0s 5ms/step - loss: 0.6317 - accuracy: 0.6695 - val_loss: 0.6063 - val_accuracy: 0.7167\n",
            "Epoch 34/300\n",
            "8/8 [==============================] - 0s 5ms/step - loss: 0.6315 - accuracy: 0.6695 - val_loss: 0.6065 - val_accuracy: 0.7167\n",
            "Epoch 35/300\n",
            "8/8 [==============================] - 0s 5ms/step - loss: 0.6311 - accuracy: 0.6695 - val_loss: 0.6067 - val_accuracy: 0.7167\n",
            "Epoch 36/300\n",
            "8/8 [==============================] - 0s 5ms/step - loss: 0.6307 - accuracy: 0.6695 - val_loss: 0.6067 - val_accuracy: 0.7167\n",
            "Epoch 37/300\n",
            "8/8 [==============================] - 0s 5ms/step - loss: 0.6304 - accuracy: 0.6695 - val_loss: 0.6068 - val_accuracy: 0.7167\n",
            "Epoch 38/300\n",
            "8/8 [==============================] - 0s 5ms/step - loss: 0.6300 - accuracy: 0.6695 - val_loss: 0.6067 - val_accuracy: 0.7167\n",
            "Epoch 39/300\n",
            "8/8 [==============================] - 0s 6ms/step - loss: 0.6294 - accuracy: 0.6695 - val_loss: 0.6068 - val_accuracy: 0.7167\n",
            "Epoch 40/300\n",
            "8/8 [==============================] - 0s 5ms/step - loss: 0.6290 - accuracy: 0.6695 - val_loss: 0.6065 - val_accuracy: 0.7167\n",
            "Epoch 41/300\n",
            "8/8 [==============================] - 0s 5ms/step - loss: 0.6286 - accuracy: 0.6695 - val_loss: 0.6066 - val_accuracy: 0.7167\n",
            "Epoch 42/300\n",
            "8/8 [==============================] - 0s 6ms/step - loss: 0.6281 - accuracy: 0.6695 - val_loss: 0.6066 - val_accuracy: 0.7167\n",
            "Epoch 43/300\n",
            "8/8 [==============================] - 0s 6ms/step - loss: 0.6274 - accuracy: 0.6695 - val_loss: 0.6063 - val_accuracy: 0.7167\n",
            "Epoch 44/300\n",
            "8/8 [==============================] - 0s 7ms/step - loss: 0.6268 - accuracy: 0.6695 - val_loss: 0.6062 - val_accuracy: 0.7167\n",
            "Epoch 45/300\n",
            "8/8 [==============================] - 0s 5ms/step - loss: 0.6263 - accuracy: 0.6695 - val_loss: 0.6062 - val_accuracy: 0.7167\n",
            "Epoch 46/300\n",
            "8/8 [==============================] - 0s 5ms/step - loss: 0.6254 - accuracy: 0.6695 - val_loss: 0.6061 - val_accuracy: 0.7167\n",
            "Epoch 47/300\n",
            "8/8 [==============================] - 0s 5ms/step - loss: 0.6246 - accuracy: 0.6695 - val_loss: 0.6057 - val_accuracy: 0.7167\n",
            "Epoch 48/300\n",
            "8/8 [==============================] - 0s 6ms/step - loss: 0.6236 - accuracy: 0.6695 - val_loss: 0.6057 - val_accuracy: 0.7167\n",
            "Epoch 49/300\n",
            "8/8 [==============================] - 0s 5ms/step - loss: 0.6226 - accuracy: 0.6695 - val_loss: 0.6055 - val_accuracy: 0.7167\n",
            "Epoch 50/300\n",
            "8/8 [==============================] - 0s 5ms/step - loss: 0.6216 - accuracy: 0.6695 - val_loss: 0.6059 - val_accuracy: 0.7167\n",
            "Epoch 51/300\n",
            "8/8 [==============================] - 0s 5ms/step - loss: 0.6204 - accuracy: 0.6695 - val_loss: 0.6059 - val_accuracy: 0.7167\n",
            "Epoch 52/300\n",
            "8/8 [==============================] - 0s 6ms/step - loss: 0.6192 - accuracy: 0.6695 - val_loss: 0.6059 - val_accuracy: 0.7167\n",
            "Epoch 53/300\n",
            "8/8 [==============================] - 0s 6ms/step - loss: 0.6179 - accuracy: 0.6695 - val_loss: 0.6053 - val_accuracy: 0.7167\n",
            "Epoch 54/300\n",
            "8/8 [==============================] - 0s 6ms/step - loss: 0.6165 - accuracy: 0.6695 - val_loss: 0.6051 - val_accuracy: 0.7167\n",
            "Epoch 55/300\n",
            "8/8 [==============================] - 0s 6ms/step - loss: 0.6149 - accuracy: 0.6695 - val_loss: 0.6052 - val_accuracy: 0.7167\n",
            "Epoch 56/300\n",
            "8/8 [==============================] - 0s 5ms/step - loss: 0.6132 - accuracy: 0.6695 - val_loss: 0.6047 - val_accuracy: 0.7167\n",
            "Epoch 57/300\n",
            "8/8 [==============================] - 0s 6ms/step - loss: 0.6116 - accuracy: 0.6695 - val_loss: 0.6042 - val_accuracy: 0.7167\n",
            "Epoch 58/300\n",
            "8/8 [==============================] - 0s 6ms/step - loss: 0.6099 - accuracy: 0.6695 - val_loss: 0.6041 - val_accuracy: 0.7167\n",
            "Epoch 59/300\n",
            "8/8 [==============================] - 0s 6ms/step - loss: 0.6082 - accuracy: 0.6695 - val_loss: 0.6032 - val_accuracy: 0.7167\n",
            "Epoch 60/300\n",
            "8/8 [==============================] - 0s 5ms/step - loss: 0.6064 - accuracy: 0.6695 - val_loss: 0.6028 - val_accuracy: 0.7167\n",
            "Epoch 61/300\n",
            "8/8 [==============================] - 0s 5ms/step - loss: 0.6044 - accuracy: 0.6736 - val_loss: 0.6016 - val_accuracy: 0.7167\n",
            "Epoch 62/300\n",
            "8/8 [==============================] - 0s 5ms/step - loss: 0.6026 - accuracy: 0.6736 - val_loss: 0.6015 - val_accuracy: 0.7167\n",
            "Epoch 63/300\n",
            "8/8 [==============================] - 0s 7ms/step - loss: 0.6008 - accuracy: 0.6778 - val_loss: 0.6007 - val_accuracy: 0.7167\n",
            "Epoch 64/300\n",
            "8/8 [==============================] - 0s 5ms/step - loss: 0.5987 - accuracy: 0.6736 - val_loss: 0.5981 - val_accuracy: 0.7167\n",
            "Epoch 65/300\n",
            "8/8 [==============================] - 0s 5ms/step - loss: 0.5964 - accuracy: 0.6736 - val_loss: 0.5971 - val_accuracy: 0.7167\n",
            "Epoch 66/300\n",
            "8/8 [==============================] - 0s 6ms/step - loss: 0.5940 - accuracy: 0.6778 - val_loss: 0.5954 - val_accuracy: 0.7333\n"
          ]
        },
        {
          "output_type": "stream",
          "name": "stderr",
          "text": [
            "WARNING:absl:Found untraced functions such as leaky_re_lu_layer_call_and_return_conditional_losses, leaky_re_lu_layer_call_fn, leaky_re_lu_layer_call_fn, leaky_re_lu_layer_call_and_return_conditional_losses, leaky_re_lu_layer_call_and_return_conditional_losses while saving (showing 5 of 5). These functions will not be directly callable after loading.\n"
          ]
        },
        {
          "output_type": "stream",
          "name": "stdout",
          "text": [
            "INFO:tensorflow:Assets written to: ./my_FFN_model/assets\n"
          ]
        },
        {
          "output_type": "stream",
          "name": "stderr",
          "text": [
            "INFO:tensorflow:Assets written to: ./my_FFN_model/assets\n"
          ]
        },
        {
          "output_type": "stream",
          "name": "stdout",
          "text": [
            "Epoch 67/300\n",
            "8/8 [==============================] - 0s 5ms/step - loss: 0.5919 - accuracy: 0.6778 - val_loss: 0.5942 - val_accuracy: 0.7333\n",
            "Epoch 68/300\n",
            "8/8 [==============================] - 0s 5ms/step - loss: 0.5898 - accuracy: 0.6946 - val_loss: 0.5931 - val_accuracy: 0.7667\n"
          ]
        },
        {
          "output_type": "stream",
          "name": "stderr",
          "text": [
            "WARNING:absl:Found untraced functions such as leaky_re_lu_layer_call_and_return_conditional_losses, leaky_re_lu_layer_call_fn, leaky_re_lu_layer_call_fn, leaky_re_lu_layer_call_and_return_conditional_losses, leaky_re_lu_layer_call_and_return_conditional_losses while saving (showing 5 of 5). These functions will not be directly callable after loading.\n"
          ]
        },
        {
          "output_type": "stream",
          "name": "stdout",
          "text": [
            "INFO:tensorflow:Assets written to: ./my_FFN_model/assets\n"
          ]
        },
        {
          "output_type": "stream",
          "name": "stderr",
          "text": [
            "INFO:tensorflow:Assets written to: ./my_FFN_model/assets\n"
          ]
        },
        {
          "output_type": "stream",
          "name": "stdout",
          "text": [
            "Epoch 69/300\n",
            "8/8 [==============================] - 0s 5ms/step - loss: 0.5876 - accuracy: 0.6987 - val_loss: 0.5911 - val_accuracy: 0.7667\n",
            "Epoch 70/300\n",
            "8/8 [==============================] - 0s 6ms/step - loss: 0.5852 - accuracy: 0.7113 - val_loss: 0.5891 - val_accuracy: 0.7667\n",
            "Epoch 71/300\n",
            "8/8 [==============================] - 0s 5ms/step - loss: 0.5829 - accuracy: 0.7322 - val_loss: 0.5876 - val_accuracy: 0.7667\n",
            "Epoch 72/300\n",
            "8/8 [==============================] - 0s 5ms/step - loss: 0.5806 - accuracy: 0.7406 - val_loss: 0.5852 - val_accuracy: 0.7667\n",
            "Epoch 73/300\n",
            "8/8 [==============================] - 0s 6ms/step - loss: 0.5780 - accuracy: 0.7406 - val_loss: 0.5828 - val_accuracy: 0.7667\n",
            "Epoch 74/300\n",
            "8/8 [==============================] - 0s 5ms/step - loss: 0.5756 - accuracy: 0.7448 - val_loss: 0.5808 - val_accuracy: 0.7667\n",
            "Epoch 75/300\n",
            "8/8 [==============================] - 0s 5ms/step - loss: 0.5731 - accuracy: 0.7531 - val_loss: 0.5785 - val_accuracy: 0.7667\n",
            "Epoch 76/300\n",
            "8/8 [==============================] - 0s 5ms/step - loss: 0.5706 - accuracy: 0.7531 - val_loss: 0.5763 - val_accuracy: 0.7500\n",
            "Epoch 77/300\n",
            "8/8 [==============================] - 0s 4ms/step - loss: 0.5680 - accuracy: 0.7657 - val_loss: 0.5740 - val_accuracy: 0.7500\n",
            "Epoch 78/300\n",
            "8/8 [==============================] - 0s 6ms/step - loss: 0.5650 - accuracy: 0.7615 - val_loss: 0.5706 - val_accuracy: 0.7500\n",
            "Epoch 79/300\n",
            "8/8 [==============================] - 0s 5ms/step - loss: 0.5625 - accuracy: 0.7615 - val_loss: 0.5665 - val_accuracy: 0.7667\n",
            "Epoch 80/300\n",
            "8/8 [==============================] - 0s 5ms/step - loss: 0.5590 - accuracy: 0.7657 - val_loss: 0.5635 - val_accuracy: 0.7500\n",
            "Epoch 81/300\n",
            "8/8 [==============================] - 0s 5ms/step - loss: 0.5562 - accuracy: 0.7657 - val_loss: 0.5594 - val_accuracy: 0.7667\n",
            "Epoch 82/300\n",
            "8/8 [==============================] - 0s 6ms/step - loss: 0.5529 - accuracy: 0.7699 - val_loss: 0.5559 - val_accuracy: 0.7500\n",
            "Epoch 83/300\n",
            "8/8 [==============================] - 0s 4ms/step - loss: 0.5496 - accuracy: 0.7782 - val_loss: 0.5519 - val_accuracy: 0.7500\n",
            "Epoch 84/300\n",
            "8/8 [==============================] - 0s 5ms/step - loss: 0.5461 - accuracy: 0.7866 - val_loss: 0.5476 - val_accuracy: 0.7667\n",
            "Epoch 85/300\n",
            "8/8 [==============================] - 0s 5ms/step - loss: 0.5429 - accuracy: 0.7866 - val_loss: 0.5432 - val_accuracy: 0.7667\n",
            "Epoch 86/300\n",
            "8/8 [==============================] - 0s 6ms/step - loss: 0.5397 - accuracy: 0.7866 - val_loss: 0.5384 - val_accuracy: 0.7667\n",
            "Epoch 87/300\n",
            "8/8 [==============================] - 0s 4ms/step - loss: 0.5362 - accuracy: 0.7908 - val_loss: 0.5341 - val_accuracy: 0.7667\n",
            "Epoch 88/300\n",
            "8/8 [==============================] - 0s 5ms/step - loss: 0.5326 - accuracy: 0.7950 - val_loss: 0.5297 - val_accuracy: 0.7667\n",
            "Epoch 89/300\n",
            "8/8 [==============================] - 0s 5ms/step - loss: 0.5293 - accuracy: 0.8075 - val_loss: 0.5248 - val_accuracy: 0.7667\n",
            "Epoch 90/300\n",
            "8/8 [==============================] - 0s 6ms/step - loss: 0.5251 - accuracy: 0.8075 - val_loss: 0.5197 - val_accuracy: 0.7667\n",
            "Epoch 91/300\n",
            "8/8 [==============================] - 0s 5ms/step - loss: 0.5220 - accuracy: 0.8033 - val_loss: 0.5146 - val_accuracy: 0.7667\n",
            "Epoch 92/300\n",
            "8/8 [==============================] - 0s 5ms/step - loss: 0.5189 - accuracy: 0.8033 - val_loss: 0.5096 - val_accuracy: 0.7667\n",
            "Epoch 93/300\n",
            "8/8 [==============================] - 0s 5ms/step - loss: 0.5142 - accuracy: 0.8033 - val_loss: 0.5058 - val_accuracy: 0.7667\n",
            "Epoch 94/300\n",
            "8/8 [==============================] - 0s 5ms/step - loss: 0.5109 - accuracy: 0.7992 - val_loss: 0.5016 - val_accuracy: 0.8000\n"
          ]
        },
        {
          "output_type": "stream",
          "name": "stderr",
          "text": [
            "WARNING:absl:Found untraced functions such as leaky_re_lu_layer_call_and_return_conditional_losses, leaky_re_lu_layer_call_fn, leaky_re_lu_layer_call_fn, leaky_re_lu_layer_call_and_return_conditional_losses, leaky_re_lu_layer_call_and_return_conditional_losses while saving (showing 5 of 5). These functions will not be directly callable after loading.\n"
          ]
        },
        {
          "output_type": "stream",
          "name": "stdout",
          "text": [
            "INFO:tensorflow:Assets written to: ./my_FFN_model/assets\n"
          ]
        },
        {
          "output_type": "stream",
          "name": "stderr",
          "text": [
            "INFO:tensorflow:Assets written to: ./my_FFN_model/assets\n"
          ]
        },
        {
          "output_type": "stream",
          "name": "stdout",
          "text": [
            "Epoch 95/300\n",
            "8/8 [==============================] - 0s 5ms/step - loss: 0.5081 - accuracy: 0.8075 - val_loss: 0.4967 - val_accuracy: 0.8167\n"
          ]
        },
        {
          "output_type": "stream",
          "name": "stderr",
          "text": [
            "WARNING:absl:Found untraced functions such as leaky_re_lu_layer_call_and_return_conditional_losses, leaky_re_lu_layer_call_fn, leaky_re_lu_layer_call_fn, leaky_re_lu_layer_call_and_return_conditional_losses, leaky_re_lu_layer_call_and_return_conditional_losses while saving (showing 5 of 5). These functions will not be directly callable after loading.\n"
          ]
        },
        {
          "output_type": "stream",
          "name": "stdout",
          "text": [
            "INFO:tensorflow:Assets written to: ./my_FFN_model/assets\n"
          ]
        },
        {
          "output_type": "stream",
          "name": "stderr",
          "text": [
            "INFO:tensorflow:Assets written to: ./my_FFN_model/assets\n"
          ]
        },
        {
          "output_type": "stream",
          "name": "stdout",
          "text": [
            "Epoch 96/300\n",
            "8/8 [==============================] - 0s 5ms/step - loss: 0.5042 - accuracy: 0.8075 - val_loss: 0.4915 - val_accuracy: 0.8167\n",
            "Epoch 97/300\n",
            "8/8 [==============================] - 0s 5ms/step - loss: 0.5006 - accuracy: 0.8075 - val_loss: 0.4867 - val_accuracy: 0.8167\n",
            "Epoch 98/300\n",
            "8/8 [==============================] - 0s 6ms/step - loss: 0.4977 - accuracy: 0.8117 - val_loss: 0.4817 - val_accuracy: 0.8167\n",
            "Epoch 99/300\n",
            "8/8 [==============================] - 0s 5ms/step - loss: 0.4942 - accuracy: 0.8117 - val_loss: 0.4765 - val_accuracy: 0.8333\n"
          ]
        },
        {
          "output_type": "stream",
          "name": "stderr",
          "text": [
            "WARNING:absl:Found untraced functions such as leaky_re_lu_layer_call_and_return_conditional_losses, leaky_re_lu_layer_call_fn, leaky_re_lu_layer_call_fn, leaky_re_lu_layer_call_and_return_conditional_losses, leaky_re_lu_layer_call_and_return_conditional_losses while saving (showing 5 of 5). These functions will not be directly callable after loading.\n"
          ]
        },
        {
          "output_type": "stream",
          "name": "stdout",
          "text": [
            "INFO:tensorflow:Assets written to: ./my_FFN_model/assets\n"
          ]
        },
        {
          "output_type": "stream",
          "name": "stderr",
          "text": [
            "INFO:tensorflow:Assets written to: ./my_FFN_model/assets\n"
          ]
        },
        {
          "output_type": "stream",
          "name": "stdout",
          "text": [
            "Epoch 100/300\n",
            "8/8 [==============================] - 0s 5ms/step - loss: 0.4910 - accuracy: 0.8117 - val_loss: 0.4718 - val_accuracy: 0.8333\n",
            "Epoch 101/300\n",
            "8/8 [==============================] - 0s 5ms/step - loss: 0.4871 - accuracy: 0.8117 - val_loss: 0.4677 - val_accuracy: 0.8333\n",
            "Epoch 102/300\n",
            "8/8 [==============================] - 0s 5ms/step - loss: 0.4841 - accuracy: 0.8201 - val_loss: 0.4628 - val_accuracy: 0.8333\n",
            "Epoch 103/300\n",
            "8/8 [==============================] - 0s 5ms/step - loss: 0.4809 - accuracy: 0.8201 - val_loss: 0.4587 - val_accuracy: 0.8500\n"
          ]
        },
        {
          "output_type": "stream",
          "name": "stderr",
          "text": [
            "WARNING:absl:Found untraced functions such as leaky_re_lu_layer_call_and_return_conditional_losses, leaky_re_lu_layer_call_fn, leaky_re_lu_layer_call_fn, leaky_re_lu_layer_call_and_return_conditional_losses, leaky_re_lu_layer_call_and_return_conditional_losses while saving (showing 5 of 5). These functions will not be directly callable after loading.\n"
          ]
        },
        {
          "output_type": "stream",
          "name": "stdout",
          "text": [
            "INFO:tensorflow:Assets written to: ./my_FFN_model/assets\n"
          ]
        },
        {
          "output_type": "stream",
          "name": "stderr",
          "text": [
            "INFO:tensorflow:Assets written to: ./my_FFN_model/assets\n"
          ]
        },
        {
          "output_type": "stream",
          "name": "stdout",
          "text": [
            "Epoch 104/300\n",
            "8/8 [==============================] - 0s 5ms/step - loss: 0.4773 - accuracy: 0.8201 - val_loss: 0.4541 - val_accuracy: 0.8500\n",
            "Epoch 105/300\n",
            "8/8 [==============================] - 0s 5ms/step - loss: 0.4743 - accuracy: 0.8243 - val_loss: 0.4497 - val_accuracy: 0.8667\n"
          ]
        },
        {
          "output_type": "stream",
          "name": "stderr",
          "text": [
            "WARNING:absl:Found untraced functions such as leaky_re_lu_layer_call_and_return_conditional_losses, leaky_re_lu_layer_call_fn, leaky_re_lu_layer_call_fn, leaky_re_lu_layer_call_and_return_conditional_losses, leaky_re_lu_layer_call_and_return_conditional_losses while saving (showing 5 of 5). These functions will not be directly callable after loading.\n"
          ]
        },
        {
          "output_type": "stream",
          "name": "stdout",
          "text": [
            "INFO:tensorflow:Assets written to: ./my_FFN_model/assets\n"
          ]
        },
        {
          "output_type": "stream",
          "name": "stderr",
          "text": [
            "INFO:tensorflow:Assets written to: ./my_FFN_model/assets\n"
          ]
        },
        {
          "output_type": "stream",
          "name": "stdout",
          "text": [
            "Epoch 106/300\n",
            "8/8 [==============================] - 0s 6ms/step - loss: 0.4715 - accuracy: 0.8201 - val_loss: 0.4454 - val_accuracy: 0.8667\n",
            "Epoch 107/300\n",
            "8/8 [==============================] - 0s 6ms/step - loss: 0.4684 - accuracy: 0.8243 - val_loss: 0.4416 - val_accuracy: 0.8667\n",
            "Epoch 108/300\n",
            "8/8 [==============================] - 0s 6ms/step - loss: 0.4656 - accuracy: 0.8201 - val_loss: 0.4380 - val_accuracy: 0.8667\n",
            "Epoch 109/300\n",
            "8/8 [==============================] - 0s 6ms/step - loss: 0.4631 - accuracy: 0.8243 - val_loss: 0.4343 - val_accuracy: 0.8667\n",
            "Epoch 110/300\n",
            "8/8 [==============================] - 0s 6ms/step - loss: 0.4600 - accuracy: 0.8285 - val_loss: 0.4301 - val_accuracy: 0.8667\n",
            "Epoch 111/300\n",
            "8/8 [==============================] - 0s 8ms/step - loss: 0.4582 - accuracy: 0.8410 - val_loss: 0.4277 - val_accuracy: 0.8500\n",
            "Epoch 112/300\n",
            "8/8 [==============================] - 0s 6ms/step - loss: 0.4548 - accuracy: 0.8494 - val_loss: 0.4238 - val_accuracy: 0.8667\n",
            "Epoch 113/300\n",
            "8/8 [==============================] - 0s 6ms/step - loss: 0.4527 - accuracy: 0.8368 - val_loss: 0.4208 - val_accuracy: 0.8667\n",
            "Epoch 114/300\n",
            "8/8 [==============================] - 0s 6ms/step - loss: 0.4505 - accuracy: 0.8410 - val_loss: 0.4173 - val_accuracy: 0.8667\n",
            "Epoch 115/300\n",
            "8/8 [==============================] - 0s 6ms/step - loss: 0.4473 - accuracy: 0.8494 - val_loss: 0.4143 - val_accuracy: 0.8667\n",
            "Epoch 116/300\n",
            "8/8 [==============================] - 0s 5ms/step - loss: 0.4449 - accuracy: 0.8536 - val_loss: 0.4109 - val_accuracy: 0.8667\n",
            "Epoch 117/300\n",
            "8/8 [==============================] - 0s 7ms/step - loss: 0.4430 - accuracy: 0.8494 - val_loss: 0.4080 - val_accuracy: 0.8667\n",
            "Epoch 118/300\n",
            "8/8 [==============================] - 0s 6ms/step - loss: 0.4406 - accuracy: 0.8536 - val_loss: 0.4051 - val_accuracy: 0.8667\n",
            "Epoch 119/300\n",
            "8/8 [==============================] - 0s 6ms/step - loss: 0.4383 - accuracy: 0.8536 - val_loss: 0.4022 - val_accuracy: 0.8667\n",
            "Epoch 120/300\n",
            "8/8 [==============================] - 0s 5ms/step - loss: 0.4363 - accuracy: 0.8536 - val_loss: 0.3995 - val_accuracy: 0.8667\n",
            "Epoch 121/300\n",
            "8/8 [==============================] - 0s 6ms/step - loss: 0.4347 - accuracy: 0.8577 - val_loss: 0.3979 - val_accuracy: 0.8500\n",
            "Epoch 122/300\n",
            "8/8 [==============================] - 0s 5ms/step - loss: 0.4329 - accuracy: 0.8577 - val_loss: 0.3967 - val_accuracy: 0.8500\n",
            "Epoch 123/300\n",
            "8/8 [==============================] - 0s 6ms/step - loss: 0.4308 - accuracy: 0.8577 - val_loss: 0.3932 - val_accuracy: 0.8667\n",
            "Epoch 124/300\n",
            "8/8 [==============================] - 0s 6ms/step - loss: 0.4289 - accuracy: 0.8577 - val_loss: 0.3910 - val_accuracy: 0.8667\n",
            "Epoch 125/300\n",
            "8/8 [==============================] - 0s 8ms/step - loss: 0.4286 - accuracy: 0.8536 - val_loss: 0.3893 - val_accuracy: 0.8500\n",
            "Epoch 126/300\n",
            "8/8 [==============================] - 0s 6ms/step - loss: 0.4249 - accuracy: 0.8536 - val_loss: 0.3876 - val_accuracy: 0.8667\n",
            "Epoch 127/300\n",
            "8/8 [==============================] - 0s 5ms/step - loss: 0.4234 - accuracy: 0.8619 - val_loss: 0.3869 - val_accuracy: 0.8167\n",
            "Epoch 128/300\n",
            "8/8 [==============================] - 0s 5ms/step - loss: 0.4231 - accuracy: 0.8661 - val_loss: 0.3852 - val_accuracy: 0.8167\n",
            "Epoch 129/300\n",
            "8/8 [==============================] - 0s 6ms/step - loss: 0.4206 - accuracy: 0.8619 - val_loss: 0.3829 - val_accuracy: 0.8333\n",
            "Epoch 130/300\n",
            "8/8 [==============================] - 0s 6ms/step - loss: 0.4186 - accuracy: 0.8619 - val_loss: 0.3813 - val_accuracy: 0.8333\n",
            "Epoch 131/300\n",
            "8/8 [==============================] - 0s 6ms/step - loss: 0.4170 - accuracy: 0.8577 - val_loss: 0.3802 - val_accuracy: 0.8500\n",
            "Epoch 132/300\n",
            "8/8 [==============================] - 0s 5ms/step - loss: 0.4158 - accuracy: 0.8577 - val_loss: 0.3783 - val_accuracy: 0.8333\n",
            "Epoch 133/300\n",
            "8/8 [==============================] - 0s 5ms/step - loss: 0.4147 - accuracy: 0.8577 - val_loss: 0.3768 - val_accuracy: 0.8333\n",
            "Epoch 134/300\n",
            "8/8 [==============================] - 0s 6ms/step - loss: 0.4171 - accuracy: 0.8577 - val_loss: 0.3756 - val_accuracy: 0.8167\n",
            "Epoch 135/300\n",
            "8/8 [==============================] - 0s 5ms/step - loss: 0.4113 - accuracy: 0.8661 - val_loss: 0.3742 - val_accuracy: 0.8333\n",
            "Epoch 136/300\n",
            "8/8 [==============================] - 0s 5ms/step - loss: 0.4106 - accuracy: 0.8619 - val_loss: 0.3728 - val_accuracy: 0.8333\n",
            "Epoch 137/300\n",
            "8/8 [==============================] - 0s 5ms/step - loss: 0.4090 - accuracy: 0.8619 - val_loss: 0.3711 - val_accuracy: 0.8333\n",
            "Epoch 138/300\n",
            "8/8 [==============================] - 0s 5ms/step - loss: 0.4072 - accuracy: 0.8619 - val_loss: 0.3701 - val_accuracy: 0.8333\n",
            "Epoch 139/300\n",
            "8/8 [==============================] - 0s 5ms/step - loss: 0.4082 - accuracy: 0.8661 - val_loss: 0.3705 - val_accuracy: 0.8500\n",
            "Epoch 140/300\n",
            "8/8 [==============================] - 0s 7ms/step - loss: 0.4058 - accuracy: 0.8703 - val_loss: 0.3686 - val_accuracy: 0.8167\n",
            "Epoch 141/300\n",
            "8/8 [==============================] - 0s 5ms/step - loss: 0.4054 - accuracy: 0.8661 - val_loss: 0.3681 - val_accuracy: 0.8500\n",
            "Epoch 142/300\n",
            "8/8 [==============================] - 0s 6ms/step - loss: 0.4049 - accuracy: 0.8661 - val_loss: 0.3674 - val_accuracy: 0.8333\n",
            "Epoch 143/300\n",
            "8/8 [==============================] - 0s 6ms/step - loss: 0.4030 - accuracy: 0.8661 - val_loss: 0.3665 - val_accuracy: 0.8167\n",
            "Epoch 144/300\n",
            "8/8 [==============================] - 0s 6ms/step - loss: 0.4017 - accuracy: 0.8619 - val_loss: 0.3655 - val_accuracy: 0.8167\n",
            "Epoch 145/300\n",
            "8/8 [==============================] - 0s 5ms/step - loss: 0.4006 - accuracy: 0.8661 - val_loss: 0.3644 - val_accuracy: 0.8333\n",
            "Epoch 146/300\n",
            "8/8 [==============================] - 0s 5ms/step - loss: 0.3997 - accuracy: 0.8661 - val_loss: 0.3633 - val_accuracy: 0.8333\n",
            "Epoch 147/300\n",
            "8/8 [==============================] - 0s 6ms/step - loss: 0.3986 - accuracy: 0.8661 - val_loss: 0.3625 - val_accuracy: 0.8333\n",
            "Epoch 148/300\n",
            "8/8 [==============================] - 0s 6ms/step - loss: 0.3979 - accuracy: 0.8661 - val_loss: 0.3609 - val_accuracy: 0.8333\n",
            "Epoch 149/300\n",
            "8/8 [==============================] - 0s 7ms/step - loss: 0.3974 - accuracy: 0.8661 - val_loss: 0.3603 - val_accuracy: 0.8333\n",
            "Epoch 150/300\n",
            "8/8 [==============================] - 0s 6ms/step - loss: 0.3963 - accuracy: 0.8661 - val_loss: 0.3598 - val_accuracy: 0.8333\n",
            "Epoch 151/300\n",
            "8/8 [==============================] - 0s 5ms/step - loss: 0.3956 - accuracy: 0.8661 - val_loss: 0.3592 - val_accuracy: 0.8333\n",
            "Epoch 152/300\n",
            "8/8 [==============================] - 0s 5ms/step - loss: 0.3950 - accuracy: 0.8703 - val_loss: 0.3589 - val_accuracy: 0.8333\n",
            "Epoch 153/300\n",
            "8/8 [==============================] - 0s 5ms/step - loss: 0.3943 - accuracy: 0.8703 - val_loss: 0.3585 - val_accuracy: 0.8500\n",
            "Epoch 154/300\n",
            "8/8 [==============================] - 0s 6ms/step - loss: 0.3934 - accuracy: 0.8703 - val_loss: 0.3573 - val_accuracy: 0.8500\n",
            "Epoch 155/300\n",
            "8/8 [==============================] - 0s 6ms/step - loss: 0.3926 - accuracy: 0.8703 - val_loss: 0.3577 - val_accuracy: 0.8333\n",
            "Epoch 156/300\n",
            "8/8 [==============================] - 0s 6ms/step - loss: 0.3922 - accuracy: 0.8661 - val_loss: 0.3570 - val_accuracy: 0.8500\n",
            "Epoch 157/300\n",
            "8/8 [==============================] - 0s 6ms/step - loss: 0.3914 - accuracy: 0.8661 - val_loss: 0.3564 - val_accuracy: 0.8333\n",
            "Epoch 158/300\n",
            "8/8 [==============================] - 0s 6ms/step - loss: 0.3910 - accuracy: 0.8703 - val_loss: 0.3564 - val_accuracy: 0.8333\n",
            "Epoch 159/300\n",
            "8/8 [==============================] - 0s 6ms/step - loss: 0.3905 - accuracy: 0.8661 - val_loss: 0.3563 - val_accuracy: 0.8500\n",
            "Epoch 160/300\n",
            "8/8 [==============================] - 0s 5ms/step - loss: 0.3898 - accuracy: 0.8661 - val_loss: 0.3554 - val_accuracy: 0.8500\n",
            "Epoch 161/300\n",
            "8/8 [==============================] - 0s 5ms/step - loss: 0.3901 - accuracy: 0.8703 - val_loss: 0.3545 - val_accuracy: 0.8500\n",
            "Epoch 162/300\n",
            "8/8 [==============================] - 0s 5ms/step - loss: 0.3891 - accuracy: 0.8703 - val_loss: 0.3541 - val_accuracy: 0.8333\n",
            "Epoch 163/300\n",
            "8/8 [==============================] - 0s 6ms/step - loss: 0.3882 - accuracy: 0.8703 - val_loss: 0.3540 - val_accuracy: 0.8333\n",
            "Epoch 164/300\n",
            "8/8 [==============================] - 0s 8ms/step - loss: 0.3875 - accuracy: 0.8703 - val_loss: 0.3536 - val_accuracy: 0.8500\n",
            "Epoch 165/300\n",
            "8/8 [==============================] - 0s 5ms/step - loss: 0.3873 - accuracy: 0.8703 - val_loss: 0.3535 - val_accuracy: 0.8333\n",
            "Epoch 166/300\n",
            "8/8 [==============================] - 0s 6ms/step - loss: 0.3865 - accuracy: 0.8703 - val_loss: 0.3536 - val_accuracy: 0.8333\n",
            "Epoch 167/300\n",
            "8/8 [==============================] - 0s 6ms/step - loss: 0.3862 - accuracy: 0.8703 - val_loss: 0.3537 - val_accuracy: 0.8333\n",
            "Epoch 168/300\n",
            "8/8 [==============================] - 0s 6ms/step - loss: 0.3868 - accuracy: 0.8703 - val_loss: 0.3536 - val_accuracy: 0.8500\n",
            "Epoch 169/300\n",
            "8/8 [==============================] - 0s 6ms/step - loss: 0.3850 - accuracy: 0.8703 - val_loss: 0.3526 - val_accuracy: 0.8333\n",
            "Epoch 170/300\n",
            "8/8 [==============================] - 0s 5ms/step - loss: 0.3850 - accuracy: 0.8703 - val_loss: 0.3534 - val_accuracy: 0.8500\n",
            "Epoch 171/300\n",
            "8/8 [==============================] - 0s 6ms/step - loss: 0.3848 - accuracy: 0.8703 - val_loss: 0.3525 - val_accuracy: 0.8500\n",
            "Epoch 172/300\n",
            "8/8 [==============================] - 0s 7ms/step - loss: 0.3842 - accuracy: 0.8703 - val_loss: 0.3531 - val_accuracy: 0.8333\n",
            "Epoch 173/300\n",
            "8/8 [==============================] - 0s 6ms/step - loss: 0.3825 - accuracy: 0.8703 - val_loss: 0.3530 - val_accuracy: 0.8333\n",
            "Epoch 174/300\n",
            "8/8 [==============================] - 0s 6ms/step - loss: 0.3842 - accuracy: 0.8703 - val_loss: 0.3537 - val_accuracy: 0.8333\n",
            "Epoch 175/300\n",
            "8/8 [==============================] - 0s 5ms/step - loss: 0.3834 - accuracy: 0.8703 - val_loss: 0.3519 - val_accuracy: 0.8333\n",
            "Epoch 176/300\n",
            "8/8 [==============================] - 0s 6ms/step - loss: 0.3819 - accuracy: 0.8703 - val_loss: 0.3518 - val_accuracy: 0.8333\n",
            "Epoch 177/300\n",
            "8/8 [==============================] - 0s 5ms/step - loss: 0.3816 - accuracy: 0.8703 - val_loss: 0.3511 - val_accuracy: 0.8333\n",
            "Epoch 178/300\n",
            "8/8 [==============================] - 0s 5ms/step - loss: 0.3809 - accuracy: 0.8703 - val_loss: 0.3514 - val_accuracy: 0.8333\n",
            "Epoch 179/300\n",
            "8/8 [==============================] - 0s 5ms/step - loss: 0.3801 - accuracy: 0.8703 - val_loss: 0.3526 - val_accuracy: 0.8333\n",
            "Epoch 180/300\n",
            "8/8 [==============================] - 0s 7ms/step - loss: 0.3809 - accuracy: 0.8703 - val_loss: 0.3538 - val_accuracy: 0.8333\n",
            "Epoch 181/300\n",
            "8/8 [==============================] - 0s 6ms/step - loss: 0.3799 - accuracy: 0.8703 - val_loss: 0.3536 - val_accuracy: 0.8333\n",
            "Epoch 182/300\n",
            "8/8 [==============================] - 0s 5ms/step - loss: 0.3790 - accuracy: 0.8703 - val_loss: 0.3537 - val_accuracy: 0.8333\n",
            "Epoch 183/300\n",
            "8/8 [==============================] - 0s 7ms/step - loss: 0.3787 - accuracy: 0.8703 - val_loss: 0.3536 - val_accuracy: 0.8333\n",
            "Epoch 184/300\n",
            "8/8 [==============================] - 0s 5ms/step - loss: 0.3780 - accuracy: 0.8703 - val_loss: 0.3541 - val_accuracy: 0.8333\n",
            "Epoch 185/300\n",
            "8/8 [==============================] - 0s 6ms/step - loss: 0.3777 - accuracy: 0.8703 - val_loss: 0.3543 - val_accuracy: 0.8333\n",
            "Epoch 186/300\n",
            "8/8 [==============================] - 0s 6ms/step - loss: 0.3769 - accuracy: 0.8703 - val_loss: 0.3549 - val_accuracy: 0.8333\n",
            "Epoch 187/300\n",
            "8/8 [==============================] - 0s 8ms/step - loss: 0.3778 - accuracy: 0.8661 - val_loss: 0.3550 - val_accuracy: 0.8333\n",
            "Epoch 188/300\n",
            "8/8 [==============================] - 0s 6ms/step - loss: 0.3766 - accuracy: 0.8703 - val_loss: 0.3548 - val_accuracy: 0.8333\n",
            "Epoch 189/300\n",
            "8/8 [==============================] - 0s 5ms/step - loss: 0.3754 - accuracy: 0.8703 - val_loss: 0.3543 - val_accuracy: 0.8333\n",
            "Epoch 190/300\n",
            "8/8 [==============================] - 0s 6ms/step - loss: 0.3754 - accuracy: 0.8703 - val_loss: 0.3547 - val_accuracy: 0.8333\n",
            "Epoch 191/300\n",
            "8/8 [==============================] - 0s 6ms/step - loss: 0.3749 - accuracy: 0.8703 - val_loss: 0.3544 - val_accuracy: 0.8333\n",
            "Epoch 192/300\n",
            "8/8 [==============================] - 0s 5ms/step - loss: 0.3740 - accuracy: 0.8703 - val_loss: 0.3552 - val_accuracy: 0.8333\n",
            "Epoch 193/300\n",
            "8/8 [==============================] - 0s 5ms/step - loss: 0.3728 - accuracy: 0.8661 - val_loss: 0.3556 - val_accuracy: 0.8333\n",
            "Epoch 194/300\n",
            "8/8 [==============================] - 0s 6ms/step - loss: 0.3735 - accuracy: 0.8703 - val_loss: 0.3571 - val_accuracy: 0.8167\n",
            "Epoch 195/300\n",
            "8/8 [==============================] - 0s 6ms/step - loss: 0.3730 - accuracy: 0.8661 - val_loss: 0.3573 - val_accuracy: 0.8333\n",
            "Epoch 196/300\n",
            "8/8 [==============================] - 0s 6ms/step - loss: 0.3715 - accuracy: 0.8661 - val_loss: 0.3572 - val_accuracy: 0.8333\n",
            "Epoch 197/300\n",
            "8/8 [==============================] - 0s 5ms/step - loss: 0.3713 - accuracy: 0.8661 - val_loss: 0.3578 - val_accuracy: 0.8333\n",
            "Epoch 198/300\n",
            "8/8 [==============================] - 0s 6ms/step - loss: 0.3713 - accuracy: 0.8661 - val_loss: 0.3575 - val_accuracy: 0.8333\n",
            "Epoch 199/300\n",
            "8/8 [==============================] - 0s 6ms/step - loss: 0.3702 - accuracy: 0.8661 - val_loss: 0.3571 - val_accuracy: 0.8333\n",
            "Epoch 200/300\n",
            "8/8 [==============================] - 0s 6ms/step - loss: 0.3701 - accuracy: 0.8661 - val_loss: 0.3572 - val_accuracy: 0.8333\n",
            "Epoch 201/300\n",
            "8/8 [==============================] - 0s 6ms/step - loss: 0.3690 - accuracy: 0.8661 - val_loss: 0.3586 - val_accuracy: 0.8167\n",
            "Epoch 202/300\n",
            "8/8 [==============================] - 0s 6ms/step - loss: 0.3694 - accuracy: 0.8661 - val_loss: 0.3586 - val_accuracy: 0.8167\n",
            "Epoch 203/300\n",
            "8/8 [==============================] - 0s 5ms/step - loss: 0.3682 - accuracy: 0.8661 - val_loss: 0.3577 - val_accuracy: 0.8333\n",
            "Epoch 204/300\n",
            "8/8 [==============================] - 0s 6ms/step - loss: 0.3691 - accuracy: 0.8661 - val_loss: 0.3583 - val_accuracy: 0.8333\n",
            "Epoch 205/300\n",
            "8/8 [==============================] - 0s 7ms/step - loss: 0.3678 - accuracy: 0.8661 - val_loss: 0.3579 - val_accuracy: 0.8333\n",
            "Epoch 206/300\n",
            "8/8 [==============================] - 0s 6ms/step - loss: 0.3672 - accuracy: 0.8661 - val_loss: 0.3586 - val_accuracy: 0.8167\n",
            "Epoch 207/300\n",
            "8/8 [==============================] - 0s 6ms/step - loss: 0.3666 - accuracy: 0.8661 - val_loss: 0.3594 - val_accuracy: 0.8167\n",
            "Epoch 208/300\n",
            "8/8 [==============================] - 0s 7ms/step - loss: 0.3662 - accuracy: 0.8661 - val_loss: 0.3593 - val_accuracy: 0.8333\n",
            "Epoch 209/300\n",
            "8/8 [==============================] - 0s 5ms/step - loss: 0.3661 - accuracy: 0.8661 - val_loss: 0.3599 - val_accuracy: 0.8333\n",
            "Epoch 210/300\n",
            "8/8 [==============================] - 0s 6ms/step - loss: 0.3652 - accuracy: 0.8661 - val_loss: 0.3605 - val_accuracy: 0.8167\n",
            "Epoch 211/300\n",
            "8/8 [==============================] - 0s 6ms/step - loss: 0.3647 - accuracy: 0.8745 - val_loss: 0.3614 - val_accuracy: 0.8167\n",
            "Epoch 212/300\n",
            "8/8 [==============================] - 0s 6ms/step - loss: 0.3647 - accuracy: 0.8745 - val_loss: 0.3609 - val_accuracy: 0.8167\n",
            "Epoch 213/300\n",
            "8/8 [==============================] - 0s 6ms/step - loss: 0.3662 - accuracy: 0.8703 - val_loss: 0.3608 - val_accuracy: 0.8333\n",
            "Epoch 214/300\n",
            "8/8 [==============================] - 0s 7ms/step - loss: 0.3632 - accuracy: 0.8661 - val_loss: 0.3612 - val_accuracy: 0.8167\n",
            "Epoch 215/300\n",
            "8/8 [==============================] - 0s 6ms/step - loss: 0.3631 - accuracy: 0.8703 - val_loss: 0.3623 - val_accuracy: 0.8167\n",
            "Epoch 216/300\n",
            "8/8 [==============================] - 0s 6ms/step - loss: 0.3629 - accuracy: 0.8745 - val_loss: 0.3626 - val_accuracy: 0.8000\n",
            "Epoch 217/300\n",
            "8/8 [==============================] - 0s 7ms/step - loss: 0.3626 - accuracy: 0.8703 - val_loss: 0.3632 - val_accuracy: 0.8167\n",
            "Epoch 218/300\n",
            "8/8 [==============================] - 0s 6ms/step - loss: 0.3617 - accuracy: 0.8703 - val_loss: 0.3640 - val_accuracy: 0.8167\n",
            "Epoch 219/300\n",
            "8/8 [==============================] - 0s 6ms/step - loss: 0.3622 - accuracy: 0.8745 - val_loss: 0.3646 - val_accuracy: 0.8333\n",
            "Epoch 220/300\n",
            "8/8 [==============================] - 0s 6ms/step - loss: 0.3615 - accuracy: 0.8745 - val_loss: 0.3648 - val_accuracy: 0.8167\n",
            "Epoch 221/300\n",
            "8/8 [==============================] - 0s 5ms/step - loss: 0.3610 - accuracy: 0.8703 - val_loss: 0.3664 - val_accuracy: 0.8167\n",
            "Epoch 222/300\n",
            "8/8 [==============================] - 0s 5ms/step - loss: 0.3604 - accuracy: 0.8703 - val_loss: 0.3664 - val_accuracy: 0.8333\n",
            "Epoch 223/300\n",
            "8/8 [==============================] - 0s 7ms/step - loss: 0.3602 - accuracy: 0.8703 - val_loss: 0.3665 - val_accuracy: 0.8333\n",
            "Epoch 224/300\n",
            "8/8 [==============================] - 0s 5ms/step - loss: 0.3592 - accuracy: 0.8745 - val_loss: 0.3677 - val_accuracy: 0.8167\n",
            "Epoch 225/300\n",
            "8/8 [==============================] - 0s 6ms/step - loss: 0.3592 - accuracy: 0.8745 - val_loss: 0.3673 - val_accuracy: 0.8333\n",
            "Epoch 226/300\n",
            "8/8 [==============================] - 0s 7ms/step - loss: 0.3586 - accuracy: 0.8745 - val_loss: 0.3665 - val_accuracy: 0.8333\n",
            "Epoch 227/300\n",
            "8/8 [==============================] - 0s 6ms/step - loss: 0.3591 - accuracy: 0.8661 - val_loss: 0.3662 - val_accuracy: 0.8333\n",
            "Epoch 228/300\n",
            "8/8 [==============================] - 0s 6ms/step - loss: 0.3588 - accuracy: 0.8661 - val_loss: 0.3667 - val_accuracy: 0.8167\n",
            "Epoch 229/300\n",
            "8/8 [==============================] - 0s 8ms/step - loss: 0.3576 - accuracy: 0.8703 - val_loss: 0.3677 - val_accuracy: 0.8167\n",
            "Epoch 230/300\n",
            "8/8 [==============================] - 0s 6ms/step - loss: 0.3585 - accuracy: 0.8703 - val_loss: 0.3677 - val_accuracy: 0.8167\n",
            "Epoch 231/300\n",
            "8/8 [==============================] - 0s 6ms/step - loss: 0.3576 - accuracy: 0.8745 - val_loss: 0.3687 - val_accuracy: 0.8167\n",
            "Epoch 232/300\n",
            "8/8 [==============================] - 0s 6ms/step - loss: 0.3575 - accuracy: 0.8745 - val_loss: 0.3689 - val_accuracy: 0.8167\n",
            "Epoch 233/300\n",
            "8/8 [==============================] - 0s 6ms/step - loss: 0.3567 - accuracy: 0.8745 - val_loss: 0.3700 - val_accuracy: 0.8167\n",
            "Epoch 234/300\n",
            "8/8 [==============================] - 0s 6ms/step - loss: 0.3561 - accuracy: 0.8745 - val_loss: 0.3697 - val_accuracy: 0.8167\n",
            "Epoch 235/300\n",
            "8/8 [==============================] - 0s 6ms/step - loss: 0.3554 - accuracy: 0.8703 - val_loss: 0.3694 - val_accuracy: 0.8167\n",
            "Epoch 236/300\n",
            "8/8 [==============================] - 0s 7ms/step - loss: 0.3562 - accuracy: 0.8661 - val_loss: 0.3697 - val_accuracy: 0.8167\n",
            "Epoch 237/300\n",
            "8/8 [==============================] - 0s 5ms/step - loss: 0.3560 - accuracy: 0.8703 - val_loss: 0.3705 - val_accuracy: 0.8167\n",
            "Epoch 238/300\n",
            "8/8 [==============================] - 0s 6ms/step - loss: 0.3549 - accuracy: 0.8745 - val_loss: 0.3707 - val_accuracy: 0.8167\n",
            "Epoch 239/300\n",
            "8/8 [==============================] - 0s 7ms/step - loss: 0.3547 - accuracy: 0.8745 - val_loss: 0.3713 - val_accuracy: 0.8167\n",
            "Epoch 240/300\n",
            "8/8 [==============================] - 0s 6ms/step - loss: 0.3540 - accuracy: 0.8745 - val_loss: 0.3715 - val_accuracy: 0.8167\n",
            "Epoch 241/300\n",
            "8/8 [==============================] - 0s 7ms/step - loss: 0.3541 - accuracy: 0.8745 - val_loss: 0.3727 - val_accuracy: 0.8167\n",
            "Epoch 242/300\n",
            "8/8 [==============================] - 0s 6ms/step - loss: 0.3536 - accuracy: 0.8745 - val_loss: 0.3719 - val_accuracy: 0.8167\n",
            "Epoch 243/300\n",
            "8/8 [==============================] - 0s 6ms/step - loss: 0.3539 - accuracy: 0.8745 - val_loss: 0.3726 - val_accuracy: 0.8167\n",
            "Epoch 244/300\n",
            "8/8 [==============================] - 0s 7ms/step - loss: 0.3533 - accuracy: 0.8745 - val_loss: 0.3727 - val_accuracy: 0.8167\n",
            "Epoch 245/300\n",
            "8/8 [==============================] - 0s 5ms/step - loss: 0.3529 - accuracy: 0.8787 - val_loss: 0.3735 - val_accuracy: 0.8167\n",
            "Epoch 246/300\n",
            "8/8 [==============================] - 0s 6ms/step - loss: 0.3525 - accuracy: 0.8745 - val_loss: 0.3736 - val_accuracy: 0.8167\n",
            "Epoch 247/300\n",
            "8/8 [==============================] - 0s 5ms/step - loss: 0.3526 - accuracy: 0.8745 - val_loss: 0.3738 - val_accuracy: 0.8167\n",
            "Epoch 248/300\n",
            "8/8 [==============================] - 0s 5ms/step - loss: 0.3522 - accuracy: 0.8745 - val_loss: 0.3752 - val_accuracy: 0.8167\n",
            "Epoch 249/300\n",
            "8/8 [==============================] - 0s 6ms/step - loss: 0.3519 - accuracy: 0.8745 - val_loss: 0.3746 - val_accuracy: 0.8167\n",
            "Epoch 250/300\n",
            "8/8 [==============================] - 0s 6ms/step - loss: 0.3525 - accuracy: 0.8703 - val_loss: 0.3744 - val_accuracy: 0.8167\n",
            "Epoch 251/300\n",
            "8/8 [==============================] - 0s 6ms/step - loss: 0.3526 - accuracy: 0.8703 - val_loss: 0.3740 - val_accuracy: 0.8167\n",
            "Epoch 252/300\n",
            "8/8 [==============================] - 0s 6ms/step - loss: 0.3522 - accuracy: 0.8787 - val_loss: 0.3761 - val_accuracy: 0.8500\n"
          ]
        }
      ]
    },
    {
      "cell_type": "code",
      "metadata": {
        "colab": {
          "base_uri": "https://localhost:8080/"
        },
        "id": "NJs8LeXPfN8i",
        "outputId": "0e5d5175-e6af-4fd5-891e-b3427b44c9f0"
      },
      "source": [
        "model.evaluate(x_test,y_test,len(x_test))"
      ],
      "execution_count": 16,
      "outputs": [
        {
          "output_type": "stream",
          "name": "stdout",
          "text": [
            "1/1 [==============================] - 0s 132ms/step - loss: 0.3761 - accuracy: 0.8500\n"
          ]
        },
        {
          "output_type": "execute_result",
          "data": {
            "text/plain": [
              "[0.3760574758052826, 0.8500000238418579]"
            ]
          },
          "metadata": {},
          "execution_count": 16
        }
      ]
    },
    {
      "cell_type": "code",
      "metadata": {
        "id": "SGz813IiHsVZ"
      },
      "source": [
        "from sklearn.metrics import confusion_matrix, classification_report, accuracy_score\n",
        "def plot_confusion_matrix(cm, classes,\n",
        "                          normalize=False,\n",
        "                          cmap=plt.cm.Blues):\n",
        "    \"\"\"\n",
        "    This function prints and plots the confusion matrix.\n",
        "    Normalization can be applied by setting `normalize=True`.\n",
        "    \"\"\"\n",
        "    if normalize:\n",
        "        cm = cm.astype('float') / cm.sum(axis=1)[:, np.newaxis]\n",
        "        title='Normalized confusion matrix'\n",
        "    else:\n",
        "        title='Confusion matrix'\n",
        "\n",
        "    plt.imshow(cm, interpolation='nearest', cmap=cmap)\n",
        "    plt.title(title)\n",
        "    plt.colorbar()\n",
        "    tick_marks = np.arange(len(classes))\n",
        "    plt.xticks(tick_marks, classes, rotation=45)\n",
        "    plt.yticks(tick_marks, classes)\n",
        "\n",
        "    fmt = '.2f' if normalize else 'd'\n",
        "    thresh = cm.max() / 2.\n",
        "    for i, j in itertools.product(range(cm.shape[0]), range(cm.shape[1])):\n",
        "        plt.text(j, i, format(cm[i, j], fmt),\n",
        "                 horizontalalignment=\"center\",\n",
        "                 color=\"white\" if cm[i, j] > thresh else \"black\")\n",
        "\n",
        "    plt.tight_layout()\n",
        "    plt.ylabel('True label')\n",
        "    plt.xlabel('Predicted label')\n",
        "    plt.show()"
      ],
      "execution_count": 17,
      "outputs": []
    },
    {
      "cell_type": "code",
      "metadata": {
        "colab": {
          "base_uri": "https://localhost:8080/",
          "height": 301
        },
        "id": "e2kuhCVTFdRI",
        "outputId": "f134e019-a819-4543-bd58-f4de91022f43"
      },
      "source": [
        "def plot_history(history):\n",
        "    loss_list = [s for s in history.history.keys() if 'loss' in s and 'val' not in s]\n",
        "    val_loss_list = [s for s in history.history.keys() if 'loss' in s and 'val' in s]\n",
        "    acc_list = [s for s in history.history.keys() if 'acc' in s and 'val' not in s]\n",
        "    val_acc_list = [s for s in history.history.keys() if 'acc' in s and 'val' in s]\n",
        "    if len(loss_list) == 0:\n",
        "        print('Loss is missing in history')\n",
        "        return \n",
        "    plt.figure(figsize=(22,10))\n",
        "    ## As loss always exists\n",
        "    epochs = range(1,len(history.history[loss_list[0]]) + 1)\n",
        "    ## Accuracy\n",
        "    plt.figure(221, figsize=(20,10))\n",
        "    ## Accuracy\n",
        "    # plt.figure(2,figsize=(14,5))\n",
        "    plt.subplot(221, title='Accuracy')\n",
        "    for l in acc_list:\n",
        "        plt.plot(epochs, history.history[l], 'b', label='Training accuracy (' + str(format(history.history[l][-1],'.5f'))+')')\n",
        "    for l in val_acc_list:    \n",
        "        plt.plot(epochs, history.history[l], 'g', label='Validation accuracy (' + str(format(history.history[l][-1],'.5f'))+')')\n",
        "    plt.title('Accuracy')\n",
        "    plt.xlabel('Epochs')\n",
        "    plt.ylabel('Accuracy')\n",
        "    plt.legend()\n",
        "    ## Loss\n",
        "    plt.subplot(222, title='Loss')\n",
        "    for l in loss_list:\n",
        "        plt.plot(epochs, history.history[l], 'b', label='Training loss (' + str(str(format(history.history[l][-1],'.5f'))+')'))\n",
        "    for l in val_loss_list:\n",
        "        plt.plot(epochs, history.history[l], 'g', label='Validation loss (' + str(str(format(history.history[l][-1],'.5f'))+')'))    \n",
        "    plt.title('Loss')\n",
        "    plt.xlabel('Epochs')\n",
        "    plt.ylabel('Loss')\n",
        "    plt.legend()\n",
        "    plt.show()\n",
        "\n",
        "# plot history\n",
        "plot_history(history)"
      ],
      "execution_count": 18,
      "outputs": [
        {
          "output_type": "display_data",
          "data": {
            "text/plain": [
              "<Figure size 1584x720 with 0 Axes>"
            ]
          },
          "metadata": {}
        },
        {
          "output_type": "display_data",
          "data": {
            "image/png": "[encoded data removed]",
            "text/plain": [
              "<Figure size 1440x720 with 2 Axes>"
            ]
          },
          "metadata": {
            "needs_background": "light"
          }
        }
      ]
    }
  ]
}