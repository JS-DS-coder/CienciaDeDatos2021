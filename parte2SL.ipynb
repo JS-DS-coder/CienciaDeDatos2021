{
  "nbformat": 4,
  "nbformat_minor": 0,
  "metadata": {
    "colab": {
      "name": "parte2SL.ipynb",
      "provenance": [],
      "collapsed_sections": [],
      "authorship_tag": "ABX9TyNBC5Jl6Jb25KDanWWhEm3b",
      "include_colab_link": true
    },
    "kernelspec": {
      "name": "python3",
      "display_name": "Python 3"
    },
    "language_info": {
      "name": "python"
    }
  },
  "cells": [
    {
      "cell_type": "markdown",
      "metadata": {
        "id": "view-in-github",
        "colab_type": "text"
      },
      "source": [
        "<a href=\"https://colab.research.google.com/github/JS-DS-coder/CienciaDeDatos2021/blob/master/parte2SL.ipynb\" target=\"_parent\"><img src=\"https://colab.research.google.com/assets/colab-badge.svg\" alt=\"Open In Colab\"/></a>"
      ]
    },
    {
      "cell_type": "code",
      "metadata": {
        "id": "y_pvtntNgP3L"
      },
      "source": [
        ""
      ],
      "execution_count": null,
      "outputs": []
    },
    {
      "cell_type": "markdown",
      "metadata": {
        "id": "4273gqoCgOe7"
      },
      "source": [
        "# Parte 2 - Deployment\n",
        "Jairo Salazar\n"
      ]
    },
    {
      "cell_type": "code",
      "metadata": {
        "colab": {
          "base_uri": "https://localhost:8080/"
        },
        "id": "Ctx7huRsgJJ1",
        "outputId": "be805d4c-1c43-499b-ea85-957d31ec4d41"
      },
      "source": [
        "import joblib\n",
        "import os.path\n",
        "from os import path\n",
        "from sklearn import tree\n",
        "from sklearn.metrics import accuracy_score\n",
        "from sklearn.model_selection import KFold\n",
        "from sklearn.naive_bayes import GaussianNB\n",
        "from sklearn.metrics import accuracy_score\n",
        "from sklearn.svm import SVC\n",
        "from sklearn.model_selection import GridSearchCV\n",
        "import pandas as pd\n",
        "import numpy as np\n",
        "import tensorflow as tf\n",
        "\n",
        "if tf.__version__.startswith(\"2.\"):\n",
        "  import tensorflow.compat.v1 as tf\n",
        "  tf.compat.v1.disable_v2_behavior()\n",
        "  tf.compat.v1.disable_eager_execution()\n",
        "  print(\"Enabled compatitility to tf1.x\")\n",
        "\n",
        "\n",
        "\n",
        "if path.exists('/content/logs') == False:\n",
        "  os.mkdir('/content/logs')\n",
        "\n",
        "if path.exists('/content/logs/experimentos') == False:\n",
        "  os.mkdir('/content/logs/experimentos')\n",
        "\n",
        "if path.exists('/content/logs/modelos') == False:\n",
        "  os.mkdir('/content/logs/modelos')\n",
        "\n",
        "!pwd\n",
        "!ls"
      ],
      "execution_count": 64,
      "outputs": [
        {
          "output_type": "stream",
          "text": [
            "WARNING:tensorflow:From /usr/local/lib/python3.7/dist-packages/tensorflow/python/compat/v2_compat.py:96: disable_resource_variables (from tensorflow.python.ops.variable_scope) is deprecated and will be removed in a future version.\n",
            "Instructions for updating:\n",
            "non-resource variables are not supported in the long term\n",
            "Enabled compatitility to tf1.x\n",
            "/content\n",
            "logs  modelos  sample_data\n"
          ],
          "name": "stdout"
        }
      ]
    },
    {
      "cell_type": "code",
      "metadata": {
        "colab": {
          "base_uri": "https://localhost:8080/"
        },
        "id": "fSZLg2rTjnAX",
        "outputId": "32388f87-1f22-40ff-dfd1-69c6e2b010bd"
      },
      "source": [
        "DT = joblib.load(\"/content/logs/modelos/DecisionTree_Age_passenger_sex_IsAlone_FamilySize_SibSp.pkl\")\n",
        "NB = joblib.load(\"/content/logs/modelos/NaiveBayes_passenger_sex_IsAlone_FamiliySize_SibSp_GaussianNB.pkl\")\n",
        "SVM= joblib.load(\"/content/logs/modelos/SVM_passenger_sex_Has_Cabin_FamilySize.pkl\")\n",
        "SVM"
      ],
      "execution_count": 9,
      "outputs": [
        {
          "output_type": "execute_result",
          "data": {
            "text/plain": [
              "GridSearchCV(cv=10, error_score=nan,\n",
              "             estimator=SVC(C=1.0, break_ties=False, cache_size=200,\n",
              "                           class_weight=None, coef0=0.0,\n",
              "                           decision_function_shape='ovr', degree=3,\n",
              "                           gamma='scale', kernel='rbf', max_iter=-1,\n",
              "                           probability=False, random_state=None, shrinking=True,\n",
              "                           tol=0.001, verbose=False),\n",
              "             iid='deprecated', n_jobs=1,\n",
              "             param_grid={'C': [1, 2, 5, 10, 20, 50]}, pre_dispatch='2*n_jobs',\n",
              "             refit=True, return_train_score=True, scoring='accuracy',\n",
              "             verbose=0)"
            ]
          },
          "metadata": {
            "tags": []
          },
          "execution_count": 9
        }
      ]
    },
    {
      "cell_type": "code",
      "metadata": {
        "colab": {
          "base_uri": "https://localhost:8080/"
        },
        "id": "1UU0i7HAkwqe",
        "outputId": "89c98864-2310-45b0-ce62-4ae7aa661122"
      },
      "source": [
        "def Transformacion(ds):\n",
        "  #se quitan los NAs y se reemplaza con A\n",
        "  ds[\"Embarked\"].fillna(\"A\", inplace = True)\n",
        "  ds[\"Age\"].fillna(0, inplace = True)\n",
        "  #Se crea dos nuevas variables numericas.la primera nos indicara el numero de familiares en el barco, la segunda\n",
        "  #es si viaja solo o no.\n",
        "  ds[\"Age\"] = int(ds[\"Age\"])\n",
        "  ds[\"Fare\"] = float(ds[\"Fare\"])\n",
        "  ds['FamilySize'] = int(dataset['SibSp']) + int(dataset['Parch']) + 1\n",
        "  ds['IsAlone'] = 0\n",
        "  ds.loc[ds['FamilySize'] == 1, 'IsAlone'] = 1\n",
        "  ds.loc[ds['Age'] <= 16, 'Age'] \t\t\t\t\t       = 0\n",
        "  ds.loc[(ds['Age'] > 16) & (ds['Age'] <= 32), 'Age'] = 1\n",
        "  ds.loc[(ds['Age'] > 32) & (ds['Age'] <= 48), 'Age'] = 2\n",
        "  ds.loc[(ds['Age'] > 48) & (ds['Age'] <= 64), 'Age'] = 3\n",
        "  ds.loc[ ds['Age'] > 64, 'Age'] = 4\n",
        "\n",
        "  ds.loc[ dataset['Fare'] <= 7.91, 'Fare'] \t\t\t\t\t\t        = 0\n",
        "  ds.loc[(dataset['Fare'] > 7.91) & (ds['Fare'] <= 14.454), 'Fare'] = 1\n",
        "  ds.loc[(dataset['Fare'] > 14.454) & (ds['Fare'] <= 31), 'Fare']   = 2\n",
        "  ds.loc[ dataset['Fare'] > 31, 'Fare'] \t\t\t\t\t\t\t        = 3\n",
        "  ds['Fare'] = ds['Fare'].astype(int)\n",
        "\n",
        "  cleanup_nums = {\"passenger_sex\": {\"M\": 1, \"F\": 0},\n",
        "                 \"passenger_class\": {\"Lower\": 0, \"Middle\": 1,\"Upper\": 2},\n",
        "                  \"Embarked\": {\"S\": 0, \"C\": 1,\"Q\": 2,\"A\": 3}\n",
        "                  }\n",
        "  ds = ds.replace(cleanup_nums) \n",
        "  ds['Has_Cabin'] = ds[\"Cabin\"].apply(lambda x: 0 if type(x) == float else 1)\n",
        "  return ds\n",
        "\n",
        "#Funcion que consulta el Registro a evaluar:\n",
        "def crearRegistro():\n",
        " # 'PassengerId', 'Name', 'Age', 'SibSp', 'Parch', 'Ticket', 'Fare','Cabin','Embarked','passenger_class', 'passenger_sex', 'passenger_survived'\n",
        "\n",
        "  Passengerid = input (\"Enter Passegerid :\") \n",
        "  Name = input (\"Enter Name :\") \n",
        "  Age = float(input(\"Enter Age: \"))\n",
        "  SibSp =  int(input(\"Enter SibSp: \"))\n",
        "  Parch = int(input(\"Enter Parch:\"))\n",
        "  Ticket= input(\"Enter Ticket:\")\n",
        "  Fare = float(input(\"Enter Fare:\"))\n",
        "  Cabin = input(\"Enter Cabin:\")\n",
        "  Embarked = input(\"Enter Embarked:\")\n",
        "  passenger_class= input(\"Enter passenger_class:\")\n",
        "  passenger_sex= input(\"Enter passenger_sex:\")\n",
        "  df = pd.DataFrame(columns = ['PassengerId', 'Name', 'Age', 'SibSp', 'Parch', 'Ticket', 'Fare','Cabin','Embarked','passenger_class', 'passenger_sex'])\n",
        "  print(df)\n",
        "  \n",
        "  # append rows to an empty DataFrame\n",
        "  df = df.append({'PassengerId' : int(Passengerid), 'Name' : Name, 'Age' : Age,'SibSp':int(SibSp),'Parch' :int(Parch),'Ticket':Ticket,'Fare':float(Fare),'Cabin':Cabin,'Embarked':Embarked,'passenger_sex':passenger_sex,'passenger_class':passenger_class},\n",
        "                ignore_index = True)\n",
        "  \n",
        "  #return (df)\n",
        "  return Transformacion(df)\n",
        "\n",
        "\n",
        "\n"
      ],
      "execution_count": 60,
      "outputs": [
        {
          "output_type": "stream",
          "text": [
            "Enter Passegerid :2\n",
            "Enter Name :franco, miss ana\n",
            "Enter Age: 32\n",
            "Enter SibSp: 0\n",
            "Enter Parch:1\n",
            "Enter Ticket:SA-32\n",
            "Enter Fare:10.21\n",
            "Enter Cabin:CA-21\n",
            "Enter Embarked:S\n",
            "Enter passenger_class:Upper\n",
            "Enter passenger_sex:F\n",
            "Empty DataFrame\n",
            "Columns: [PassengerId, Name, Age, SibSp, Parch, Ticket, Fare, Cabin, Embarked, passenger_class, passenger_sex]\n",
            "Index: []\n"
          ],
          "name": "stdout"
        }
      ]
    },
    {
      "cell_type": "code",
      "metadata": {
        "colab": {
          "base_uri": "https://localhost:8080/",
          "height": 134
        },
        "id": "BrfdU4GT4eVo",
        "outputId": "75b2d226-a80a-405e-967d-1a4e9a725049"
      },
      "source": [
        "dataset"
      ],
      "execution_count": 50,
      "outputs": [
        {
          "output_type": "execute_result",
          "data": {
            "text/html": [
              "<div>\n",
              "<style scoped>\n",
              "    .dataframe tbody tr th:only-of-type {\n",
              "        vertical-align: middle;\n",
              "    }\n",
              "\n",
              "    .dataframe tbody tr th {\n",
              "        vertical-align: top;\n",
              "    }\n",
              "\n",
              "    .dataframe thead th {\n",
              "        text-align: right;\n",
              "    }\n",
              "</style>\n",
              "<table border=\"1\" class=\"dataframe\">\n",
              "  <thead>\n",
              "    <tr style=\"text-align: right;\">\n",
              "      <th></th>\n",
              "      <th>PassengerId</th>\n",
              "      <th>Name</th>\n",
              "      <th>Age</th>\n",
              "      <th>SibSp</th>\n",
              "      <th>Parch</th>\n",
              "      <th>Ticket</th>\n",
              "      <th>Fare</th>\n",
              "      <th>Cabin</th>\n",
              "      <th>Embarked</th>\n",
              "      <th>passenger_class</th>\n",
              "      <th>passenger_sex</th>\n",
              "      <th>FamilySize</th>\n",
              "      <th>IsAlone</th>\n",
              "      <th>Has_Cabin</th>\n",
              "    </tr>\n",
              "  </thead>\n",
              "  <tbody>\n",
              "    <tr>\n",
              "      <th>0</th>\n",
              "      <td>1</td>\n",
              "      <td>Salazar, Sir Jairo</td>\n",
              "      <td>2</td>\n",
              "      <td>2</td>\n",
              "      <td>1</td>\n",
              "      <td>SA32</td>\n",
              "      <td>0</td>\n",
              "      <td></td>\n",
              "      <td>2</td>\n",
              "      <td>1</td>\n",
              "      <td>1</td>\n",
              "      <td>4</td>\n",
              "      <td>0</td>\n",
              "      <td>1</td>\n",
              "    </tr>\n",
              "  </tbody>\n",
              "</table>\n",
              "</div>"
            ],
            "text/plain": [
              "  PassengerId                Name  Age  ... FamilySize IsAlone Has_Cabin\n",
              "0           1  Salazar, Sir Jairo    2  ...          4       0         1\n",
              "\n",
              "[1 rows x 14 columns]"
            ]
          },
          "metadata": {
            "tags": []
          },
          "execution_count": 50
        }
      ]
    },
    {
      "cell_type": "code",
      "metadata": {
        "id": "HbOhS42IsHey"
      },
      "source": [
        "\n",
        "\n",
        "def Eval(ds):\n",
        "  #Desicion Tree\n",
        "  c=[\"Age\",\"passenger_sex\",\"IsAlone\",\"FamilySize\",\"SibSp\"]\n",
        "  x = ds[c]\n",
        "\n",
        "  yhatDT = DT.predict(x)\n",
        " \n",
        "  #SVM\n",
        "  c=[\"Age\",\"passenger_sex\",\"Has_Cabin\",\"FamilySize\"]\n",
        "  x=ds[c]\n",
        "\n",
        "  yhatSVM = SVM.predict(x)\n",
        "  #Naive Bayes\n",
        "  c=[\"Age\",\"passenger_sex\",\"IsAlone\",\"FamilySize\",\"SibSp\"]\n",
        "  x = ds[c]\n",
        "  \n",
        "  yhatNB = NB.predict(x)\n",
        "\n",
        "  df = pd.DataFrame(columns = ['YhatDT', 'YhatSVM', 'YhatNB', 'YhatRegLog'])\n",
        "  print(df)\n",
        "  # REgresion logistica\n",
        "  #YhatRegLog=regresionlogistica(ds)\n",
        "  # append rows to an empty DataFrame\n",
        "  df = df.append({'YhatDT' : yhatDT, 'YhatSVM' : yhatSVM, 'YhatNB' : yhatNB},\n",
        "                ignore_index = True)\n",
        "  \n",
        "  return df\n",
        "\n",
        "\n",
        "#Transformacion(dataset)"
      ],
      "execution_count": 80,
      "outputs": []
    },
    {
      "cell_type": "markdown",
      "metadata": {
        "id": "Dn57UU9LECmL"
      },
      "source": [
        "# Caso 1 \n",
        "\n",
        "Datos:"
      ]
    },
    {
      "cell_type": "code",
      "metadata": {
        "colab": {
          "base_uri": "https://localhost:8080/",
          "height": 134
        },
        "id": "GFRtjjGZEI9D",
        "outputId": "119afd4e-bd6f-4f0f-8cd6-b250463576a6"
      },
      "source": [
        "dataset = crearRegistro()\n",
        "dataset"
      ],
      "execution_count": 88,
      "outputs": [
        {
          "output_type": "execute_result",
          "data": {
            "text/html": [
              "<div>\n",
              "<style scoped>\n",
              "    .dataframe tbody tr th:only-of-type {\n",
              "        vertical-align: middle;\n",
              "    }\n",
              "\n",
              "    .dataframe tbody tr th {\n",
              "        vertical-align: top;\n",
              "    }\n",
              "\n",
              "    .dataframe thead th {\n",
              "        text-align: right;\n",
              "    }\n",
              "</style>\n",
              "<table border=\"1\" class=\"dataframe\">\n",
              "  <thead>\n",
              "    <tr style=\"text-align: right;\">\n",
              "      <th></th>\n",
              "      <th>PassengerId</th>\n",
              "      <th>Name</th>\n",
              "      <th>Age</th>\n",
              "      <th>SibSp</th>\n",
              "      <th>Parch</th>\n",
              "      <th>Ticket</th>\n",
              "      <th>Fare</th>\n",
              "      <th>Cabin</th>\n",
              "      <th>Embarked</th>\n",
              "      <th>passenger_class</th>\n",
              "      <th>passenger_sex</th>\n",
              "      <th>FamilySize</th>\n",
              "      <th>IsAlone</th>\n",
              "      <th>Has_Cabin</th>\n",
              "    </tr>\n",
              "  </thead>\n",
              "  <tbody>\n",
              "    <tr>\n",
              "      <th>0</th>\n",
              "      <td>2</td>\n",
              "      <td>franco, miss ana</td>\n",
              "      <td>1</td>\n",
              "      <td>0</td>\n",
              "      <td>1</td>\n",
              "      <td>SA-32</td>\n",
              "      <td>0</td>\n",
              "      <td>CA-21</td>\n",
              "      <td>0</td>\n",
              "      <td>2</td>\n",
              "      <td>0</td>\n",
              "      <td>4</td>\n",
              "      <td>0</td>\n",
              "      <td>1</td>\n",
              "    </tr>\n",
              "  </tbody>\n",
              "</table>\n",
              "</div>"
            ],
            "text/plain": [
              "  PassengerId              Name  Age  ... FamilySize IsAlone Has_Cabin\n",
              "0           2  franco, miss ana    1  ...          4       0         1\n",
              "\n",
              "[1 rows x 14 columns]"
            ]
          },
          "metadata": {
            "tags": []
          },
          "execution_count": 88
        }
      ]
    },
    {
      "cell_type": "code",
      "metadata": {
        "colab": {
          "base_uri": "https://localhost:8080/",
          "height": 148
        },
        "id": "JhgxTJr-2tc5",
        "outputId": "ded97413-9723-478b-ce5b-3924d04edf59"
      },
      "source": [
        "ds = Eval(dataset)\n",
        "print('DATOS DE SALIDA: ')\n",
        "ds\n",
        "#print('Resultados: ',ds)"
      ],
      "execution_count": 89,
      "outputs": [
        {
          "output_type": "stream",
          "text": [
            "Empty DataFrame\n",
            "Columns: [YhatDT, YhatSVM, YhatNB, YhatRegLog]\n",
            "Index: []\n",
            "DATOS DE SALIDA: \n"
          ],
          "name": "stdout"
        },
        {
          "output_type": "execute_result",
          "data": {
            "text/html": [
              "<div>\n",
              "<style scoped>\n",
              "    .dataframe tbody tr th:only-of-type {\n",
              "        vertical-align: middle;\n",
              "    }\n",
              "\n",
              "    .dataframe tbody tr th {\n",
              "        vertical-align: top;\n",
              "    }\n",
              "\n",
              "    .dataframe thead th {\n",
              "        text-align: right;\n",
              "    }\n",
              "</style>\n",
              "<table border=\"1\" class=\"dataframe\">\n",
              "  <thead>\n",
              "    <tr style=\"text-align: right;\">\n",
              "      <th></th>\n",
              "      <th>YhatDT</th>\n",
              "      <th>YhatSVM</th>\n",
              "      <th>YhatNB</th>\n",
              "      <th>YhatRegLog</th>\n",
              "    </tr>\n",
              "  </thead>\n",
              "  <tbody>\n",
              "    <tr>\n",
              "      <th>0</th>\n",
              "      <td>[1]</td>\n",
              "      <td>[1]</td>\n",
              "      <td>[1]</td>\n",
              "      <td>NaN</td>\n",
              "    </tr>\n",
              "  </tbody>\n",
              "</table>\n",
              "</div>"
            ],
            "text/plain": [
              "  YhatDT YhatSVM YhatNB YhatRegLog\n",
              "0    [1]     [1]    [1]        NaN"
            ]
          },
          "metadata": {
            "tags": []
          },
          "execution_count": 89
        }
      ]
    },
    {
      "cell_type": "markdown",
      "metadata": {
        "id": "63W8tjFmEOD1"
      },
      "source": [
        "# Caso 2"
      ]
    },
    {
      "cell_type": "code",
      "metadata": {
        "colab": {
          "base_uri": "https://localhost:8080/",
          "height": 372
        },
        "id": "fj6eXlqxEWx1",
        "outputId": "88463c99-0709-45af-b760-8ca79f2458a8"
      },
      "source": [
        "dataset = crearRegistro()\n",
        "dataset"
      ],
      "execution_count": 90,
      "outputs": [
        {
          "output_type": "stream",
          "text": [
            "Enter Passegerid :2\n",
            "Enter Name :Salazar, Ing Jairo\n",
            "Enter Age: 43\n",
            "Enter SibSp: 0\n",
            "Enter Parch:0\n",
            "Enter Ticket:SA-21\n",
            "Enter Fare:30.21\n",
            "Enter Cabin:C\n",
            "Enter Embarked:S\n",
            "Enter passenger_class:Upper\n",
            "Enter passenger_sex:M\n",
            "Empty DataFrame\n",
            "Columns: [PassengerId, Name, Age, SibSp, Parch, Ticket, Fare, Cabin, Embarked, passenger_class, passenger_sex]\n",
            "Index: []\n"
          ],
          "name": "stdout"
        },
        {
          "output_type": "execute_result",
          "data": {
            "text/html": [
              "<div>\n",
              "<style scoped>\n",
              "    .dataframe tbody tr th:only-of-type {\n",
              "        vertical-align: middle;\n",
              "    }\n",
              "\n",
              "    .dataframe tbody tr th {\n",
              "        vertical-align: top;\n",
              "    }\n",
              "\n",
              "    .dataframe thead th {\n",
              "        text-align: right;\n",
              "    }\n",
              "</style>\n",
              "<table border=\"1\" class=\"dataframe\">\n",
              "  <thead>\n",
              "    <tr style=\"text-align: right;\">\n",
              "      <th></th>\n",
              "      <th>PassengerId</th>\n",
              "      <th>Name</th>\n",
              "      <th>Age</th>\n",
              "      <th>SibSp</th>\n",
              "      <th>Parch</th>\n",
              "      <th>Ticket</th>\n",
              "      <th>Fare</th>\n",
              "      <th>Cabin</th>\n",
              "      <th>Embarked</th>\n",
              "      <th>passenger_class</th>\n",
              "      <th>passenger_sex</th>\n",
              "      <th>FamilySize</th>\n",
              "      <th>IsAlone</th>\n",
              "      <th>Has_Cabin</th>\n",
              "    </tr>\n",
              "  </thead>\n",
              "  <tbody>\n",
              "    <tr>\n",
              "      <th>0</th>\n",
              "      <td>2</td>\n",
              "      <td>Salazar, Ing Jairo</td>\n",
              "      <td>2</td>\n",
              "      <td>0</td>\n",
              "      <td>0</td>\n",
              "      <td>SA-21</td>\n",
              "      <td>0</td>\n",
              "      <td>C</td>\n",
              "      <td>0</td>\n",
              "      <td>2</td>\n",
              "      <td>1</td>\n",
              "      <td>2</td>\n",
              "      <td>0</td>\n",
              "      <td>1</td>\n",
              "    </tr>\n",
              "  </tbody>\n",
              "</table>\n",
              "</div>"
            ],
            "text/plain": [
              "  PassengerId                Name  Age  ... FamilySize IsAlone Has_Cabin\n",
              "0           2  Salazar, Ing Jairo    2  ...          2       0         1\n",
              "\n",
              "[1 rows x 14 columns]"
            ]
          },
          "metadata": {
            "tags": []
          },
          "execution_count": 90
        }
      ]
    },
    {
      "cell_type": "code",
      "metadata": {
        "colab": {
          "base_uri": "https://localhost:8080/",
          "height": 148
        },
        "id": "jT0QFO1TEjrA",
        "outputId": "aef511e1-79e9-4652-a5ea-494c29ea1cd6"
      },
      "source": [
        "ds = Eval(dataset)\n",
        "print('DATOS DE SALIDA: ')\n",
        "ds"
      ],
      "execution_count": 91,
      "outputs": [
        {
          "output_type": "stream",
          "text": [
            "Empty DataFrame\n",
            "Columns: [YhatDT, YhatSVM, YhatNB, YhatRegLog]\n",
            "Index: []\n",
            "DATOS DE SALIDA: \n"
          ],
          "name": "stdout"
        },
        {
          "output_type": "execute_result",
          "data": {
            "text/html": [
              "<div>\n",
              "<style scoped>\n",
              "    .dataframe tbody tr th:only-of-type {\n",
              "        vertical-align: middle;\n",
              "    }\n",
              "\n",
              "    .dataframe tbody tr th {\n",
              "        vertical-align: top;\n",
              "    }\n",
              "\n",
              "    .dataframe thead th {\n",
              "        text-align: right;\n",
              "    }\n",
              "</style>\n",
              "<table border=\"1\" class=\"dataframe\">\n",
              "  <thead>\n",
              "    <tr style=\"text-align: right;\">\n",
              "      <th></th>\n",
              "      <th>YhatDT</th>\n",
              "      <th>YhatSVM</th>\n",
              "      <th>YhatNB</th>\n",
              "      <th>YhatRegLog</th>\n",
              "    </tr>\n",
              "  </thead>\n",
              "  <tbody>\n",
              "    <tr>\n",
              "      <th>0</th>\n",
              "      <td>[0]</td>\n",
              "      <td>[0]</td>\n",
              "      <td>[0]</td>\n",
              "      <td>NaN</td>\n",
              "    </tr>\n",
              "  </tbody>\n",
              "</table>\n",
              "</div>"
            ],
            "text/plain": [
              "  YhatDT YhatSVM YhatNB YhatRegLog\n",
              "0    [0]     [0]    [0]        NaN"
            ]
          },
          "metadata": {
            "tags": []
          },
          "execution_count": 91
        }
      ]
    },
    {
      "cell_type": "markdown",
      "metadata": {
        "id": "477ok7FHElF7"
      },
      "source": [
        "# Caso 3"
      ]
    },
    {
      "cell_type": "code",
      "metadata": {
        "colab": {
          "base_uri": "https://localhost:8080/",
          "height": 355
        },
        "id": "sZy5iLLWEn-o",
        "outputId": "0613c2a0-9c5a-4f58-faef-6926306143a9"
      },
      "source": [
        "dataset = crearRegistro()\n",
        "dataset"
      ],
      "execution_count": 92,
      "outputs": [
        {
          "output_type": "stream",
          "text": [
            "Enter Passegerid :3\n",
            "Enter Name :Salazar, Rodrigo\n",
            "Enter Age: 5\n",
            "Enter SibSp: 0\n",
            "Enter Parch:0\n",
            "Enter Ticket:SA021\n",
            "Enter Fare:10.21\n",
            "Enter Cabin:CA\n",
            "Enter Embarked:S\n",
            "Enter passenger_class:Middle\n",
            "Enter passenger_sex:M\n",
            "Empty DataFrame\n",
            "Columns: [PassengerId, Name, Age, SibSp, Parch, Ticket, Fare, Cabin, Embarked, passenger_class, passenger_sex]\n",
            "Index: []\n"
          ],
          "name": "stdout"
        },
        {
          "output_type": "execute_result",
          "data": {
            "text/html": [
              "<div>\n",
              "<style scoped>\n",
              "    .dataframe tbody tr th:only-of-type {\n",
              "        vertical-align: middle;\n",
              "    }\n",
              "\n",
              "    .dataframe tbody tr th {\n",
              "        vertical-align: top;\n",
              "    }\n",
              "\n",
              "    .dataframe thead th {\n",
              "        text-align: right;\n",
              "    }\n",
              "</style>\n",
              "<table border=\"1\" class=\"dataframe\">\n",
              "  <thead>\n",
              "    <tr style=\"text-align: right;\">\n",
              "      <th></th>\n",
              "      <th>PassengerId</th>\n",
              "      <th>Name</th>\n",
              "      <th>Age</th>\n",
              "      <th>SibSp</th>\n",
              "      <th>Parch</th>\n",
              "      <th>Ticket</th>\n",
              "      <th>Fare</th>\n",
              "      <th>Cabin</th>\n",
              "      <th>Embarked</th>\n",
              "      <th>passenger_class</th>\n",
              "      <th>passenger_sex</th>\n",
              "      <th>FamilySize</th>\n",
              "      <th>IsAlone</th>\n",
              "      <th>Has_Cabin</th>\n",
              "    </tr>\n",
              "  </thead>\n",
              "  <tbody>\n",
              "    <tr>\n",
              "      <th>0</th>\n",
              "      <td>3</td>\n",
              "      <td>Salazar, Rodrigo</td>\n",
              "      <td>0</td>\n",
              "      <td>0</td>\n",
              "      <td>0</td>\n",
              "      <td>SA021</td>\n",
              "      <td>0</td>\n",
              "      <td>CA</td>\n",
              "      <td>0</td>\n",
              "      <td>1</td>\n",
              "      <td>1</td>\n",
              "      <td>1</td>\n",
              "      <td>1</td>\n",
              "      <td>1</td>\n",
              "    </tr>\n",
              "  </tbody>\n",
              "</table>\n",
              "</div>"
            ],
            "text/plain": [
              "  PassengerId              Name  Age  ... FamilySize IsAlone Has_Cabin\n",
              "0           3  Salazar, Rodrigo    0  ...          1       1         1\n",
              "\n",
              "[1 rows x 14 columns]"
            ]
          },
          "metadata": {
            "tags": []
          },
          "execution_count": 92
        }
      ]
    },
    {
      "cell_type": "code",
      "metadata": {
        "colab": {
          "base_uri": "https://localhost:8080/",
          "height": 148
        },
        "id": "Y_MKMZlZEzm3",
        "outputId": "f4b08e95-e775-4511-9c9b-cab2d5c8ba25"
      },
      "source": [
        "ds = Eval(dataset)\n",
        "print('DATOS DE SALIDA: ')\n",
        "ds"
      ],
      "execution_count": 93,
      "outputs": [
        {
          "output_type": "stream",
          "text": [
            "Empty DataFrame\n",
            "Columns: [YhatDT, YhatSVM, YhatNB, YhatRegLog]\n",
            "Index: []\n",
            "DATOS DE SALIDA: \n"
          ],
          "name": "stdout"
        },
        {
          "output_type": "execute_result",
          "data": {
            "text/html": [
              "<div>\n",
              "<style scoped>\n",
              "    .dataframe tbody tr th:only-of-type {\n",
              "        vertical-align: middle;\n",
              "    }\n",
              "\n",
              "    .dataframe tbody tr th {\n",
              "        vertical-align: top;\n",
              "    }\n",
              "\n",
              "    .dataframe thead th {\n",
              "        text-align: right;\n",
              "    }\n",
              "</style>\n",
              "<table border=\"1\" class=\"dataframe\">\n",
              "  <thead>\n",
              "    <tr style=\"text-align: right;\">\n",
              "      <th></th>\n",
              "      <th>YhatDT</th>\n",
              "      <th>YhatSVM</th>\n",
              "      <th>YhatNB</th>\n",
              "      <th>YhatRegLog</th>\n",
              "    </tr>\n",
              "  </thead>\n",
              "  <tbody>\n",
              "    <tr>\n",
              "      <th>0</th>\n",
              "      <td>[0]</td>\n",
              "      <td>[0]</td>\n",
              "      <td>[0]</td>\n",
              "      <td>NaN</td>\n",
              "    </tr>\n",
              "  </tbody>\n",
              "</table>\n",
              "</div>"
            ],
            "text/plain": [
              "  YhatDT YhatSVM YhatNB YhatRegLog\n",
              "0    [0]     [0]    [0]        NaN"
            ]
          },
          "metadata": {
            "tags": []
          },
          "execution_count": 93
        }
      ]
    },
    {
      "cell_type": "markdown",
      "metadata": {
        "id": "OaL4RIEQE1yX"
      },
      "source": [
        "# Caso 4"
      ]
    },
    {
      "cell_type": "code",
      "metadata": {
        "colab": {
          "base_uri": "https://localhost:8080/",
          "height": 355
        },
        "id": "20KALzy4E03X",
        "outputId": "1be39771-3f37-4065-ec7f-ff64586ecf94"
      },
      "source": [
        "dataset = crearRegistro()\n",
        "dataset"
      ],
      "execution_count": 94,
      "outputs": [
        {
          "output_type": "stream",
          "text": [
            "Enter Passegerid :4\n",
            "Enter Name :chavez, aminta\n",
            "Enter Age: 65\n",
            "Enter SibSp: 1\n",
            "Enter Parch:2\n",
            "Enter Ticket:Sa-21\n",
            "Enter Fare:10.21\n",
            "Enter Cabin:\n",
            "Enter Embarked:Q\n",
            "Enter passenger_class:Lower\n",
            "Enter passenger_sex:F\n",
            "Empty DataFrame\n",
            "Columns: [PassengerId, Name, Age, SibSp, Parch, Ticket, Fare, Cabin, Embarked, passenger_class, passenger_sex]\n",
            "Index: []\n"
          ],
          "name": "stdout"
        },
        {
          "output_type": "execute_result",
          "data": {
            "text/html": [
              "<div>\n",
              "<style scoped>\n",
              "    .dataframe tbody tr th:only-of-type {\n",
              "        vertical-align: middle;\n",
              "    }\n",
              "\n",
              "    .dataframe tbody tr th {\n",
              "        vertical-align: top;\n",
              "    }\n",
              "\n",
              "    .dataframe thead th {\n",
              "        text-align: right;\n",
              "    }\n",
              "</style>\n",
              "<table border=\"1\" class=\"dataframe\">\n",
              "  <thead>\n",
              "    <tr style=\"text-align: right;\">\n",
              "      <th></th>\n",
              "      <th>PassengerId</th>\n",
              "      <th>Name</th>\n",
              "      <th>Age</th>\n",
              "      <th>SibSp</th>\n",
              "      <th>Parch</th>\n",
              "      <th>Ticket</th>\n",
              "      <th>Fare</th>\n",
              "      <th>Cabin</th>\n",
              "      <th>Embarked</th>\n",
              "      <th>passenger_class</th>\n",
              "      <th>passenger_sex</th>\n",
              "      <th>FamilySize</th>\n",
              "      <th>IsAlone</th>\n",
              "      <th>Has_Cabin</th>\n",
              "    </tr>\n",
              "  </thead>\n",
              "  <tbody>\n",
              "    <tr>\n",
              "      <th>0</th>\n",
              "      <td>4</td>\n",
              "      <td>chavez, aminta</td>\n",
              "      <td>4</td>\n",
              "      <td>1</td>\n",
              "      <td>2</td>\n",
              "      <td>Sa-21</td>\n",
              "      <td>0</td>\n",
              "      <td></td>\n",
              "      <td>2</td>\n",
              "      <td>0</td>\n",
              "      <td>0</td>\n",
              "      <td>1</td>\n",
              "      <td>1</td>\n",
              "      <td>1</td>\n",
              "    </tr>\n",
              "  </tbody>\n",
              "</table>\n",
              "</div>"
            ],
            "text/plain": [
              "  PassengerId            Name  Age  ... FamilySize IsAlone Has_Cabin\n",
              "0           4  chavez, aminta    4  ...          1       1         1\n",
              "\n",
              "[1 rows x 14 columns]"
            ]
          },
          "metadata": {
            "tags": []
          },
          "execution_count": 94
        }
      ]
    },
    {
      "cell_type": "code",
      "metadata": {
        "colab": {
          "base_uri": "https://localhost:8080/",
          "height": 148
        },
        "id": "48qUiQInFaNc",
        "outputId": "6cc58aea-79e2-4764-f4e5-2e159cbdbc42"
      },
      "source": [
        "ds = Eval(dataset)\n",
        "print('DATOS DE SALIDA: ')\n",
        "ds"
      ],
      "execution_count": 95,
      "outputs": [
        {
          "output_type": "stream",
          "text": [
            "Empty DataFrame\n",
            "Columns: [YhatDT, YhatSVM, YhatNB, YhatRegLog]\n",
            "Index: []\n",
            "DATOS DE SALIDA: \n"
          ],
          "name": "stdout"
        },
        {
          "output_type": "execute_result",
          "data": {
            "text/html": [
              "<div>\n",
              "<style scoped>\n",
              "    .dataframe tbody tr th:only-of-type {\n",
              "        vertical-align: middle;\n",
              "    }\n",
              "\n",
              "    .dataframe tbody tr th {\n",
              "        vertical-align: top;\n",
              "    }\n",
              "\n",
              "    .dataframe thead th {\n",
              "        text-align: right;\n",
              "    }\n",
              "</style>\n",
              "<table border=\"1\" class=\"dataframe\">\n",
              "  <thead>\n",
              "    <tr style=\"text-align: right;\">\n",
              "      <th></th>\n",
              "      <th>YhatDT</th>\n",
              "      <th>YhatSVM</th>\n",
              "      <th>YhatNB</th>\n",
              "      <th>YhatRegLog</th>\n",
              "    </tr>\n",
              "  </thead>\n",
              "  <tbody>\n",
              "    <tr>\n",
              "      <th>0</th>\n",
              "      <td>[1]</td>\n",
              "      <td>[1]</td>\n",
              "      <td>[1]</td>\n",
              "      <td>NaN</td>\n",
              "    </tr>\n",
              "  </tbody>\n",
              "</table>\n",
              "</div>"
            ],
            "text/plain": [
              "  YhatDT YhatSVM YhatNB YhatRegLog\n",
              "0    [1]     [1]    [1]        NaN"
            ]
          },
          "metadata": {
            "tags": []
          },
          "execution_count": 95
        }
      ]
    },
    {
      "cell_type": "markdown",
      "metadata": {
        "id": "I8M4-OuWFctA"
      },
      "source": [
        "# Caso 5"
      ]
    },
    {
      "cell_type": "code",
      "metadata": {
        "colab": {
          "base_uri": "https://localhost:8080/",
          "height": 355
        },
        "id": "pQUTOOngFfSA",
        "outputId": "dae6ae2e-db43-4f7f-b6e3-bed0c57aa15f"
      },
      "source": [
        "dataset = crearRegistro()\n",
        "dataset"
      ],
      "execution_count": 96,
      "outputs": [
        {
          "output_type": "stream",
          "text": [
            "Enter Passegerid :5\n",
            "Enter Name :Estrada, luis\n",
            "Enter Age: 65\n",
            "Enter SibSp: 1\n",
            "Enter Parch:2\n",
            "Enter Ticket:SA-21\n",
            "Enter Fare:40.32\n",
            "Enter Cabin:\n",
            "Enter Embarked:C\n",
            "Enter passenger_class:Middle\n",
            "Enter passenger_sex:M\n",
            "Empty DataFrame\n",
            "Columns: [PassengerId, Name, Age, SibSp, Parch, Ticket, Fare, Cabin, Embarked, passenger_class, passenger_sex]\n",
            "Index: []\n"
          ],
          "name": "stdout"
        },
        {
          "output_type": "execute_result",
          "data": {
            "text/html": [
              "<div>\n",
              "<style scoped>\n",
              "    .dataframe tbody tr th:only-of-type {\n",
              "        vertical-align: middle;\n",
              "    }\n",
              "\n",
              "    .dataframe tbody tr th {\n",
              "        vertical-align: top;\n",
              "    }\n",
              "\n",
              "    .dataframe thead th {\n",
              "        text-align: right;\n",
              "    }\n",
              "</style>\n",
              "<table border=\"1\" class=\"dataframe\">\n",
              "  <thead>\n",
              "    <tr style=\"text-align: right;\">\n",
              "      <th></th>\n",
              "      <th>PassengerId</th>\n",
              "      <th>Name</th>\n",
              "      <th>Age</th>\n",
              "      <th>SibSp</th>\n",
              "      <th>Parch</th>\n",
              "      <th>Ticket</th>\n",
              "      <th>Fare</th>\n",
              "      <th>Cabin</th>\n",
              "      <th>Embarked</th>\n",
              "      <th>passenger_class</th>\n",
              "      <th>passenger_sex</th>\n",
              "      <th>FamilySize</th>\n",
              "      <th>IsAlone</th>\n",
              "      <th>Has_Cabin</th>\n",
              "    </tr>\n",
              "  </thead>\n",
              "  <tbody>\n",
              "    <tr>\n",
              "      <th>0</th>\n",
              "      <td>5</td>\n",
              "      <td>Estrada, luis</td>\n",
              "      <td>4</td>\n",
              "      <td>1</td>\n",
              "      <td>2</td>\n",
              "      <td>SA-21</td>\n",
              "      <td>0</td>\n",
              "      <td></td>\n",
              "      <td>1</td>\n",
              "      <td>1</td>\n",
              "      <td>1</td>\n",
              "      <td>4</td>\n",
              "      <td>0</td>\n",
              "      <td>1</td>\n",
              "    </tr>\n",
              "  </tbody>\n",
              "</table>\n",
              "</div>"
            ],
            "text/plain": [
              "  PassengerId           Name  Age  ... FamilySize IsAlone Has_Cabin\n",
              "0           5  Estrada, luis    4  ...          4       0         1\n",
              "\n",
              "[1 rows x 14 columns]"
            ]
          },
          "metadata": {
            "tags": []
          },
          "execution_count": 96
        }
      ]
    },
    {
      "cell_type": "code",
      "metadata": {
        "colab": {
          "base_uri": "https://localhost:8080/",
          "height": 148
        },
        "id": "-8sQACebFvQQ",
        "outputId": "6b1cdee9-9d7a-44e3-df3e-300477c43499"
      },
      "source": [
        "ds = Eval(dataset)\n",
        "print('DATOS DE SALIDA: ')\n",
        "ds"
      ],
      "execution_count": 97,
      "outputs": [
        {
          "output_type": "stream",
          "text": [
            "Empty DataFrame\n",
            "Columns: [YhatDT, YhatSVM, YhatNB, YhatRegLog]\n",
            "Index: []\n",
            "DATOS DE SALIDA: \n"
          ],
          "name": "stdout"
        },
        {
          "output_type": "execute_result",
          "data": {
            "text/html": [
              "<div>\n",
              "<style scoped>\n",
              "    .dataframe tbody tr th:only-of-type {\n",
              "        vertical-align: middle;\n",
              "    }\n",
              "\n",
              "    .dataframe tbody tr th {\n",
              "        vertical-align: top;\n",
              "    }\n",
              "\n",
              "    .dataframe thead th {\n",
              "        text-align: right;\n",
              "    }\n",
              "</style>\n",
              "<table border=\"1\" class=\"dataframe\">\n",
              "  <thead>\n",
              "    <tr style=\"text-align: right;\">\n",
              "      <th></th>\n",
              "      <th>YhatDT</th>\n",
              "      <th>YhatSVM</th>\n",
              "      <th>YhatNB</th>\n",
              "      <th>YhatRegLog</th>\n",
              "    </tr>\n",
              "  </thead>\n",
              "  <tbody>\n",
              "    <tr>\n",
              "      <th>0</th>\n",
              "      <td>[0]</td>\n",
              "      <td>[0]</td>\n",
              "      <td>[0]</td>\n",
              "      <td>NaN</td>\n",
              "    </tr>\n",
              "  </tbody>\n",
              "</table>\n",
              "</div>"
            ],
            "text/plain": [
              "  YhatDT YhatSVM YhatNB YhatRegLog\n",
              "0    [0]     [0]    [0]        NaN"
            ]
          },
          "metadata": {
            "tags": []
          },
          "execution_count": 97
        }
      ]
    },
    {
      "cell_type": "markdown",
      "metadata": {
        "id": "w0qMtB7ZFyIj"
      },
      "source": [
        "# Caso 6"
      ]
    },
    {
      "cell_type": "code",
      "metadata": {
        "colab": {
          "base_uri": "https://localhost:8080/",
          "height": 355
        },
        "id": "wYEoOV19GNKJ",
        "outputId": "c737b6d4-6c46-4428-ad73-df031b1a6ba6"
      },
      "source": [
        "dataset = crearRegistro()\n",
        "dataset"
      ],
      "execution_count": 98,
      "outputs": [
        {
          "output_type": "stream",
          "text": [
            "Enter Passegerid :6\n",
            "Enter Name :Juarez Carlos\n",
            "Enter Age: 65\n",
            "Enter SibSp: 2\n",
            "Enter Parch:1\n",
            "Enter Ticket:SA-21\n",
            "Enter Fare:40.21\n",
            "Enter Cabin:S21\n",
            "Enter Embarked:S\n",
            "Enter passenger_class:Upper\n",
            "Enter passenger_sex:M\n",
            "Empty DataFrame\n",
            "Columns: [PassengerId, Name, Age, SibSp, Parch, Ticket, Fare, Cabin, Embarked, passenger_class, passenger_sex]\n",
            "Index: []\n"
          ],
          "name": "stdout"
        },
        {
          "output_type": "execute_result",
          "data": {
            "text/html": [
              "<div>\n",
              "<style scoped>\n",
              "    .dataframe tbody tr th:only-of-type {\n",
              "        vertical-align: middle;\n",
              "    }\n",
              "\n",
              "    .dataframe tbody tr th {\n",
              "        vertical-align: top;\n",
              "    }\n",
              "\n",
              "    .dataframe thead th {\n",
              "        text-align: right;\n",
              "    }\n",
              "</style>\n",
              "<table border=\"1\" class=\"dataframe\">\n",
              "  <thead>\n",
              "    <tr style=\"text-align: right;\">\n",
              "      <th></th>\n",
              "      <th>PassengerId</th>\n",
              "      <th>Name</th>\n",
              "      <th>Age</th>\n",
              "      <th>SibSp</th>\n",
              "      <th>Parch</th>\n",
              "      <th>Ticket</th>\n",
              "      <th>Fare</th>\n",
              "      <th>Cabin</th>\n",
              "      <th>Embarked</th>\n",
              "      <th>passenger_class</th>\n",
              "      <th>passenger_sex</th>\n",
              "      <th>FamilySize</th>\n",
              "      <th>IsAlone</th>\n",
              "      <th>Has_Cabin</th>\n",
              "    </tr>\n",
              "  </thead>\n",
              "  <tbody>\n",
              "    <tr>\n",
              "      <th>0</th>\n",
              "      <td>6</td>\n",
              "      <td>Juarez Carlos</td>\n",
              "      <td>4</td>\n",
              "      <td>2</td>\n",
              "      <td>1</td>\n",
              "      <td>SA-21</td>\n",
              "      <td>0</td>\n",
              "      <td>S21</td>\n",
              "      <td>0</td>\n",
              "      <td>2</td>\n",
              "      <td>1</td>\n",
              "      <td>4</td>\n",
              "      <td>0</td>\n",
              "      <td>1</td>\n",
              "    </tr>\n",
              "  </tbody>\n",
              "</table>\n",
              "</div>"
            ],
            "text/plain": [
              "  PassengerId           Name  Age  ... FamilySize IsAlone Has_Cabin\n",
              "0           6  Juarez Carlos    4  ...          4       0         1\n",
              "\n",
              "[1 rows x 14 columns]"
            ]
          },
          "metadata": {
            "tags": []
          },
          "execution_count": 98
        }
      ]
    },
    {
      "cell_type": "code",
      "metadata": {
        "colab": {
          "base_uri": "https://localhost:8080/",
          "height": 148
        },
        "id": "Sbfpf886GY4J",
        "outputId": "b4b03230-04ee-402f-9510-fb31b46452d9"
      },
      "source": [
        "ds = Eval(dataset)\n",
        "print('DATOS DE SALIDA: ')\n",
        "ds"
      ],
      "execution_count": 99,
      "outputs": [
        {
          "output_type": "stream",
          "text": [
            "Empty DataFrame\n",
            "Columns: [YhatDT, YhatSVM, YhatNB, YhatRegLog]\n",
            "Index: []\n",
            "DATOS DE SALIDA: \n"
          ],
          "name": "stdout"
        },
        {
          "output_type": "execute_result",
          "data": {
            "text/html": [
              "<div>\n",
              "<style scoped>\n",
              "    .dataframe tbody tr th:only-of-type {\n",
              "        vertical-align: middle;\n",
              "    }\n",
              "\n",
              "    .dataframe tbody tr th {\n",
              "        vertical-align: top;\n",
              "    }\n",
              "\n",
              "    .dataframe thead th {\n",
              "        text-align: right;\n",
              "    }\n",
              "</style>\n",
              "<table border=\"1\" class=\"dataframe\">\n",
              "  <thead>\n",
              "    <tr style=\"text-align: right;\">\n",
              "      <th></th>\n",
              "      <th>YhatDT</th>\n",
              "      <th>YhatSVM</th>\n",
              "      <th>YhatNB</th>\n",
              "      <th>YhatRegLog</th>\n",
              "    </tr>\n",
              "  </thead>\n",
              "  <tbody>\n",
              "    <tr>\n",
              "      <th>0</th>\n",
              "      <td>[0]</td>\n",
              "      <td>[0]</td>\n",
              "      <td>[0]</td>\n",
              "      <td>NaN</td>\n",
              "    </tr>\n",
              "  </tbody>\n",
              "</table>\n",
              "</div>"
            ],
            "text/plain": [
              "  YhatDT YhatSVM YhatNB YhatRegLog\n",
              "0    [0]     [0]    [0]        NaN"
            ]
          },
          "metadata": {
            "tags": []
          },
          "execution_count": 99
        }
      ]
    },
    {
      "cell_type": "markdown",
      "metadata": {
        "id": "sqQp4W_BGa1k"
      },
      "source": [
        "# Caso 7"
      ]
    },
    {
      "cell_type": "code",
      "metadata": {
        "colab": {
          "base_uri": "https://localhost:8080/",
          "height": 355
        },
        "id": "XisI8fAaGg5e",
        "outputId": "d8dd9836-b4a9-43ca-f718-e54da642694e"
      },
      "source": [
        "dataset = crearRegistro()\n",
        "dataset"
      ],
      "execution_count": 100,
      "outputs": [
        {
          "output_type": "stream",
          "text": [
            "Enter Passegerid :7\n",
            "Enter Name :Jumique anabel\n",
            "Enter Age: 22\n",
            "Enter SibSp: 1\n",
            "Enter Parch:2\n",
            "Enter Ticket:SA-21\n",
            "Enter Fare:20.21\n",
            "Enter Cabin:\n",
            "Enter Embarked:S\n",
            "Enter passenger_class:Upper\n",
            "Enter passenger_sex:F\n",
            "Empty DataFrame\n",
            "Columns: [PassengerId, Name, Age, SibSp, Parch, Ticket, Fare, Cabin, Embarked, passenger_class, passenger_sex]\n",
            "Index: []\n"
          ],
          "name": "stdout"
        },
        {
          "output_type": "execute_result",
          "data": {
            "text/html": [
              "<div>\n",
              "<style scoped>\n",
              "    .dataframe tbody tr th:only-of-type {\n",
              "        vertical-align: middle;\n",
              "    }\n",
              "\n",
              "    .dataframe tbody tr th {\n",
              "        vertical-align: top;\n",
              "    }\n",
              "\n",
              "    .dataframe thead th {\n",
              "        text-align: right;\n",
              "    }\n",
              "</style>\n",
              "<table border=\"1\" class=\"dataframe\">\n",
              "  <thead>\n",
              "    <tr style=\"text-align: right;\">\n",
              "      <th></th>\n",
              "      <th>PassengerId</th>\n",
              "      <th>Name</th>\n",
              "      <th>Age</th>\n",
              "      <th>SibSp</th>\n",
              "      <th>Parch</th>\n",
              "      <th>Ticket</th>\n",
              "      <th>Fare</th>\n",
              "      <th>Cabin</th>\n",
              "      <th>Embarked</th>\n",
              "      <th>passenger_class</th>\n",
              "      <th>passenger_sex</th>\n",
              "      <th>FamilySize</th>\n",
              "      <th>IsAlone</th>\n",
              "      <th>Has_Cabin</th>\n",
              "    </tr>\n",
              "  </thead>\n",
              "  <tbody>\n",
              "    <tr>\n",
              "      <th>0</th>\n",
              "      <td>7</td>\n",
              "      <td>Jumique anabel</td>\n",
              "      <td>1</td>\n",
              "      <td>1</td>\n",
              "      <td>2</td>\n",
              "      <td>SA-21</td>\n",
              "      <td>0</td>\n",
              "      <td></td>\n",
              "      <td>0</td>\n",
              "      <td>2</td>\n",
              "      <td>0</td>\n",
              "      <td>4</td>\n",
              "      <td>0</td>\n",
              "      <td>1</td>\n",
              "    </tr>\n",
              "  </tbody>\n",
              "</table>\n",
              "</div>"
            ],
            "text/plain": [
              "  PassengerId            Name  Age  ... FamilySize IsAlone Has_Cabin\n",
              "0           7  Jumique anabel    1  ...          4       0         1\n",
              "\n",
              "[1 rows x 14 columns]"
            ]
          },
          "metadata": {
            "tags": []
          },
          "execution_count": 100
        }
      ]
    },
    {
      "cell_type": "code",
      "metadata": {
        "colab": {
          "base_uri": "https://localhost:8080/",
          "height": 148
        },
        "id": "Aes2AO4_GuSQ",
        "outputId": "bd2ad2fa-6f77-439b-a893-957c2970d82b"
      },
      "source": [
        "ds = Eval(dataset)\n",
        "print('DATOS DE SALIDA: ')\n",
        "ds"
      ],
      "execution_count": 101,
      "outputs": [
        {
          "output_type": "stream",
          "text": [
            "Empty DataFrame\n",
            "Columns: [YhatDT, YhatSVM, YhatNB, YhatRegLog]\n",
            "Index: []\n",
            "DATOS DE SALIDA: \n"
          ],
          "name": "stdout"
        },
        {
          "output_type": "execute_result",
          "data": {
            "text/html": [
              "<div>\n",
              "<style scoped>\n",
              "    .dataframe tbody tr th:only-of-type {\n",
              "        vertical-align: middle;\n",
              "    }\n",
              "\n",
              "    .dataframe tbody tr th {\n",
              "        vertical-align: top;\n",
              "    }\n",
              "\n",
              "    .dataframe thead th {\n",
              "        text-align: right;\n",
              "    }\n",
              "</style>\n",
              "<table border=\"1\" class=\"dataframe\">\n",
              "  <thead>\n",
              "    <tr style=\"text-align: right;\">\n",
              "      <th></th>\n",
              "      <th>YhatDT</th>\n",
              "      <th>YhatSVM</th>\n",
              "      <th>YhatNB</th>\n",
              "      <th>YhatRegLog</th>\n",
              "    </tr>\n",
              "  </thead>\n",
              "  <tbody>\n",
              "    <tr>\n",
              "      <th>0</th>\n",
              "      <td>[1]</td>\n",
              "      <td>[1]</td>\n",
              "      <td>[1]</td>\n",
              "      <td>NaN</td>\n",
              "    </tr>\n",
              "  </tbody>\n",
              "</table>\n",
              "</div>"
            ],
            "text/plain": [
              "  YhatDT YhatSVM YhatNB YhatRegLog\n",
              "0    [1]     [1]    [1]        NaN"
            ]
          },
          "metadata": {
            "tags": []
          },
          "execution_count": 101
        }
      ]
    },
    {
      "cell_type": "markdown",
      "metadata": {
        "id": "xxf2QRJYHKfh"
      },
      "source": [
        "# Caso 8"
      ]
    },
    {
      "cell_type": "code",
      "metadata": {
        "colab": {
          "base_uri": "https://localhost:8080/",
          "height": 355
        },
        "id": "8enjs0wjHLRX",
        "outputId": "e8dbd4c5-a787-478d-b12c-5c2713315307"
      },
      "source": [
        "dataset = crearRegistro()\n",
        "dataset"
      ],
      "execution_count": 102,
      "outputs": [
        {
          "output_type": "stream",
          "text": [
            "Enter Passegerid :8\n",
            "Enter Name :lopez, marina\n",
            "Enter Age: 54\n",
            "Enter SibSp: 0\n",
            "Enter Parch:0\n",
            "Enter Ticket:SA01\n",
            "Enter Fare:1\n",
            "Enter Cabin:\n",
            "Enter Embarked:S\n",
            "Enter passenger_class:Lower\n",
            "Enter passenger_sex:F\n",
            "Empty DataFrame\n",
            "Columns: [PassengerId, Name, Age, SibSp, Parch, Ticket, Fare, Cabin, Embarked, passenger_class, passenger_sex]\n",
            "Index: []\n"
          ],
          "name": "stdout"
        },
        {
          "output_type": "execute_result",
          "data": {
            "text/html": [
              "<div>\n",
              "<style scoped>\n",
              "    .dataframe tbody tr th:only-of-type {\n",
              "        vertical-align: middle;\n",
              "    }\n",
              "\n",
              "    .dataframe tbody tr th {\n",
              "        vertical-align: top;\n",
              "    }\n",
              "\n",
              "    .dataframe thead th {\n",
              "        text-align: right;\n",
              "    }\n",
              "</style>\n",
              "<table border=\"1\" class=\"dataframe\">\n",
              "  <thead>\n",
              "    <tr style=\"text-align: right;\">\n",
              "      <th></th>\n",
              "      <th>PassengerId</th>\n",
              "      <th>Name</th>\n",
              "      <th>Age</th>\n",
              "      <th>SibSp</th>\n",
              "      <th>Parch</th>\n",
              "      <th>Ticket</th>\n",
              "      <th>Fare</th>\n",
              "      <th>Cabin</th>\n",
              "      <th>Embarked</th>\n",
              "      <th>passenger_class</th>\n",
              "      <th>passenger_sex</th>\n",
              "      <th>FamilySize</th>\n",
              "      <th>IsAlone</th>\n",
              "      <th>Has_Cabin</th>\n",
              "    </tr>\n",
              "  </thead>\n",
              "  <tbody>\n",
              "    <tr>\n",
              "      <th>0</th>\n",
              "      <td>8</td>\n",
              "      <td>lopez, marina</td>\n",
              "      <td>3</td>\n",
              "      <td>0</td>\n",
              "      <td>0</td>\n",
              "      <td>SA01</td>\n",
              "      <td>0</td>\n",
              "      <td></td>\n",
              "      <td>0</td>\n",
              "      <td>0</td>\n",
              "      <td>0</td>\n",
              "      <td>4</td>\n",
              "      <td>0</td>\n",
              "      <td>1</td>\n",
              "    </tr>\n",
              "  </tbody>\n",
              "</table>\n",
              "</div>"
            ],
            "text/plain": [
              "  PassengerId           Name  Age  ... FamilySize IsAlone Has_Cabin\n",
              "0           8  lopez, marina    3  ...          4       0         1\n",
              "\n",
              "[1 rows x 14 columns]"
            ]
          },
          "metadata": {
            "tags": []
          },
          "execution_count": 102
        }
      ]
    },
    {
      "cell_type": "code",
      "metadata": {
        "colab": {
          "base_uri": "https://localhost:8080/",
          "height": 148
        },
        "id": "QLPnEwF9Ha68",
        "outputId": "66a0ebba-c641-4e6f-f8cd-83677a5c4a55"
      },
      "source": [
        "ds = Eval(dataset)\n",
        "print('DATOS DE SALIDA: ')\n",
        "ds"
      ],
      "execution_count": 103,
      "outputs": [
        {
          "output_type": "stream",
          "text": [
            "Empty DataFrame\n",
            "Columns: [YhatDT, YhatSVM, YhatNB, YhatRegLog]\n",
            "Index: []\n",
            "DATOS DE SALIDA: \n"
          ],
          "name": "stdout"
        },
        {
          "output_type": "execute_result",
          "data": {
            "text/html": [
              "<div>\n",
              "<style scoped>\n",
              "    .dataframe tbody tr th:only-of-type {\n",
              "        vertical-align: middle;\n",
              "    }\n",
              "\n",
              "    .dataframe tbody tr th {\n",
              "        vertical-align: top;\n",
              "    }\n",
              "\n",
              "    .dataframe thead th {\n",
              "        text-align: right;\n",
              "    }\n",
              "</style>\n",
              "<table border=\"1\" class=\"dataframe\">\n",
              "  <thead>\n",
              "    <tr style=\"text-align: right;\">\n",
              "      <th></th>\n",
              "      <th>YhatDT</th>\n",
              "      <th>YhatSVM</th>\n",
              "      <th>YhatNB</th>\n",
              "      <th>YhatRegLog</th>\n",
              "    </tr>\n",
              "  </thead>\n",
              "  <tbody>\n",
              "    <tr>\n",
              "      <th>0</th>\n",
              "      <td>[1]</td>\n",
              "      <td>[1]</td>\n",
              "      <td>[1]</td>\n",
              "      <td>NaN</td>\n",
              "    </tr>\n",
              "  </tbody>\n",
              "</table>\n",
              "</div>"
            ],
            "text/plain": [
              "  YhatDT YhatSVM YhatNB YhatRegLog\n",
              "0    [1]     [1]    [1]        NaN"
            ]
          },
          "metadata": {
            "tags": []
          },
          "execution_count": 103
        }
      ]
    },
    {
      "cell_type": "markdown",
      "metadata": {
        "id": "lxsB8tcgHcli"
      },
      "source": [
        "# Caso 9"
      ]
    },
    {
      "cell_type": "code",
      "metadata": {
        "colab": {
          "base_uri": "https://localhost:8080/",
          "height": 355
        },
        "id": "khkx1dJmH55V",
        "outputId": "8fe600b9-29b2-43c5-f529-89242e9d7625"
      },
      "source": [
        "dataset = crearRegistro()\n",
        "dataset"
      ],
      "execution_count": 104,
      "outputs": [
        {
          "output_type": "stream",
          "text": [
            "Enter Passegerid :9\n",
            "Enter Name :franco Almyr\n",
            "Enter Age: 43\n",
            "Enter SibSp: 3\n",
            "Enter Parch:0\n",
            "Enter Ticket:SA-21\n",
            "Enter Fare:20.21\n",
            "Enter Cabin:\n",
            "Enter Embarked:C\n",
            "Enter passenger_class:Lower\n",
            "Enter passenger_sex:M\n",
            "Empty DataFrame\n",
            "Columns: [PassengerId, Name, Age, SibSp, Parch, Ticket, Fare, Cabin, Embarked, passenger_class, passenger_sex]\n",
            "Index: []\n"
          ],
          "name": "stdout"
        },
        {
          "output_type": "execute_result",
          "data": {
            "text/html": [
              "<div>\n",
              "<style scoped>\n",
              "    .dataframe tbody tr th:only-of-type {\n",
              "        vertical-align: middle;\n",
              "    }\n",
              "\n",
              "    .dataframe tbody tr th {\n",
              "        vertical-align: top;\n",
              "    }\n",
              "\n",
              "    .dataframe thead th {\n",
              "        text-align: right;\n",
              "    }\n",
              "</style>\n",
              "<table border=\"1\" class=\"dataframe\">\n",
              "  <thead>\n",
              "    <tr style=\"text-align: right;\">\n",
              "      <th></th>\n",
              "      <th>PassengerId</th>\n",
              "      <th>Name</th>\n",
              "      <th>Age</th>\n",
              "      <th>SibSp</th>\n",
              "      <th>Parch</th>\n",
              "      <th>Ticket</th>\n",
              "      <th>Fare</th>\n",
              "      <th>Cabin</th>\n",
              "      <th>Embarked</th>\n",
              "      <th>passenger_class</th>\n",
              "      <th>passenger_sex</th>\n",
              "      <th>FamilySize</th>\n",
              "      <th>IsAlone</th>\n",
              "      <th>Has_Cabin</th>\n",
              "    </tr>\n",
              "  </thead>\n",
              "  <tbody>\n",
              "    <tr>\n",
              "      <th>0</th>\n",
              "      <td>9</td>\n",
              "      <td>franco Almyr</td>\n",
              "      <td>2</td>\n",
              "      <td>3</td>\n",
              "      <td>0</td>\n",
              "      <td>SA-21</td>\n",
              "      <td>0</td>\n",
              "      <td></td>\n",
              "      <td>1</td>\n",
              "      <td>0</td>\n",
              "      <td>1</td>\n",
              "      <td>1</td>\n",
              "      <td>1</td>\n",
              "      <td>1</td>\n",
              "    </tr>\n",
              "  </tbody>\n",
              "</table>\n",
              "</div>"
            ],
            "text/plain": [
              "  PassengerId          Name  Age  ... FamilySize IsAlone Has_Cabin\n",
              "0           9  franco Almyr    2  ...          1       1         1\n",
              "\n",
              "[1 rows x 14 columns]"
            ]
          },
          "metadata": {
            "tags": []
          },
          "execution_count": 104
        }
      ]
    },
    {
      "cell_type": "code",
      "metadata": {
        "colab": {
          "base_uri": "https://localhost:8080/",
          "height": 148
        },
        "id": "ip7j_kqmIGUg",
        "outputId": "51ac3d60-6577-4e63-e13c-5cfd47206080"
      },
      "source": [
        "ds = Eval(dataset)\n",
        "print('DATOS DE SALIDA: ')\n",
        "ds"
      ],
      "execution_count": 105,
      "outputs": [
        {
          "output_type": "stream",
          "text": [
            "Empty DataFrame\n",
            "Columns: [YhatDT, YhatSVM, YhatNB, YhatRegLog]\n",
            "Index: []\n",
            "DATOS DE SALIDA: \n"
          ],
          "name": "stdout"
        },
        {
          "output_type": "execute_result",
          "data": {
            "text/html": [
              "<div>\n",
              "<style scoped>\n",
              "    .dataframe tbody tr th:only-of-type {\n",
              "        vertical-align: middle;\n",
              "    }\n",
              "\n",
              "    .dataframe tbody tr th {\n",
              "        vertical-align: top;\n",
              "    }\n",
              "\n",
              "    .dataframe thead th {\n",
              "        text-align: right;\n",
              "    }\n",
              "</style>\n",
              "<table border=\"1\" class=\"dataframe\">\n",
              "  <thead>\n",
              "    <tr style=\"text-align: right;\">\n",
              "      <th></th>\n",
              "      <th>YhatDT</th>\n",
              "      <th>YhatSVM</th>\n",
              "      <th>YhatNB</th>\n",
              "      <th>YhatRegLog</th>\n",
              "    </tr>\n",
              "  </thead>\n",
              "  <tbody>\n",
              "    <tr>\n",
              "      <th>0</th>\n",
              "      <td>[0]</td>\n",
              "      <td>[0]</td>\n",
              "      <td>[0]</td>\n",
              "      <td>NaN</td>\n",
              "    </tr>\n",
              "  </tbody>\n",
              "</table>\n",
              "</div>"
            ],
            "text/plain": [
              "  YhatDT YhatSVM YhatNB YhatRegLog\n",
              "0    [0]     [0]    [0]        NaN"
            ]
          },
          "metadata": {
            "tags": []
          },
          "execution_count": 105
        }
      ]
    },
    {
      "cell_type": "markdown",
      "metadata": {
        "id": "qX6cq31JIIN3"
      },
      "source": [
        "# Caso 10"
      ]
    },
    {
      "cell_type": "code",
      "metadata": {
        "colab": {
          "base_uri": "https://localhost:8080/",
          "height": 372
        },
        "id": "T6cba3h_IL7o",
        "outputId": "6e871f31-44a1-40be-ae4c-40b232fa48e1"
      },
      "source": [
        "dataset = crearRegistro()\n",
        "dataset"
      ],
      "execution_count": 106,
      "outputs": [
        {
          "output_type": "stream",
          "text": [
            "Enter Passegerid :10\n",
            "Enter Name :Salazar, Mr David\n",
            "Enter Age: 8\n",
            "Enter SibSp: 1\n",
            "Enter Parch:1\n",
            "Enter Ticket:Sa-21\n",
            "Enter Fare:10\n",
            "Enter Cabin:\n",
            "Enter Embarked:S\n",
            "Enter passenger_class:Upper\n",
            "Enter passenger_sex:M\n",
            "Empty DataFrame\n",
            "Columns: [PassengerId, Name, Age, SibSp, Parch, Ticket, Fare, Cabin, Embarked, passenger_class, passenger_sex]\n",
            "Index: []\n"
          ],
          "name": "stdout"
        },
        {
          "output_type": "execute_result",
          "data": {
            "text/html": [
              "<div>\n",
              "<style scoped>\n",
              "    .dataframe tbody tr th:only-of-type {\n",
              "        vertical-align: middle;\n",
              "    }\n",
              "\n",
              "    .dataframe tbody tr th {\n",
              "        vertical-align: top;\n",
              "    }\n",
              "\n",
              "    .dataframe thead th {\n",
              "        text-align: right;\n",
              "    }\n",
              "</style>\n",
              "<table border=\"1\" class=\"dataframe\">\n",
              "  <thead>\n",
              "    <tr style=\"text-align: right;\">\n",
              "      <th></th>\n",
              "      <th>PassengerId</th>\n",
              "      <th>Name</th>\n",
              "      <th>Age</th>\n",
              "      <th>SibSp</th>\n",
              "      <th>Parch</th>\n",
              "      <th>Ticket</th>\n",
              "      <th>Fare</th>\n",
              "      <th>Cabin</th>\n",
              "      <th>Embarked</th>\n",
              "      <th>passenger_class</th>\n",
              "      <th>passenger_sex</th>\n",
              "      <th>FamilySize</th>\n",
              "      <th>IsAlone</th>\n",
              "      <th>Has_Cabin</th>\n",
              "    </tr>\n",
              "  </thead>\n",
              "  <tbody>\n",
              "    <tr>\n",
              "      <th>0</th>\n",
              "      <td>10</td>\n",
              "      <td>Salazar, Mr David</td>\n",
              "      <td>0</td>\n",
              "      <td>1</td>\n",
              "      <td>1</td>\n",
              "      <td>Sa-21</td>\n",
              "      <td>0</td>\n",
              "      <td></td>\n",
              "      <td>0</td>\n",
              "      <td>2</td>\n",
              "      <td>1</td>\n",
              "      <td>4</td>\n",
              "      <td>0</td>\n",
              "      <td>1</td>\n",
              "    </tr>\n",
              "  </tbody>\n",
              "</table>\n",
              "</div>"
            ],
            "text/plain": [
              "  PassengerId               Name  Age  ... FamilySize IsAlone Has_Cabin\n",
              "0          10  Salazar, Mr David    0  ...          4       0         1\n",
              "\n",
              "[1 rows x 14 columns]"
            ]
          },
          "metadata": {
            "tags": []
          },
          "execution_count": 106
        }
      ]
    },
    {
      "cell_type": "code",
      "metadata": {
        "colab": {
          "base_uri": "https://localhost:8080/",
          "height": 148
        },
        "id": "jEQKxYrrIUDf",
        "outputId": "0a68b3fe-4c1a-44f7-8093-10eadae46e0a"
      },
      "source": [
        "ds = Eval(dataset)\n",
        "print('DATOS DE SALIDA: ')\n",
        "ds"
      ],
      "execution_count": 107,
      "outputs": [
        {
          "output_type": "stream",
          "text": [
            "Empty DataFrame\n",
            "Columns: [YhatDT, YhatSVM, YhatNB, YhatRegLog]\n",
            "Index: []\n",
            "DATOS DE SALIDA: \n"
          ],
          "name": "stdout"
        },
        {
          "output_type": "execute_result",
          "data": {
            "text/html": [
              "<div>\n",
              "<style scoped>\n",
              "    .dataframe tbody tr th:only-of-type {\n",
              "        vertical-align: middle;\n",
              "    }\n",
              "\n",
              "    .dataframe tbody tr th {\n",
              "        vertical-align: top;\n",
              "    }\n",
              "\n",
              "    .dataframe thead th {\n",
              "        text-align: right;\n",
              "    }\n",
              "</style>\n",
              "<table border=\"1\" class=\"dataframe\">\n",
              "  <thead>\n",
              "    <tr style=\"text-align: right;\">\n",
              "      <th></th>\n",
              "      <th>YhatDT</th>\n",
              "      <th>YhatSVM</th>\n",
              "      <th>YhatNB</th>\n",
              "      <th>YhatRegLog</th>\n",
              "    </tr>\n",
              "  </thead>\n",
              "  <tbody>\n",
              "    <tr>\n",
              "      <th>0</th>\n",
              "      <td>[1]</td>\n",
              "      <td>[1]</td>\n",
              "      <td>[0]</td>\n",
              "      <td>NaN</td>\n",
              "    </tr>\n",
              "  </tbody>\n",
              "</table>\n",
              "</div>"
            ],
            "text/plain": [
              "  YhatDT YhatSVM YhatNB YhatRegLog\n",
              "0    [1]     [1]    [0]        NaN"
            ]
          },
          "metadata": {
            "tags": []
          },
          "execution_count": 107
        }
      ]
    }
  ]
}