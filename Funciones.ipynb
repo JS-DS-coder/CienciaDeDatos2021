{
  "nbformat": 4,
  "nbformat_minor": 0,
  "metadata": {
    "colab": {
      "name": "Untitled1.ipynb",
      "provenance": [],
      "collapsed_sections": []
    },
    "kernelspec": {
      "name": "python3",
      "display_name": "Python 3"
    }
  },
  "cells": [
    {
      "cell_type": "markdown",
      "metadata": {
        "id": "geQqQ65oZHkW"
      },
      "source": [
        "**Jairo salazar**\n",
        "**21000887**"
      ]
    },
    {
      "cell_type": "markdown",
      "metadata": {
        "id": "bSl4kLzxW3zs"
      },
      "source": [
        "# **Funciones en Python**\n",
        "\n",
        "Python, soporta la implementacion de funciones, las cuales deben de ser declaradas con la palabra def reservada. De la siguiente manera:\n"
      ]
    },
    {
      "cell_type": "code",
      "metadata": {
        "colab": {
          "base_uri": "https://localhost:8080/"
        },
        "id": "gp7WewriXjZu",
        "outputId": "31411586-db6e-4eaf-bb6d-4f97c0527e10"
      },
      "source": [
        "def HolaMundo():\n",
        "    #se debe de justificar el codigo que va dentro de la funcion\n",
        "    print (\"Hola Mundo\")\n",
        "\n",
        "\n",
        "HolaMundo()"
      ],
      "execution_count": 2,
      "outputs": [
        {
          "output_type": "stream",
          "text": [
            "Hola Mundo\n"
          ],
          "name": "stdout"
        }
      ]
    },
    {
      "cell_type": "code",
      "metadata": {
        "id": "Ogkmu2njZMe3"
      },
      "source": [
        ""
      ],
      "execution_count": null,
      "outputs": []
    },
    {
      "cell_type": "markdown",
      "metadata": {
        "id": "WfzLEvt_X8zt"
      },
      "source": [
        "Notese que la función debe de ser declarada y/o ejecutada antes de ser utilizada. El codigo que va dentro de la funcion esta indentado. \n",
        "\n",
        "**Parametros en funciones de Python**\n",
        "\n",
        "Los parametros se deben de trasladar a la funcion dentro del parentesis en el mismo orden en que fueron declarados, aunque esto puede ser evitado utilizando keywords. \n",
        "\n",
        "Los parametros tienen ambito local dentro de la funcion, es decir no pueden ser utilizados fuera de ella. \n",
        "\n",
        "**Valores por Defecto**\n",
        "Como en otros lenguajes de programacion, es posible asignar un valor por defecto a un parametro. De hecho la gran mayoria de funciones de las diversas librerias de python, tienen parametros por defecto:\n"
      ]
    },
    {
      "cell_type": "code",
      "metadata": {
        "colab": {
          "base_uri": "https://localhost:8080/"
        },
        "id": "pwqgWyj8pOzw",
        "outputId": "a62157e4-1a88-4190-84eb-2430026f8cb1"
      },
      "source": [
        "def HolaMundo(Nombre = \"Jairo Salazar\"):\n",
        "    #se debe de justificar el codigo que va dentro de la funcion\n",
        "    print (\"Hola Mundo \"+Nombre)\n",
        "\n",
        "\n",
        "HolaMundo()\n",
        "HolaMundo(\"Visitante\")"
      ],
      "execution_count": 5,
      "outputs": [
        {
          "output_type": "stream",
          "text": [
            "Hola Mundo Jairo Salazar\n",
            "Hola Mundo Visitante\n"
          ],
          "name": "stdout"
        }
      ]
    },
    {
      "cell_type": "markdown",
      "metadata": {
        "id": "BP4iEikxpfY7"
      },
      "source": [
        "**Keywords como Parametros**\n",
        "Es posible llamar a una funcion estableciendo explicitamente los valores para los parametros. Esto ayuda a tener claridad al momento de hacer un llamado a las funciones."
      ]
    },
    {
      "cell_type": "code",
      "metadata": {
        "colab": {
          "base_uri": "https://localhost:8080/"
        },
        "id": "g43TM60mp_H_",
        "outputId": "d2c6af9f-abd2-413c-cd0b-4874c13650d3"
      },
      "source": [
        "def HolaMundo(Nombre = \"Jairo Salazar\"):\n",
        "    #se debe de justificar el codigo que va dentro de la funcion\n",
        "    print (\"Hola Mundo \"+Nombre)\n",
        "\n",
        "\n",
        "HolaMundo(Nombre = \"Stranger\")"
      ],
      "execution_count": 6,
      "outputs": [
        {
          "output_type": "stream",
          "text": [
            "Hola Mundo Stranger\n"
          ],
          "name": "stdout"
        }
      ]
    },
    {
      "cell_type": "markdown",
      "metadata": {
        "id": "DZ3_lxWzqP12"
      },
      "source": [
        "**Parametros Arbitrarios**\n",
        "\n",
        "Python permite el poder enviar un numero desconocido de parametros a un funcion, utilizando el concepto de una tupla. Una tupla contiene valores que no pueden cambiarse. Estos parametros deben de identificarse con un *, al ser declarado en la funcion. \n",
        "\n",
        "*Importante:* si se tiene una funcion en la cual se desea trasladar como parametros un dato normal y una coleccion, las colecciones deben de ir hasta el final."
      ]
    },
    {
      "cell_type": "code",
      "metadata": {
        "colab": {
          "base_uri": "https://localhost:8080/"
        },
        "id": "H3y5w5vcrTY_",
        "outputId": "342640c8-490f-49fd-9d21-8180494d1a32"
      },
      "source": [
        "def HolaMundo(Nombre = \"Jairo Salazar\",*keywords):\n",
        "    #se debe de justificar el codigo que va dentro de la funcion\n",
        "    print (\"Hola Mundo \"+Nombre)\n",
        "    for k in keywords:\n",
        "        print (k)\n",
        "\n",
        "\n",
        "HolaMundo(\"Visitante\",\"K1\",\"k2\",\"k3\")"
      ],
      "execution_count": 9,
      "outputs": [
        {
          "output_type": "stream",
          "text": [
            "Hola Mundo Visitante\n",
            "K1\n",
            "k2\n",
            "k3\n"
          ],
          "name": "stdout"
        }
      ]
    },
    {
      "cell_type": "markdown",
      "metadata": {
        "id": "RXKGqOkcscYF"
      },
      "source": [
        "Tambien se puede trasladar parametros como un diccionario, como una coleccion clave-valor. para esto, se debe de colocar un doble * antes del nombre de la funcion. De esta manera:"
      ]
    },
    {
      "cell_type": "code",
      "metadata": {
        "colab": {
          "base_uri": "https://localhost:8080/"
        },
        "id": "rUvmV-Aes6-j",
        "outputId": "766eaf29-dd5c-4f20-9461-71cbe70870c6"
      },
      "source": [
        "def HolaMundo(Nombre = \"Jairo Salazar\",*keywords,**Diccionario):\n",
        "    #se debe de justificar el codigo que va dentro de la funcion\n",
        "    print (\"Hola Mundo \"+Nombre)\n",
        "    \n",
        "    for k in keywords:\n",
        "        print (k)\n",
        "    \n",
        "    for d in Diccionario:\n",
        "        print(\"clave: \" + d + \", Valor: \" + Diccionario[d])\n",
        "\n",
        "\n",
        "\n",
        "HolaMundo(\"Visitante\",\"K1\",\"k2\",\"k3\",a1=\"prueba1\",a2=\"prueba2\",a3=\"prueba3\")"
      ],
      "execution_count": 10,
      "outputs": [
        {
          "output_type": "stream",
          "text": [
            "Hola Mundo Visitante\n",
            "K1\n",
            "k2\n",
            "k3\n",
            "clave: a1, Valor: prueba1\n",
            "clave: a2, Valor: prueba2\n",
            "clave: a3, Valor: prueba3\n"
          ],
          "name": "stdout"
        }
      ]
    },
    {
      "cell_type": "markdown",
      "metadata": {
        "id": "rCaTsNoft9kE"
      },
      "source": [
        "Puede ocurrir, lo inverso es decir que la funcion espere parametros separados, pero que se envien en una tupla:"
      ]
    },
    {
      "cell_type": "code",
      "metadata": {
        "colab": {
          "base_uri": "https://localhost:8080/"
        },
        "id": "ql_7wzJpuOa9",
        "outputId": "14e20fad-86d2-4380-84fd-606b39002541"
      },
      "source": [
        "def HolaMundo(Nombre1,Apellido1):\n",
        "    #se debe de justificar el codigo que va dentro de la funcion\n",
        "    print (\"Hola Mundo \"+Nombre1 + \" \" + Apellido1)\n",
        "    \n",
        "\n",
        "\n",
        "datos = [\"Jairo\",\"Salazar\"]\n",
        "HolaMundo(*datos)"
      ],
      "execution_count": 12,
      "outputs": [
        {
          "output_type": "stream",
          "text": [
            "Hola Mundo Jairo Salazar\n"
          ],
          "name": "stdout"
        }
      ]
    },
    {
      "cell_type": "markdown",
      "metadata": {
        "id": "4hwkybW1vIFp"
      },
      "source": [
        "**Llamadas de Retorno**\n",
        "Como cualquier lenguaje, se permite llamar funciones dentro de otras funciones, pero lo interesante de python es que permite llamar a una funcion de manera dinamica dentro de otra, estas son denominads llamada de retorno.\n",
        "\n",
        "Se puede saber si una funcion puede ser llamada, es decir si la misma existe. Eso se efectua mediante la funcion *Callable*"
      ]
    },
    {
      "cell_type": "markdown",
      "metadata": {
        "id": "_ZGItOYSwbD6"
      },
      "source": [
        "**Retorno de Valores**\n",
        "Es posible tambien que python nos permita el retorno de uno o multiples valores. El mismo debe de ir separado por comas y puede ser recibido en variables separadas o en una coleccion. "
      ]
    },
    {
      "cell_type": "code",
      "metadata": {
        "colab": {
          "base_uri": "https://localhost:8080/"
        },
        "id": "LnjNLi9-xd1N",
        "outputId": "d65b9fbe-7e6e-4fd8-996c-2e4ba1c05f53"
      },
      "source": [
        "def HolaMundo():\n",
        "    #se debe de justificar el codigo que va dentro de la funcion\n",
        "    return \"Jairo Salazar\",21000887,[\"David\",\"Rodri\",\"Valery\"]\n",
        "    \n",
        "\n",
        "\n",
        "Nombre,carnet,hijos = HolaMundo()\n",
        "print(Nombre)\n",
        "print(carnet)\n",
        "for x in hijos:\n",
        "   print(x);"
      ],
      "execution_count": 16,
      "outputs": [
        {
          "output_type": "stream",
          "text": [
            "Jairo Salazar\n",
            "21000887\n",
            "David\n",
            "Rodri\n",
            "Valery\n"
          ],
          "name": "stdout"
        }
      ]
    },
    {
      "cell_type": "markdown",
      "metadata": {
        "id": "gBV-XuaFygyB"
      },
      "source": [
        "**Funciones anonimas o Lambda**\n",
        "Las funciones anonimas o Lambda son aquellas que se definen sin nombre.Para crear una funcion anonima se debe hacer los siguiente:\n",
        "\n",
        "\n",
        "*   Llamar a lambda es decir que vamos a crear una funcion anonima.\n",
        "*   Pasar los parametros separados por coma.\n",
        "*   Definir la accion que se ejecutara.\n",
        "\n",
        "Es decir en una misma linea, se definen estas tres cosas, de la siguiente manera:\n"
      ]
    },
    {
      "cell_type": "code",
      "metadata": {
        "colab": {
          "base_uri": "https://localhost:8080/"
        },
        "id": "5M35Nt9MzppA",
        "outputId": "04da6182-0161-435c-c5fe-8c11b6068374"
      },
      "source": [
        "    Divide = lambda x, y: x / y\n",
        "\n",
        "    print(Divide(10, 5))"
      ],
      "execution_count": 18,
      "outputs": [
        {
          "output_type": "stream",
          "text": [
            "2.0\n"
          ],
          "name": "stdout"
        }
      ]
    }
  ]
}