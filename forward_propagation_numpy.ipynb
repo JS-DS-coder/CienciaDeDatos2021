{
  "nbformat": 4,
  "nbformat_minor": 0,
  "metadata": {
    "colab": {
      "name": "forward_propagation_numpy.ipynb",
      "provenance": [],
      "collapsed_sections": [],
      "include_colab_link": true
    },
    "kernelspec": {
      "name": "python3",
      "display_name": "Python 3"
    }
  },
  "cells": [
    {
      "cell_type": "markdown",
      "metadata": {
        "id": "view-in-github",
        "colab_type": "text"
      },
      "source": [
        "<a href=\"https://colab.research.google.com/github/JS-DS-coder/CienciaDeDatos2021/blob/master/forward_propagation_numpy.ipynb\" target=\"_parent\"><img src=\"https://colab.research.google.com/assets/colab-badge.svg\" alt=\"Open In Colab\"/></a>"
      ]
    },
    {
      "cell_type": "markdown",
      "metadata": {
        "id": "-xJPhEzbqWp9"
      },
      "source": [
        "Igorando el sesgo/bias y asumiendo activación sigmoidal implementar la siguiente red neuronal en NumPy\n",
        "\n",
        "https://gadictos.com/neural-network-pt1/\n",
        "<img src=\"https://gadictos.com/wp-content/uploads/2019/05/bp1.png\">"
      ]
    },
    {
      "cell_type": "code",
      "metadata": {
        "id": "Q1yAwOc4qPLs"
      },
      "source": [
        "import numpy as np"
      ],
      "execution_count": 1,
      "outputs": []
    },
    {
      "cell_type": "code",
      "metadata": {
        "id": "hir96PwIqZOB",
        "colab": {
          "base_uri": "https://localhost:8080/"
        },
        "outputId": "249d9902-f849-44aa-c947-11c1e4dd5cbb"
      },
      "source": [
        "def sigmoid(X):\n",
        "  return 1/(1+np.exp(-X))\n",
        "\n",
        "sigmoid(np.array([2,3,4]))"
      ],
      "execution_count": 2,
      "outputs": [
        {
          "output_type": "execute_result",
          "data": {
            "text/plain": [
              "array([0.88079708, 0.95257413, 0.98201379])"
            ]
          },
          "metadata": {
            "tags": []
          },
          "execution_count": 2
        }
      ]
    },
    {
      "cell_type": "code",
      "metadata": {
        "id": "O7GP_nCsq1PK"
      },
      "source": [
        "Wc1 = np.array([\n",
        "   [0.9,0.3,0.2],\n",
        "   [0.8,0.5,0.4],\n",
        "   [0.1,0.6,0.7]\n",
        "])"
      ],
      "execution_count": 3,
      "outputs": []
    },
    {
      "cell_type": "code",
      "metadata": {
        "id": "dvgUY50uruJm"
      },
      "source": [
        "Wc2 = np.array([0.3,0.5,0.9])"
      ],
      "execution_count": 4,
      "outputs": []
    },
    {
      "cell_type": "code",
      "metadata": {
        "id": "h2gQk06wr-2U"
      },
      "source": [
        "# 4 observaciones, 3 variables\n",
        "X = np.array([\n",
        "      [1,0,1],\n",
        "      [1,2,3],\n",
        "      [4,5,6],\n",
        "      [6,7,8],\n",
        "])"
      ],
      "execution_count": 5,
      "outputs": []
    },
    {
      "cell_type": "markdown",
      "metadata": {
        "id": "83lprDqdsXS9"
      },
      "source": [
        "### Forward-propagation(inferencia, prediccion, o estimacion)\n"
      ]
    },
    {
      "cell_type": "code",
      "metadata": {
        "id": "6YQQehtksWIh"
      },
      "source": [
        "H = np.matmul(X,Wc1)"
      ],
      "execution_count": 6,
      "outputs": []
    },
    {
      "cell_type": "code",
      "metadata": {
        "id": "Yk6tcrDVspc5",
        "colab": {
          "base_uri": "https://localhost:8080/"
        },
        "outputId": "4de81d49-25df-49f4-80f3-e3b9501aa97e"
      },
      "source": [
        "X.shape"
      ],
      "execution_count": 7,
      "outputs": [
        {
          "output_type": "execute_result",
          "data": {
            "text/plain": [
              "(4, 3)"
            ]
          },
          "metadata": {
            "tags": []
          },
          "execution_count": 7
        }
      ]
    },
    {
      "cell_type": "code",
      "metadata": {
        "id": "N-N_C7E2ssQQ",
        "colab": {
          "base_uri": "https://localhost:8080/"
        },
        "outputId": "720d020b-9ef4-40b2-b43f-e9393c0884c6"
      },
      "source": [
        "Wc1.shape"
      ],
      "execution_count": 8,
      "outputs": [
        {
          "output_type": "execute_result",
          "data": {
            "text/plain": [
              "(3, 3)"
            ]
          },
          "metadata": {
            "tags": []
          },
          "execution_count": 8
        }
      ]
    },
    {
      "cell_type": "code",
      "metadata": {
        "id": "JNLhgYB6styV",
        "colab": {
          "base_uri": "https://localhost:8080/"
        },
        "outputId": "92f8a2ee-5b80-4f1b-a0f3-486ac1b0a69e"
      },
      "source": [
        "H.shape"
      ],
      "execution_count": 9,
      "outputs": [
        {
          "output_type": "execute_result",
          "data": {
            "text/plain": [
              "(4, 3)"
            ]
          },
          "metadata": {
            "tags": []
          },
          "execution_count": 9
        }
      ]
    },
    {
      "cell_type": "code",
      "metadata": {
        "colab": {
          "base_uri": "https://localhost:8080/"
        },
        "id": "hl3ppyjaIVgE",
        "outputId": "cfdb71ae-f073-4a70-de1c-6b57176fc125"
      },
      "source": [
        "H"
      ],
      "execution_count": 10,
      "outputs": [
        {
          "output_type": "execute_result",
          "data": {
            "text/plain": [
              "array([[ 1. ,  0.9,  0.9],\n",
              "       [ 2.8,  3.1,  3.1],\n",
              "       [ 8.2,  7.3,  7. ],\n",
              "       [11.8, 10.1,  9.6]])"
            ]
          },
          "metadata": {
            "tags": []
          },
          "execution_count": 10
        }
      ]
    },
    {
      "cell_type": "code",
      "metadata": {
        "id": "K1BwUuoxs1K9"
      },
      "source": [
        "A = sigmoid(H)"
      ],
      "execution_count": 11,
      "outputs": []
    },
    {
      "cell_type": "code",
      "metadata": {
        "id": "-JrD3ICAtLfY",
        "colab": {
          "base_uri": "https://localhost:8080/"
        },
        "outputId": "1f8d115d-1ca8-4a35-e5f6-fc61360e3388"
      },
      "source": [
        "A"
      ],
      "execution_count": 12,
      "outputs": [
        {
          "output_type": "execute_result",
          "data": {
            "text/plain": [
              "array([[0.73105858, 0.7109495 , 0.7109495 ],\n",
              "       [0.94267582, 0.95689275, 0.95689275],\n",
              "       [0.99972542, 0.99932492, 0.99908895],\n",
              "       [0.9999925 , 0.99995892, 0.99993228]])"
            ]
          },
          "metadata": {
            "tags": []
          },
          "execution_count": 12
        }
      ]
    },
    {
      "cell_type": "code",
      "metadata": {
        "id": "Rhk8mrKutMYa"
      },
      "source": [
        "y_aprox = sigmoid(np.matmul(\n",
        "    A,Wc2\n",
        "))"
      ],
      "execution_count": 13,
      "outputs": []
    },
    {
      "cell_type": "code",
      "metadata": {
        "id": "RlJksB9Bt2kU",
        "colab": {
          "base_uri": "https://localhost:8080/"
        },
        "outputId": "00aca5ec-3c22-4eb9-d143-b16785b815d9"
      },
      "source": [
        "y_aprox"
      ],
      "execution_count": 14,
      "outputs": [
        {
          "output_type": "execute_result",
          "data": {
            "text/plain": [
              "array([0.77112013, 0.83513309, 0.84537273, 0.8455238 ])"
            ]
          },
          "metadata": {
            "tags": []
          },
          "execution_count": 14
        }
      ]
    },
    {
      "cell_type": "code",
      "metadata": {
        "id": "xi3gkqIyugog"
      },
      "source": [
        "def g(X):\n",
        "  return sigmoid(np.matmul(X,Wc1))"
      ],
      "execution_count": 15,
      "outputs": []
    },
    {
      "cell_type": "code",
      "metadata": {
        "id": "bXoXpxdUuM44"
      },
      "source": [
        "def f(g):\n",
        "  return sigmoid(np.matmul(g,Wc2))"
      ],
      "execution_count": 16,
      "outputs": []
    },
    {
      "cell_type": "code",
      "metadata": {
        "id": "D3XYAyaWt4Dq"
      },
      "source": [
        "y_aprox = f(g(X))"
      ],
      "execution_count": 17,
      "outputs": []
    },
    {
      "cell_type": "code",
      "metadata": {
        "id": "VLV6mCnXu0Uq",
        "colab": {
          "base_uri": "https://localhost:8080/"
        },
        "outputId": "cda0c2ea-b9a6-42c8-f3df-5d5aedfe40fa"
      },
      "source": [
        "y_aprox"
      ],
      "execution_count": 18,
      "outputs": [
        {
          "output_type": "execute_result",
          "data": {
            "text/plain": [
              "array([0.77112013, 0.83513309, 0.84537273, 0.8455238 ])"
            ]
          },
          "metadata": {
            "tags": []
          },
          "execution_count": 18
        }
      ]
    },
    {
      "cell_type": "markdown",
      "metadata": {
        "id": "ET5Q69rqTRqN"
      },
      "source": [
        "#### Orientado a objetos"
      ]
    },
    {
      "cell_type": "code",
      "metadata": {
        "id": "YQoIIfoDu19e"
      },
      "source": [
        "class RedNeuronal:\n",
        "  def __init__(self,w1,w2):\n",
        "    self.Wc1   = w1\n",
        "    self. Wc2  = w2\n",
        "\n",
        "  def forward_propagation(self,X):\n",
        "    A = sigmoid(np.matmul(X,self.Wc1))\n",
        "    y_aprox = sigmoid(np.matmul(A,self.Wc2))\n",
        "\n",
        "    return y_aprox"
      ],
      "execution_count": 22,
      "outputs": []
    },
    {
      "cell_type": "code",
      "metadata": {
        "id": "S9QeAwizUOQ1",
        "colab": {
          "base_uri": "https://localhost:8080/"
        },
        "outputId": "c93e2e30-daf2-4e03-c5b3-f36276d24663"
      },
      "source": [
        "Wc1 = np.array([\n",
        "   [0.9,0.3,0.2],\n",
        "   [0.8,0.5,0.4],\n",
        "   [0.1,0.6,0.7]\n",
        "])\n",
        "\n",
        "Wc2 = np.array([0.3,0.5,0.9])\n",
        "\n",
        "X = np.array([\n",
        "      [1,0,1],\n",
        "      [1,2,3],\n",
        "      [4,5,6],\n",
        "      [6,7,8],\n",
        "])\n",
        "\n",
        "red = RedNeuronal(Wc1,Wc2)\n",
        "red.forward_propagation(X)"
      ],
      "execution_count": 24,
      "outputs": [
        {
          "output_type": "execute_result",
          "data": {
            "text/plain": [
              "array([0.77112013, 0.83513309, 0.84537273, 0.8455238 ])"
            ]
          },
          "metadata": {
            "tags": []
          },
          "execution_count": 24
        }
      ]
    },
    {
      "cell_type": "markdown",
      "metadata": {
        "id": "zzvKRkK8EQBI"
      },
      "source": [
        "<img src=\"https://i.imgur.com/IDFRq5a.png\">"
      ]
    },
    {
      "cell_type": "markdown",
      "metadata": {
        "id": "mOthS-Y8SxaV"
      },
      "source": [
        "[0.73105858 0.78583498 0.68997448]"
      ]
    },
    {
      "cell_type": "code",
      "metadata": {
        "id": "EbyD6o9xSw8A"
      },
      "source": [
        ""
      ],
      "execution_count": null,
      "outputs": []
    },
    {
      "cell_type": "code",
      "metadata": {
        "id": "JqwT9ScPUnTc"
      },
      "source": [
        "class RedNeuronal:\n",
        "  def __init__(self):\n",
        "    # 1 fila por neurona , 1 columna por variable de entrada\n",
        "    self.Wc1 = np.array([\n",
        "        [0.8,0.2],\n",
        "        [0.4,0.9],\n",
        "        [0.3,0.5]    \n",
        "    ])\n",
        "\n",
        "    # 1 elemento para cada neurona intermedia\n",
        "    self. Wc2  = np.array([0.3,0.5,0.9])\n",
        "\n",
        "  def forward_propagation(self,X):\n",
        "    print(X.shape)\n",
        "    print(self.Wc1.T.shape)\n",
        "    A = sigmoid(np.matmul(X,self.Wc1.T)) # 1 fila por observacion, 1 columna por representacion intermedia [4,3]\n",
        "    print(A)\n",
        "    print(A.shape)\n",
        "    y_aprox = sigmoid(np.matmul(A,self.Wc2)) # 1 fila por observacion,  1 unica salida [4,1]\n",
        "    print(y_aprox.shape)\n",
        "    return y_aprox"
      ],
      "execution_count": 25,
      "outputs": []
    },
    {
      "cell_type": "code",
      "metadata": {
        "id": "ErGGNxXUOmm1"
      },
      "source": [
        "# 4 observaciones, 2 variables\n",
        "X = np.array([\n",
        "      [1,1],\n",
        "      [1,2],\n",
        "      [4,5],\n",
        "      [6,7],\n",
        "])"
      ],
      "execution_count": 26,
      "outputs": []
    },
    {
      "cell_type": "code",
      "metadata": {
        "id": "EJ8aX9rtP8UL",
        "colab": {
          "base_uri": "https://localhost:8080/"
        },
        "outputId": "0273aec1-a966-410b-9372-c6432ecb68d4"
      },
      "source": [
        "red = RedNeuronal()\n",
        "y_aprox = red.forward_propagation(X)"
      ],
      "execution_count": 27,
      "outputs": [
        {
          "output_type": "stream",
          "text": [
            "(4, 2)\n",
            "(2, 3)\n",
            "[[0.73105858 0.78583498 0.68997448]\n",
            " [0.76852478 0.90024951 0.78583498]\n",
            " [0.98522597 0.99776215 0.97587298]\n",
            " [0.99797468 0.99983344 0.9950332 ]]\n",
            "(4, 3)\n",
            "(4,)\n"
          ],
          "name": "stdout"
        }
      ]
    },
    {
      "cell_type": "code",
      "metadata": {
        "id": "bqvVlr8nQG83",
        "colab": {
          "base_uri": "https://localhost:8080/"
        },
        "outputId": "5e7125e4-cb7a-40b3-843c-82ee1bd55165"
      },
      "source": [
        "y_aprox"
      ],
      "execution_count": 28,
      "outputs": [
        {
          "output_type": "execute_result",
          "data": {
            "text/plain": [
              "array([0.77438027, 0.80026216, 0.84194007, 0.84485948])"
            ]
          },
          "metadata": {
            "tags": []
          },
          "execution_count": 28
        }
      ]
    },
    {
      "cell_type": "code",
      "metadata": {
        "id": "AWBZdfJRSAvT"
      },
      "source": [
        ""
      ],
      "execution_count": null,
      "outputs": []
    },
    {
      "cell_type": "markdown",
      "metadata": {
        "id": "78KTQk9b3LiS"
      },
      "source": [
        "# Ejercicio Conexiones Neuronales (sinapsis)\n",
        "\n",
        "Determinar el numero de parametros entrenables (pesos) de los siguientes modelos:\n",
        "\n",
        "**Parametros Entrenables: 3**\n",
        "\n",
        "![image.png](data:image/png;base64,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)\n",
        "\n",
        "**Parametros Entrenables: 3**\n",
        "\n",
        "![image.png](data:image/png;base64,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)\n",
        "\n",
        "**Parametros Entrenables: 12**\n",
        "\n",
        "![image.png](data:image/png;base64,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)\n",
        "\n",
        "**Parametros Entrenables: 6**\n",
        "\n",
        "![image.png](data:image/png;base64,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)\n",
        "\n",
        "**Parametros Entrenables: 10**\n",
        "\n",
        "![image.png](data:image/png;base64,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)\n",
        "\n",
        "**Parametros Entrenables: 20**\n",
        "\n",
        "![image.png](data:image/png;base64,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)"
      ]
    }
  ]
}