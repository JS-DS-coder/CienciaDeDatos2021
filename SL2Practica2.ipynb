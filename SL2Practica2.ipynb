{
  "nbformat": 4,
  "nbformat_minor": 0,
  "metadata": {
    "colab": {
      "name": "SL2Practica2.ipynb",
      "provenance": [],
      "collapsed_sections": [],
      "authorship_tag": "ABX9TyPxjkX4q3twksqQywPbpEQM",
      "include_colab_link": true
    },
    "kernelspec": {
      "name": "python3",
      "display_name": "Python 3"
    },
    "language_info": {
      "name": "python"
    }
  },
  "cells": [
    {
      "cell_type": "markdown",
      "metadata": {
        "id": "view-in-github",
        "colab_type": "text"
      },
      "source": [
        "<a href=\"https://colab.research.google.com/github/JS-DS-coder/CienciaDeDatos2021/blob/master/SL2Practica2.ipynb\" target=\"_parent\"><img src=\"https://colab.research.google.com/assets/colab-badge.svg\" alt=\"Open In Colab\"/></a>"
      ]
    },
    {
      "cell_type": "markdown",
      "metadata": {
        "id": "Y9pv2aaE5X0y"
      },
      "source": [
        "# Practica 2 \n",
        "\n",
        "**Jairo Salazar**\n",
        "Carnet : 21000887"
      ]
    },
    {
      "cell_type": "markdown",
      "metadata": {
        "id": "Pm3NqQxl5ksZ"
      },
      "source": [
        "# Parte 1- Deteccion de anomalias"
      ]
    },
    {
      "cell_type": "code",
      "metadata": {
        "id": "AEw4w6AJ5T7F"
      },
      "source": [
        "import pandas as pd\n",
        "import numpy as np\n",
        "import matplotlib.pyplot as plt\n",
        "from numpy import genfromtxt\n",
        "from scipy.stats import multivariate_normal\n",
        "from sklearn.metrics import f1_score\n",
        "from sklearn.model_selection import train_test_split\n"
      ],
      "execution_count": null,
      "outputs": []
    },
    {
      "cell_type": "markdown",
      "metadata": {
        "id": "BIp1Y-Mi57Ud"
      },
      "source": [
        "**Funcion de entrenamiento**\n",
        "\n",
        "Función que calcula los parámetros de la distribución(media y desviación estándar) usando los datos\n",
        "Función que usando los parámetros(media y desviación) calcula la probabilidad de ocurrencia\n",
        "Elegir el valor de “umbral” de probabilidad o bien ver la opción 4.\n",
        "Opcional:  Función que utilizando datos “históricos” reales (marcados como anómalo, no anómalo) encuentre el mejor valor de “umbral” utilizando una métrica de evaluación(comúnmente f1 score)\n"
      ]
    },
    {
      "cell_type": "code",
      "metadata": {
        "colab": {
          "base_uri": "https://localhost:8080/",
          "height": 204
        },
        "id": "TsJ4uS7DS6XS",
        "outputId": "2d45554c-ddc2-42af-f8b7-08fb2d7041d3"
      },
      "source": [
        "dataset = pd.read_csv('estaturas.csv')\n",
        "dataset.columns = ['Estatura', 'Edad']\n",
        "dataset.head()"
      ],
      "execution_count": null,
      "outputs": [
        {
          "output_type": "execute_result",
          "data": {
            "text/html": [
              "<div>\n",
              "<style scoped>\n",
              "    .dataframe tbody tr th:only-of-type {\n",
              "        vertical-align: middle;\n",
              "    }\n",
              "\n",
              "    .dataframe tbody tr th {\n",
              "        vertical-align: top;\n",
              "    }\n",
              "\n",
              "    .dataframe thead th {\n",
              "        text-align: right;\n",
              "    }\n",
              "</style>\n",
              "<table border=\"1\" class=\"dataframe\">\n",
              "  <thead>\n",
              "    <tr style=\"text-align: right;\">\n",
              "      <th></th>\n",
              "      <th>Estatura</th>\n",
              "      <th>Edad</th>\n",
              "    </tr>\n",
              "  </thead>\n",
              "  <tbody>\n",
              "    <tr>\n",
              "      <th>0</th>\n",
              "      <td>1.77</td>\n",
              "      <td>26</td>\n",
              "    </tr>\n",
              "    <tr>\n",
              "      <th>1</th>\n",
              "      <td>1.74</td>\n",
              "      <td>31</td>\n",
              "    </tr>\n",
              "    <tr>\n",
              "      <th>2</th>\n",
              "      <td>1.72</td>\n",
              "      <td>24</td>\n",
              "    </tr>\n",
              "    <tr>\n",
              "      <th>3</th>\n",
              "      <td>1.78</td>\n",
              "      <td>34</td>\n",
              "    </tr>\n",
              "    <tr>\n",
              "      <th>4</th>\n",
              "      <td>1.65</td>\n",
              "      <td>32</td>\n",
              "    </tr>\n",
              "  </tbody>\n",
              "</table>\n",
              "</div>"
            ],
            "text/plain": [
              "   Estatura  Edad\n",
              "0      1.77    26\n",
              "1      1.74    31\n",
              "2      1.72    24\n",
              "3      1.78    34\n",
              "4      1.65    32"
            ]
          },
          "metadata": {
            "tags": []
          },
          "execution_count": 3
        }
      ]
    },
    {
      "cell_type": "code",
      "metadata": {
        "colab": {
          "base_uri": "https://localhost:8080/",
          "height": 279
        },
        "id": "vG3kn34jOSGB",
        "outputId": "4d749ff7-69f2-4344-bc91-85213fc90956"
      },
      "source": [
        "plt.xlabel('Estatura')\n",
        "plt.ylabel('Edad')\n",
        "plt.plot(dataset[\"Estatura\"],dataset[\"Edad\"],'bx')\n",
        "plt.show()"
      ],
      "execution_count": null,
      "outputs": [
        {
          "output_type": "display_data",
          "data": {
            "image/png": "[encoded data removed]",
            "text/plain": [
              "<Figure size 432x288 with 1 Axes>"
            ]
          },
          "metadata": {
            "tags": [],
            "needs_background": "light"
          }
        }
      ]
    },
    {
      "cell_type": "code",
      "metadata": {
        "id": "pvm67b_LGlOg"
      },
      "source": [
        "dscv = pd.read_csv('cv.csv')\n",
        "dscv.columns = ['Estatura', 'Edad']\n",
        "dscv.head()\n",
        "#Train = dscv\n",
        "Train, Test = train_test_split(dscv,train_size=0.5, random_state=42)\n"
      ],
      "execution_count": null,
      "outputs": []
    },
    {
      "cell_type": "code",
      "metadata": {
        "id": "hsi8ve4AU9Zk"
      },
      "source": [
        "dsanomalias = pd.read_csv(\"anomalias.csv\")\n",
        "dsanomalias.columns = ['yhat']\n",
        "dsanomalias.head()\n",
        "Trainy = dsanomalias\n",
        "#Trainy, Testy = train_test_split(dsanomalias,train_size=0.5, random_state=42)"
      ],
      "execution_count": null,
      "outputs": []
    },
    {
      "cell_type": "code",
      "metadata": {
        "colab": {
          "base_uri": "https://localhost:8080/"
        },
        "id": "FMC8U3nUhPXW",
        "outputId": "c229db85-63a6-4268-8710-96cddf4a283a"
      },
      "source": [
        "print(Trainy)"
      ],
      "execution_count": null,
      "outputs": [
        {
          "output_type": "stream",
          "text": [
            "   yhat\n",
            "0     1\n",
            "1     1\n",
            "2     1\n",
            "3     1\n"
          ],
          "name": "stdout"
        }
      ]
    },
    {
      "cell_type": "code",
      "metadata": {
        "id": "_ycB2XP664QC"
      },
      "source": [
        "def probability(df):\n",
        "    s = np.sum(df, axis=0)\n",
        "    m = len(df)\n",
        "    mu = s/m\n",
        "    \n",
        "    vr = np.sum((df - mu)**2, axis=0)\n",
        "    variance = vr/m\n",
        "    \n",
        "    var_dia = np.diag(variance)\n",
        "\n",
        "    k = len(mu)\n",
        "    X = df - mu\n",
        "    print(k)\n",
        "    print(X)\n",
        "\n",
        "    p = 1/((2*np.pi)**(k/2)*(np.linalg.det(var_dia)**0.5))* np.exp(-0.5* np.sum(X @ np.linalg.pinv(var_dia) * X,axis=1))\n",
        "    return p\n",
        "\n",
        "def estimateGaussian(dataset):\n",
        "  media = np.mean(dataset,axis=0)\n",
        "  sigma = np.cov(dataset.T)\n",
        "  return media,sigma\n",
        "\n",
        "def multivariateGaussian(dataset,media,var):\n",
        "  p = multivariate_normal(mean=media,cov=var)\n",
        "  return p.pdf(dataset)\n",
        "\n",
        "def selectThresholdByCV(probs,gt):\n",
        "    best_epsilon = 0\n",
        "    best_f1 = 0\n",
        "    f = 0\n",
        "    stepsize = (max(probs) - min(probs)) / 1000\n",
        "    epsilons = np.arange(min(probs),max(probs),stepsize)\n",
        "    for epsilon in np.nditer(epsilons):\n",
        "\n",
        "        predictions = (probs < epsilon) \n",
        "        print(predictions)\n",
        "        f = f1_score(gt, predictions,average='binary')\n",
        "        #print(f)\n",
        "        #print('------')\n",
        "        if f > best_f1:\n",
        "            #print('----')\n",
        "            best_f1 = f\n",
        "            best_epsilon = epsilon\n",
        "    \n",
        "    return best_f1, best_epsilon\n",
        "  \n",
        "\n",
        "\n"
      ],
      "execution_count": null,
      "outputs": []
    },
    {
      "cell_type": "code",
      "metadata": {
        "colab": {
          "base_uri": "https://localhost:8080/"
        },
        "id": "yG-DITIE_E5M",
        "outputId": "a4b808f8-bb94-4206-a4d9-cfafa8d88aa3"
      },
      "source": [
        "media,sigma = estimateGaussian(dataset)\n",
        "pdf = multivariateGaussian(dataset,media,sigma)\n",
        "print(pdf)\n",
        "print(media)\n",
        "print(sigma)"
      ],
      "execution_count": null,
      "outputs": [
        {
          "output_type": "stream",
          "text": [
            "[0.22856213 0.29869155 0.21861121 0.21786979 0.14733967 0.19213587\n",
            " 0.14192005 0.08897114 0.07341122 0.12870825 0.19160514 0.17189088\n",
            " 0.09981304 0.1473954  0.17189088 0.23900461 0.24884721 0.02943121\n",
            " 0.17850658 0.27435819 0.26253168 0.07828903 0.06498756 0.09981304\n",
            " 0.14387197 0.24575252 0.01682808 0.27682344 0.22981883 0.16428003\n",
            " 0.26483066 0.01533041 0.2483547  0.2678488  0.00067169 0.16790953\n",
            " 0.21850016 0.16440648 0.19160514 0.01710575 0.26483066 0.11274156\n",
            " 0.22062902 0.00299751]\n",
            "Estatura     1.733864\n",
            "Edad        29.590909\n",
            "dtype: float64\n",
            "[[5.90332981e-03 7.69661734e-02]\n",
            " [7.69661734e-02 4.69915433e+01]]\n"
          ],
          "name": "stdout"
        }
      ]
    },
    {
      "cell_type": "code",
      "metadata": {
        "colab": {
          "base_uri": "https://localhost:8080/"
        },
        "id": "w4oTKMM3f--S",
        "outputId": "edd0d8a2-c365-476d-b4da-e02c97a53ef9"
      },
      "source": [
        "print(Train)"
      ],
      "execution_count": null,
      "outputs": [
        {
          "output_type": "stream",
          "text": [
            "   Estatura  Edad\n",
            "2      1.60    31\n",
            "4      1.82    30\n",
            "3      1.60    35\n",
            "6      1.79    31\n"
          ],
          "name": "stdout"
        }
      ]
    },
    {
      "cell_type": "code",
      "metadata": {
        "colab": {
          "base_uri": "https://localhost:8080/"
        },
        "id": "orcRfYHjHPWx",
        "outputId": "ad329be3-4fcb-481f-fe6a-37eaf5ede9c0"
      },
      "source": [
        "p_cv = multivariateGaussian(Train,media,sigma)\n",
        "\n",
        "fscore, ep = selectThresholdbyCV(p_cv,Trainy)\n",
        "print(ep)"
      ],
      "execution_count": null,
      "outputs": [
        {
          "output_type": "stream",
          "text": [
            "0.038380911170298355 0.23273779556377705 0.0001943568843934787\n",
            "0.16218624652894623\n"
          ],
          "name": "stdout"
        }
      ]
    },
    {
      "cell_type": "code",
      "metadata": {
        "colab": {
          "base_uri": "https://localhost:8080/"
        },
        "id": "wZzN7WidWXB0",
        "outputId": "6df9dcf6-aebc-483d-fa89-fd5eec916e6f"
      },
      "source": [
        "print (Testy)"
      ],
      "execution_count": null,
      "outputs": [
        {
          "output_type": "stream",
          "text": [
            "   Estatura  Edad\n",
            "1     175.1   2.5\n",
            "3     150.0  14.0\n"
          ],
          "name": "stdout"
        }
      ]
    },
    {
      "cell_type": "code",
      "metadata": {
        "colab": {
          "base_uri": "https://localhost:8080/"
        },
        "id": "RrjWW1TBV-SZ",
        "outputId": "14dfa718-1e81-42c1-a3e4-427868d06e68"
      },
      "source": [
        "outliers = np.asarray(np.where(pdf < ep))\n",
        "print(outliers)\n",
        "df = dataset.to_numpy()\n",
        "df[outliers]"
      ],
      "execution_count": 78,
      "outputs": [
        {
          "output_type": "stream",
          "text": [
            "[[ 4  6  7  8  9 12 13 17 21 22 23 24 26 31 34 39 41 43]]\n"
          ],
          "name": "stdout"
        },
        {
          "output_type": "execute_result",
          "data": {
            "text/plain": [
              "array([[[ 1.65, 32.  ],\n",
              "        [ 1.64, 27.  ],\n",
              "        [ 1.85, 34.  ],\n",
              "        [ 1.85, 26.  ],\n",
              "        [ 1.75, 21.  ],\n",
              "        [ 1.82, 24.  ],\n",
              "        [ 1.65, 25.  ],\n",
              "        [ 1.57, 25.  ],\n",
              "        [ 1.8 , 40.  ],\n",
              "        [ 1.85, 25.  ],\n",
              "        [ 1.82, 24.  ],\n",
              "        [ 1.75, 38.  ],\n",
              "        [ 1.55, 29.  ],\n",
              "        [ 1.9 , 24.  ],\n",
              "        [ 1.83, 53.  ],\n",
              "        [ 1.65, 43.  ],\n",
              "        [ 1.63, 31.  ],\n",
              "        [ 1.85, 49.  ]]])"
            ]
          },
          "metadata": {
            "tags": []
          },
          "execution_count": 78
        }
      ]
    },
    {
      "cell_type": "code",
      "metadata": {
        "colab": {
          "base_uri": "https://localhost:8080/",
          "height": 279
        },
        "id": "mJ-DHKDuhnsR",
        "outputId": "328c3d9f-adef-4f13-d746-15d27e5e5bab"
      },
      "source": [
        "plt.figure()\n",
        "plt.xlabel('Estatura')\n",
        "plt.ylabel('Edad')\n",
        "plt.plot(dataset[\"Estatura\"],dataset[\"Edad\"],'bx')\n",
        "plt.plot(df[outliers,0],df[outliers,1],'ro')\n",
        "plt.show()"
      ],
      "execution_count": 80,
      "outputs": [
        {
          "output_type": "display_data",
          "data": {
            "image/png": "[encoded data removed]",
            "text/plain": [
              "<Figure size 432x288 with 1 Axes>"
            ]
          },
          "metadata": {
            "tags": [],
            "needs_background": "light"
          }
        }
      ]
    }
  ]
}