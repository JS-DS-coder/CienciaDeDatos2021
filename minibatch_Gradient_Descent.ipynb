{
  "nbformat": 4,
  "nbformat_minor": 0,
  "metadata": {
    "colab": {
      "name": "minibatch Gradient Descent.ipynb",
      "provenance": [],
      "collapsed_sections": [],
      "authorship_tag": "ABX9TyOjTheUt6Hu3+Q2qlu1h8qG",
      "include_colab_link": true
    },
    "kernelspec": {
      "name": "python3",
      "display_name": "Python 3"
    },
    "language_info": {
      "name": "python"
    }
  },
  "cells": [
    {
      "cell_type": "markdown",
      "metadata": {
        "id": "view-in-github",
        "colab_type": "text"
      },
      "source": [
        "<a href=\"https://colab.research.google.com/github/JS-DS-coder/CienciaDeDatos2021/blob/master/minibatch_Gradient_Descent.ipynb\" target=\"_parent\"><img src=\"https://colab.research.google.com/assets/colab-badge.svg\" alt=\"Open In Colab\"/></a>"
      ]
    },
    {
      "cell_type": "code",
      "metadata": {
        "id": "XbFJhPht53vf"
      },
      "source": [
        ""
      ],
      "execution_count": null,
      "outputs": []
    },
    {
      "cell_type": "markdown",
      "metadata": {
        "id": "jjGbsUej54qN"
      },
      "source": [
        "**Practica no. 1 - Mini Batch Gradient Descent**\n",
        "\n",
        "Jairo Salazar\n",
        "\n",
        "Carnet : 21000887 \n",
        "\n",
        "***Parte I - Carga de Dataset ***"
      ]
    },
    {
      "cell_type": "code",
      "metadata": {
        "colab": {
          "base_uri": "https://localhost:8080/"
        },
        "id": "OX0xGO2H6Guy",
        "outputId": "9f73ca60-766e-4ebf-dc56-dac82c781301"
      },
      "source": [
        "import tensorflow as tf\n",
        "import numpy as np \n",
        "import matplotlib.pyplot as plt\n",
        "\n",
        "import datetime, os\n",
        "\n",
        "print(tf.__version__)\n",
        "\n",
        "if tf.__version__.startswith(\"2.\"):\n",
        "  import tensorflow.compat.v1 as tf\n",
        "  tf.compat.v1.disable_v2_behavior()\n",
        "  tf.compat.v1.disable_eager_execution()\n",
        "  print(\"Enabled compatitility to tf1.x\")\n",
        "\n",
        "%load_ext tensorboard"
      ],
      "execution_count": 117,
      "outputs": [
        {
          "output_type": "stream",
          "text": [
            "2.5.0\n",
            "Enabled compatitility to tf1.x\n",
            "The tensorboard extension is already loaded. To reload it, use:\n",
            "  %reload_ext tensorboard\n"
          ],
          "name": "stdout"
        }
      ]
    },
    {
      "cell_type": "code",
      "metadata": {
        "id": "OSrXruSm0Jmd"
      },
      "source": [
        "tf.reset_default_graph()\n",
        "g=tf.Graph()\n",
        "with g.as_default():\n",
        "  with tf.name_scope (\"Load_Dataset\"):\n",
        "    x1  = tf.placeholder(\"float\",[1,1],name=\"X1\")\n",
        "    y1  = tf.placeholder(\"float\",[1,1],name=\"Y1\")\n",
        "    n1  = tf.placeholder(\"float\",[1,0],name =\"MiniBatchSize\")\n",
        "    m1 = tf.placeholder(\"float\",[1,1],name=\"m1\")\n",
        "    b1 = tf.placeholder(\"float\",[1,1],name=\"b1\")\n",
        "    learningrate1 = tf.placeholder(\"float\",[1,1],name=\"learningrate1\")\n",
        "  with tf.name_scope  (\"Evaluate_Model\"):\n",
        "    yhat1 = tf.add(tf.matmul(x1,m1),b1)\n",
        "  with tf.name_scope(\"Evaluate_Cost\"):\n",
        "    cost = tf.reduce_sum(tf.pow(yhat1-y1,2))/(2*n1)\n",
        "  #optimizer = tf.train.GradientDescentOptimizer(learningrate1).minimize(cost)\n",
        "  init = tf.global_variables_initializer\n"
      ],
      "execution_count": 118,
      "outputs": []
    },
    {
      "cell_type": "code",
      "metadata": {
        "colab": {
          "base_uri": "https://localhost:8080/"
        },
        "id": "Kpw2LpZY6P4s",
        "outputId": "892a6826-3835-451b-a58c-4e8401fdce62"
      },
      "source": [
        "def slicingDataset (ds,inicio,porcentaje):\n",
        "  cantidad = int(np.round(ds.shape[0] * porcentaje,0))\n",
        "  return ds[inicio:inicio+cantidad,0:6]\n",
        "  \n",
        "Dataset = np.load('casas.npy')\n",
        "#print (Dataset.shape)\n",
        "dsEntrenamiento = slicingDataset(Dataset,0,0.80)  #dsEntrenamiento datos de entrenamiento\n",
        "#dsTest = slicingDataset(Dataset,int(dsEntrenamiento.shape[0])-1,0.20) #dsTest Valores de prueba\n",
        "#print (dsTest.shape)\n",
        "print (dsEntrenamiento.shape)"
      ],
      "execution_count": 84,
      "outputs": [
        {
          "output_type": "stream",
          "text": [
            "(1168, 6)\n"
          ],
          "name": "stdout"
        }
      ]
    },
    {
      "cell_type": "markdown",
      "metadata": {
        "id": "_D-bhl_lEdWX"
      },
      "source": [
        "**Parte II - Definicion de Modelo Lineal**"
      ]
    },
    {
      "cell_type": "code",
      "metadata": {
        "id": "tVfZF_0vLKek"
      },
      "source": [
        "class ModeloLineal:\n",
        "  def __init__(self):\n",
        "    tf.reset_default_graph()\n",
        "    # Pendiente e intercepto\n",
        "    self.m = tf.get_variable(\"m\",dtype=tf.float32,shape=[],initializer=tf.zeros_initializer())\n",
        "    self.b = tf.get_variable(\"b\",dtype=tf.float32,shape=[],initializer=tf.zeros_initializer())\n",
        "\n",
        "  #Calculo de yhat = mx+b\n",
        "  def __call__(self,x):\n",
        "    \n",
        "    return self.m*x + self.b\n",
        "\n",
        "  def actualizar(self,x,y,learning_rate):\n",
        "    with tf.name_scope(\"Model\"):\n",
        "      yhat= self(x)\n",
        "    with tf.name_scope(\"Error\"):\n",
        "      error = 1/2*tf.reduce_mean(tf.math.square(y - yhat) )\n",
        "      gradiente = tf.gradients(error,[self.m,self.b],name=\"Gradients\")\n",
        "      actualizacion_m = tf.assign(self.m, self.m - learning_rate*gradiente[0],name=\"actualizacion_m\" )\n",
        "      actualizacion_b = tf.assign(self.b, self.b - learning_rate*gradiente[1],name=\"actualizacion_b\" )\n",
        "      actualizacion_parametros = tf.group(actualizacion_m,actualizacion_b)\n",
        "    \n",
        "    return actualizacion_parametros"
      ],
      "execution_count": 104,
      "outputs": []
    },
    {
      "cell_type": "markdown",
      "metadata": {
        "id": "h8Me52NdEWFg"
      },
      "source": [
        ""
      ]
    },
    {
      "cell_type": "code",
      "metadata": {
        "id": "oF8YDDi1-Qip"
      },
      "source": [
        "\n",
        "def Regresion (dataset,n,learning_rate,epoch):\n",
        "    #x = variable independiente\n",
        "    #y = Variable dependiente\n",
        "    #n = Tamaño del mini batch\n",
        "    #learning_rate = Learning rate\n",
        "    #epoch = numero de aproximaciones\n",
        "  with tf.name_scope(\"Prepare_MiniBatch\"):\n",
        "    y = dataset[0:0+n,0:1] #Precio\n",
        "    x = dataset[0:0+n,1:2] #OveralQuality\n",
        "    \n",
        "\n",
        "  plt.scatter(x,y)\n",
        "  modelo = ModeloLineal()\n",
        "  tensor_x = tf.placeholder(tf.float32,x.shape,\"tensor_x\")\n",
        "  tensor_y = tf.placeholder(tf.float32,y.shape,\"tensor_y\")\n",
        "  prediccion = modelo(tensor_x)\n",
        "  actualizacion_parametros = modelo.actualizar(tensor_x,tensor_y,learning_rate)\n",
        "    \n",
        "  with tf.train.MonitoredSession() as session:\n",
        "    feed_dict = {tensor_x:x, tensor_y:y}\n",
        "\n",
        "    for i in range(epoch):\n",
        "        \n",
        "      \n",
        "      session.run(actualizacion_parametros,feed_dict=feed_dict)\n",
        "    \n",
        "      predicciones = session.run(prediccion,feed_dict=feed_dict)\n",
        "      \n",
        "      plt.plot(x,predicciones,label=str(i))\n",
        "\n",
        "    \n",
        "    pendiente_final,intercepto_final = session.run([modelo.m,modelo.b],feed_dict=feed_dict)\n",
        "    plt.title(\"Parámetros finales: m={}  b={}\".format(pendiente_final,intercepto_final))\n",
        "\n",
        "  plt.legend()\n",
        "  plt.show()\n",
        "  \n"
      ],
      "execution_count": 105,
      "outputs": []
    },
    {
      "cell_type": "code",
      "metadata": {
        "colab": {
          "base_uri": "https://localhost:8080/",
          "height": 332
        },
        "id": "yfYC6oCG7AQ0",
        "outputId": "33de6775-9bec-42da-ce01-0ff86c1c5a5c"
      },
      "source": [
        "#tf.reset_default_graph()\n",
        "\n",
        "Regresion (dsEntrenamiento,10,0.01,5)\n"
      ],
      "execution_count": 106,
      "outputs": [
        {
          "output_type": "stream",
          "text": [
            "INFO:tensorflow:Graph was finalized.\n",
            "INFO:tensorflow:Running local_init_op.\n",
            "INFO:tensorflow:Done running local_init_op.\n"
          ],
          "name": "stdout"
        },
        {
          "output_type": "display_data",
          "data": {
            "image/png": "[encoded data removed]",
            "text/plain": [
              "<Figure size 432x288 with 1 Axes>"
            ]
          },
          "metadata": {
            "tags": [],
            "needs_background": "light"
          }
        }
      ]
    }
  ]
}