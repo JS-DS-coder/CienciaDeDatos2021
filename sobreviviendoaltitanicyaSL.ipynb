{
  "nbformat": 4,
  "nbformat_minor": 0,
  "metadata": {
    "colab": {
      "name": "sobreviviendoaltitanicyaSL.ipynb",
      "provenance": [],
      "collapsed_sections": [],
      "authorship_tag": "ABX9TyNFlEMCX87pWxmfcN8Pa48q",
      "include_colab_link": true
    },
    "kernelspec": {
      "name": "python3",
      "display_name": "Python 3"
    },
    "language_info": {
      "name": "python"
    }
  },
  "cells": [
    {
      "cell_type": "markdown",
      "metadata": {
        "id": "view-in-github",
        "colab_type": "text"
      },
      "source": [
        "<a href=\"https://colab.research.google.com/github/JS-DS-coder/CienciaDeDatos2021/blob/master/sobreviviendoaltitanicyaSL.ipynb\" target=\"_parent\"><img src=\"https://colab.research.google.com/assets/colab-badge.svg\" alt=\"Open In Colab\"/></a>"
      ]
    },
    {
      "cell_type": "markdown",
      "metadata": {
        "id": "WACN0dQR88aG"
      },
      "source": [
        "# Examen Final  - Sobreviviendo al Titanic\n",
        "Jairo Salazar\n",
        "Carnet:  "
      ]
    },
    {
      "cell_type": "markdown",
      "metadata": {
        "id": "Uf4FoUSE9HyV"
      },
      "source": [
        "# Sección 1\n",
        "\n",
        "Carga y analisis de datos\n",
        "\n",
        "En esta seccion:\n",
        "\n",
        "\n",
        "\n",
        "*   Carga de Datos al dataset\n",
        "*   Verificacion de datos Faltantes\n",
        "*   Tratamiendo de Datos Faltantes\n",
        "*   Transformacion de variables categoricas\n",
        "\n"
      ]
    },
    {
      "cell_type": "code",
      "metadata": {
        "colab": {
          "base_uri": "https://localhost:8080/"
        },
        "id": "_RmlznhX83Hq",
        "outputId": "451cbc14-7c8b-4ede-b2ca-dc88424494d8"
      },
      "source": [
        "import numpy as np\n",
        "import pandas as pd\n",
        "from matplotlib import pyplot as plt\n",
        "import tensorflow as tf\n",
        "import matplotlib.pyplot as plt\n",
        "import seaborn as sb\n",
        "from sklearn.model_selection import train_test_split\n",
        "from sklearn import tree\n",
        "from sklearn.metrics import accuracy_score\n",
        "from sklearn.model_selection import KFold\n",
        "from sklearn.naive_bayes import GaussianNB\n",
        "\n",
        "from sklearn.svm import SVC\n",
        "from sklearn.model_selection import GridSearchCV\n",
        "import graphviz\n",
        "\n",
        "import datetime, os\n",
        "from datetime import datetime\n",
        "from datetime import date\n",
        "\n",
        "print(tf.__version__)\n",
        "\n",
        "if tf.__version__.startswith(\"2.\"):\n",
        "  import tensorflow.compat.v1 as tf\n",
        "  tf.compat.v1.disable_v2_behavior()\n",
        "  tf.compat.v1.disable_eager_execution()\n",
        "  print(\"Enabled compatitility to tf1.x\")\n",
        "\n",
        "%load_ext tensorboard\n",
        "!rm -rf ./logs/ "
      ],
      "execution_count": 92,
      "outputs": [
        {
          "output_type": "stream",
          "text": [
            "2.5.0\n",
            "Enabled compatitility to tf1.x\n",
            "The tensorboard extension is already loaded. To reload it, use:\n",
            "  %reload_ext tensorboard\n"
          ],
          "name": "stdout"
        }
      ]
    },
    {
      "cell_type": "code",
      "metadata": {
        "colab": {
          "base_uri": "https://localhost:8080/",
          "height": 496
        },
        "id": "D2Gj110d9wpy",
        "outputId": "373a195f-b3be-44e4-afd5-f8ae845cc605"
      },
      "source": [
        "dataset = pd.read_csv('data_titanic_proyecto.csv')\n",
        "dataset.columns = ['PassengerId', 'Name', 'Age', 'SibSp', 'Parch', 'Ticket', 'Fare','Cabin','Embarked','passenger_class', 'passenger_sex', 'passenger_survived' ]\n",
        "dataset.head()\n"
      ],
      "execution_count": 29,
      "outputs": [
        {
          "output_type": "execute_result",
          "data": {
            "text/html": [
              "<div>\n",
              "<style scoped>\n",
              "    .dataframe tbody tr th:only-of-type {\n",
              "        vertical-align: middle;\n",
              "    }\n",
              "\n",
              "    .dataframe tbody tr th {\n",
              "        vertical-align: top;\n",
              "    }\n",
              "\n",
              "    .dataframe thead th {\n",
              "        text-align: right;\n",
              "    }\n",
              "</style>\n",
              "<table border=\"1\" class=\"dataframe\">\n",
              "  <thead>\n",
              "    <tr style=\"text-align: right;\">\n",
              "      <th></th>\n",
              "      <th>PassengerId</th>\n",
              "      <th>Name</th>\n",
              "      <th>Age</th>\n",
              "      <th>SibSp</th>\n",
              "      <th>Parch</th>\n",
              "      <th>Ticket</th>\n",
              "      <th>Fare</th>\n",
              "      <th>Cabin</th>\n",
              "      <th>Embarked</th>\n",
              "      <th>passenger_class</th>\n",
              "      <th>passenger_sex</th>\n",
              "      <th>passenger_survived</th>\n",
              "    </tr>\n",
              "  </thead>\n",
              "  <tbody>\n",
              "    <tr>\n",
              "      <th>0</th>\n",
              "      <td>1</td>\n",
              "      <td>Braund, Mr. Owen Harris</td>\n",
              "      <td>22.0</td>\n",
              "      <td>1</td>\n",
              "      <td>0</td>\n",
              "      <td>A/5 21171</td>\n",
              "      <td>7.2500</td>\n",
              "      <td>NaN</td>\n",
              "      <td>S</td>\n",
              "      <td>Lower</td>\n",
              "      <td>M</td>\n",
              "      <td>N</td>\n",
              "    </tr>\n",
              "    <tr>\n",
              "      <th>1</th>\n",
              "      <td>2</td>\n",
              "      <td>Cumings, Mrs. John Bradley (Florence Briggs Th...</td>\n",
              "      <td>38.0</td>\n",
              "      <td>1</td>\n",
              "      <td>0</td>\n",
              "      <td>PC 17599</td>\n",
              "      <td>71.2833</td>\n",
              "      <td>C85</td>\n",
              "      <td>C</td>\n",
              "      <td>Upper</td>\n",
              "      <td>F</td>\n",
              "      <td>Y</td>\n",
              "    </tr>\n",
              "    <tr>\n",
              "      <th>2</th>\n",
              "      <td>3</td>\n",
              "      <td>Heikkinen, Miss. Laina</td>\n",
              "      <td>26.0</td>\n",
              "      <td>0</td>\n",
              "      <td>0</td>\n",
              "      <td>STON/O2. 3101282</td>\n",
              "      <td>7.9250</td>\n",
              "      <td>NaN</td>\n",
              "      <td>S</td>\n",
              "      <td>Lower</td>\n",
              "      <td>F</td>\n",
              "      <td>Y</td>\n",
              "    </tr>\n",
              "    <tr>\n",
              "      <th>3</th>\n",
              "      <td>4</td>\n",
              "      <td>Futrelle, Mrs. Jacques Heath (Lily May Peel)</td>\n",
              "      <td>35.0</td>\n",
              "      <td>1</td>\n",
              "      <td>0</td>\n",
              "      <td>113803</td>\n",
              "      <td>53.1000</td>\n",
              "      <td>C123</td>\n",
              "      <td>S</td>\n",
              "      <td>Upper</td>\n",
              "      <td>F</td>\n",
              "      <td>Y</td>\n",
              "    </tr>\n",
              "    <tr>\n",
              "      <th>4</th>\n",
              "      <td>5</td>\n",
              "      <td>Allen, Mr. William Henry</td>\n",
              "      <td>35.0</td>\n",
              "      <td>0</td>\n",
              "      <td>0</td>\n",
              "      <td>373450</td>\n",
              "      <td>8.0500</td>\n",
              "      <td>NaN</td>\n",
              "      <td>S</td>\n",
              "      <td>Lower</td>\n",
              "      <td>M</td>\n",
              "      <td>N</td>\n",
              "    </tr>\n",
              "  </tbody>\n",
              "</table>\n",
              "</div>"
            ],
            "text/plain": [
              "   PassengerId  ... passenger_survived\n",
              "0            1  ...                  N\n",
              "1            2  ...                  Y\n",
              "2            3  ...                  Y\n",
              "3            4  ...                  Y\n",
              "4            5  ...                  N\n",
              "\n",
              "[5 rows x 12 columns]"
            ]
          },
          "metadata": {
            "tags": []
          },
          "execution_count": 29
        }
      ]
    },
    {
      "cell_type": "code",
      "metadata": {
        "colab": {
          "base_uri": "https://localhost:8080/"
        },
        "id": "ZxG_7AXlFweM",
        "outputId": "ad478364-73d1-46a8-ae20-8f0c424971d5"
      },
      "source": [
        "dataset.dtypes"
      ],
      "execution_count": 30,
      "outputs": [
        {
          "output_type": "execute_result",
          "data": {
            "text/plain": [
              "PassengerId             int64\n",
              "Name                   object\n",
              "Age                   float64\n",
              "SibSp                   int64\n",
              "Parch                   int64\n",
              "Ticket                 object\n",
              "Fare                  float64\n",
              "Cabin                  object\n",
              "Embarked               object\n",
              "passenger_class        object\n",
              "passenger_sex          object\n",
              "passenger_survived     object\n",
              "dtype: object"
            ]
          },
          "metadata": {
            "tags": []
          },
          "execution_count": 30
        }
      ]
    },
    {
      "cell_type": "code",
      "metadata": {
        "colab": {
          "base_uri": "https://localhost:8080/"
        },
        "id": "5oBIFmGs_9IS",
        "outputId": "7c75586e-e5c3-478f-c63e-b9a7536a9b25"
      },
      "source": [
        "def FindingMissingValues (dataset):\n",
        "  for column in dataset:\n",
        "    x = dataset[column].isna().sum()\n",
        "    print (column,' : ',str(x))\n",
        "\n",
        "#calculando media, valor maximo, valor minimo, rango, desviacion estandard.\n",
        "def dimensiones (ds,nombre):\n",
        "  #Funcion que evalua cada variable en el dataset\n",
        "  dimension = ds[nombre]\n",
        "\n",
        "  dimension = dimension[np.logical_not(np.isnan(dimension))]\n",
        "  media = np.mean(dimension)\n",
        "  valmax = np.max(dimension)\n",
        "  valmin = np.min(dimension)\n",
        "  desvstd  = np.std(dimension)\n",
        "  rango    = np.ptp(dimension)\n",
        "\n",
        "  print('-------------------------------')\n",
        "  print('      ', nombre)\n",
        "  print ('Media: ',media)\n",
        "  print ('Valor Maximo: ',valmax)\n",
        "  print ('Valor Minimo: ',valmin)\n",
        "  print ('Rango: ',rango)\n",
        "  print ('Desviacion Standard: ',desvstd)\n",
        "  #Graficar cada variable del dataset.\n",
        "  sb.set_theme()\n",
        "  #print(dimension.shape)\n",
        "  sb.displot(dimension,kde=True)\n",
        "  \n",
        " \n",
        "FindingMissingValues(dataset)"
      ],
      "execution_count": 31,
      "outputs": [
        {
          "output_type": "stream",
          "text": [
            "PassengerId  :  0\n",
            "Name  :  0\n",
            "Age  :  177\n",
            "SibSp  :  0\n",
            "Parch  :  0\n",
            "Ticket  :  0\n",
            "Fare  :  0\n",
            "Cabin  :  687\n",
            "Embarked  :  2\n",
            "passenger_class  :  0\n",
            "passenger_sex  :  0\n",
            "passenger_survived  :  0\n"
          ],
          "name": "stdout"
        }
      ]
    },
    {
      "cell_type": "markdown",
      "metadata": {
        "id": "GZplybBIAZnY"
      },
      "source": [
        "**Datos Faltantes**\n",
        "\n",
        "\n",
        "1.   Age(177)     19%\n",
        "2.   Cabin(687)   77%\n",
        "3.   Embarked(2)  0.22%\n",
        "\n",
        "Para el parametro Cabin y Embarked, se agregara SC (sin cabina, Embarked A para posteriormente hacerle un encode, segun corresponda).\n",
        "\n",
        "Para el parametro Age, se sacaran los datos del 79% restante para evaluar como cubrir los datos faltantes.\n",
        "\n",
        "\n"
      ]
    },
    {
      "cell_type": "code",
      "metadata": {
        "id": "QohNEIl4BZ90"
      },
      "source": [
        "dataset[\"Cabin\"].fillna(\"SC\", inplace = True)\n",
        "dataset[\"Embarked\"].fillna(\"A\", inplace = True)"
      ],
      "execution_count": 32,
      "outputs": []
    },
    {
      "cell_type": "code",
      "metadata": {
        "colab": {
          "base_uri": "https://localhost:8080/",
          "height": 1000
        },
        "id": "YnFNNb8BWDBT",
        "outputId": "5e4dc6c7-3211-4cf2-a746-aadd554a23bb"
      },
      "source": [
        "#reemplazando los valores faltantas por edad por los NAs\n",
        "\n",
        "\n",
        "dsAge = dataset[dataset[\"Age\"].notna()]\n",
        "media = np.mean(dsAge[\"Age\"])\n",
        "median = np.median(dsAge[\"Age\"])\n",
        "valmax = np.max(dsAge[\"Age\"])\n",
        "valmin = np.min(dsAge[\"Age\"])\n",
        "desvstd  = np.std(dsAge[\"Age\"])\n",
        "rango    = np.ptp(dsAge[\"Age\"])\n",
        "\n",
        "print('-------------------------------')\n",
        "print('      ', 'Age')\n",
        "print ('Media: ',media)\n",
        "print ('Mediana: ',median)\n",
        "print ('Valor Maximo: ',valmax)\n",
        "print ('Valor Minimo: ',valmin)\n",
        "print ('Rango: ',rango)\n",
        "print ('Desviacion Standard: ',desvstd)\n",
        "sb.set_theme()\n",
        "  #print(dimension.shape)\n",
        "sb.displot(dataset[\"Age\"],kde=True,color=\"green\")\n",
        "sb.displot(dsAge[\"Age\"],kde=True)\n",
        "dataset[\"Age\"].fillna(median, inplace = True)\n",
        "sb.displot(dsAge[\"Age\"],kde=True,color=\"red\")\n",
        "\n"
      ],
      "execution_count": 33,
      "outputs": [
        {
          "output_type": "stream",
          "text": [
            "-------------------------------\n",
            "       Age\n",
            "Media:  29.69911764705882\n",
            "Mediana:  28.0\n",
            "Valor Maximo:  80.0\n",
            "Valor Minimo:  0.42\n",
            "Rango:  79.58\n",
            "Desviacion Standard:  14.516321150817317\n"
          ],
          "name": "stdout"
        },
        {
          "output_type": "execute_result",
          "data": {
            "text/plain": [
              "<seaborn.axisgrid.FacetGrid at 0x7f2e557a1bd0>"
            ]
          },
          "metadata": {
            "tags": []
          },
          "execution_count": 33
        },
        {
          "output_type": "display_data",
          "data": {
            "image/png": "[encoded data removed]",
            "text/plain": [
              "<Figure size 360x360 with 1 Axes>"
            ]
          },
          "metadata": {
            "tags": []
          }
        },
        {
          "output_type": "display_data",
          "data": {
            "image/png": "[encoded data removed]",
            "text/plain": [
              "<Figure size 360x360 with 1 Axes>"
            ]
          },
          "metadata": {
            "tags": []
          }
        },
        {
          "output_type": "display_data",
          "data": {
            "image/png": "[encoded data removed]",
            "text/plain": [
              "<Figure size 360x360 with 1 Axes>"
            ]
          },
          "metadata": {
            "tags": []
          }
        }
      ]
    },
    {
      "cell_type": "markdown",
      "metadata": {
        "id": "Xwe3SHIb_wpj"
      },
      "source": [
        "**Encoding de variables cateoricas relevantes**\n",
        "\n",
        "Se hara encoding de las variables categoricas relevantes:\n",
        "\n",
        "- passenger_survived (valores(N,Y))\n",
        "- Passenger sex (Valores (M,F))\n",
        "- Passenger class (valores('Lower' 'Upper' 'Middle'))\n",
        "- Embarked (valores('S' 'C' 'Q' 'A'))\n",
        "- Cabin (valores(['SC' 'C85' 'C123' 'E46' 'G6' 'C103' 'D56' 'A6' 'C23 C25 C27' 'B78' 'D33'\n",
        " 'B30' 'C52' 'B28' 'C83' 'F33' 'F G73' 'E31' 'A5' 'D10 D12' 'D26' 'C110'\n",
        " 'B58 B60' 'E101' 'F E69' 'D47' 'B86' 'F2' 'C2' 'E33' 'B19' 'A7' 'C49'\n",
        " 'F4' 'A32' 'B4' 'B80' 'A31' 'D36' 'D15' 'C93' 'C78' 'D35' 'C87' 'B77'\n",
        " 'E67' 'B94' 'C125' 'C99' 'C118' 'D7' 'A19' 'B49' 'D' 'C22 C26' 'C106'\n",
        " 'C65' 'E36' 'C54' 'B57 B59 B63 B66' 'C7' 'E34' 'C32' 'B18' 'C124' 'C91'\n",
        " 'E40' 'T' 'C128' 'D37' 'B35' 'E50' 'C82' 'B96 B98' 'E10' 'E44' 'A34'\n",
        " 'C104' 'C111' 'C92' 'E38' 'D21' 'E12' 'E63' 'A14' 'B37' 'C30' 'D20' 'B79'\n",
        " 'E25' 'D46' 'B73' 'C95' 'B38' 'B39' 'B22' 'C86' 'C70' 'A16' 'C101' 'C68'\n",
        " 'A10' 'E68' 'B41' 'A20' 'D19' 'D50' 'D9' 'A23' 'B50' 'A26' 'D48' 'E58'\n",
        " 'C126' 'B71' 'B51 B53 B55' 'D49' 'B5' 'B20' 'F G63' 'C62 C64' 'E24' 'C90'\n",
        " 'C45' 'E8' 'B101' 'D45' 'C46' 'D30' 'E121' 'D11' 'E77' 'F38' 'B3' 'D6'\n",
        " 'B82 B84' 'D17' 'A36' 'B102' 'B69' 'E49' 'C47' 'D28' 'E17' 'A24' 'C50'\n",
        " 'B42' 'C148'])\n",
        " - Ticket descartado Es muy especifico\n",
        " - Nombre desacartado es muy especifico\n"
      ]
    },
    {
      "cell_type": "code",
      "metadata": {
        "colab": {
          "base_uri": "https://localhost:8080/"
        },
        "id": "0eIM3UfH-E_F",
        "outputId": "ba190075-0399-4673-bbd6-065302021c3f"
      },
      "source": [
        "print('-------------------------------')\n",
        "print('      ', 'Passenger_survived (Variable Objetivo)')\n",
        "print(dataset[\"passenger_survived\"].unique())\n",
        "print('-------------------------------')\n",
        "print('      ', 'passenger_sex')\n",
        "print(dataset[\"passenger_sex\"].unique())\n",
        "print('-------------------------------')\n",
        "print('      ', 'passenger_class')\n",
        "print(dataset[\"passenger_class\"].unique())\n",
        "print('-------------------------------')\n",
        "print('      ', 'Embarked')\n",
        "print(dataset[\"Embarked\"].unique())\n",
        "print('-------------------------------')\n",
        "print('      ', 'Cabin')\n",
        "print(dataset[\"Cabin\"].unique())\n",
        "print('-------------------------------')\n",
        "print('      ', 'Ticket')\n",
        "print(dataset[\"Ticket\"].unique())\n"
      ],
      "execution_count": 34,
      "outputs": [
        {
          "output_type": "stream",
          "text": [
            "-------------------------------\n",
            "       Passenger_survived (Variable Objetivo)\n",
            "['N' 'Y']\n",
            "-------------------------------\n",
            "       passenger_sex\n",
            "['M' 'F']\n",
            "-------------------------------\n",
            "       passenger_class\n",
            "['Lower' 'Upper' 'Middle']\n",
            "-------------------------------\n",
            "       Embarked\n",
            "['S' 'C' 'Q' 'A']\n",
            "-------------------------------\n",
            "       Cabin\n",
            "['SC' 'C85' 'C123' 'E46' 'G6' 'C103' 'D56' 'A6' 'C23 C25 C27' 'B78' 'D33'\n",
            " 'B30' 'C52' 'B28' 'C83' 'F33' 'F G73' 'E31' 'A5' 'D10 D12' 'D26' 'C110'\n",
            " 'B58 B60' 'E101' 'F E69' 'D47' 'B86' 'F2' 'C2' 'E33' 'B19' 'A7' 'C49'\n",
            " 'F4' 'A32' 'B4' 'B80' 'A31' 'D36' 'D15' 'C93' 'C78' 'D35' 'C87' 'B77'\n",
            " 'E67' 'B94' 'C125' 'C99' 'C118' 'D7' 'A19' 'B49' 'D' 'C22 C26' 'C106'\n",
            " 'C65' 'E36' 'C54' 'B57 B59 B63 B66' 'C7' 'E34' 'C32' 'B18' 'C124' 'C91'\n",
            " 'E40' 'T' 'C128' 'D37' 'B35' 'E50' 'C82' 'B96 B98' 'E10' 'E44' 'A34'\n",
            " 'C104' 'C111' 'C92' 'E38' 'D21' 'E12' 'E63' 'A14' 'B37' 'C30' 'D20' 'B79'\n",
            " 'E25' 'D46' 'B73' 'C95' 'B38' 'B39' 'B22' 'C86' 'C70' 'A16' 'C101' 'C68'\n",
            " 'A10' 'E68' 'B41' 'A20' 'D19' 'D50' 'D9' 'A23' 'B50' 'A26' 'D48' 'E58'\n",
            " 'C126' 'B71' 'B51 B53 B55' 'D49' 'B5' 'B20' 'F G63' 'C62 C64' 'E24' 'C90'\n",
            " 'C45' 'E8' 'B101' 'D45' 'C46' 'D30' 'E121' 'D11' 'E77' 'F38' 'B3' 'D6'\n",
            " 'B82 B84' 'D17' 'A36' 'B102' 'B69' 'E49' 'C47' 'D28' 'E17' 'A24' 'C50'\n",
            " 'B42' 'C148']\n",
            "-------------------------------\n",
            "       Ticket\n",
            "['A/5 21171' 'PC 17599' 'STON/O2. 3101282' '113803' '373450' '330877'\n",
            " '17463' '349909' '347742' '237736' 'PP 9549' '113783' 'A/5. 2151'\n",
            " '347082' '350406' '248706' '382652' '244373' '345763' '2649' '239865'\n",
            " '248698' '330923' '113788' '347077' '2631' '19950' '330959' '349216'\n",
            " 'PC 17601' 'PC 17569' '335677' 'C.A. 24579' 'PC 17604' '113789' '2677'\n",
            " 'A./5. 2152' '345764' '2651' '7546' '11668' '349253' 'SC/Paris 2123'\n",
            " '330958' 'S.C./A.4. 23567' '370371' '14311' '2662' '349237' '3101295'\n",
            " 'A/4. 39886' 'PC 17572' '2926' '113509' '19947' 'C.A. 31026' '2697'\n",
            " 'C.A. 34651' 'CA 2144' '2669' '113572' '36973' '347088' 'PC 17605' '2661'\n",
            " 'C.A. 29395' 'S.P. 3464' '3101281' '315151' 'C.A. 33111' 'S.O.C. 14879'\n",
            " '2680' '1601' '348123' '349208' '374746' '248738' '364516' '345767'\n",
            " '345779' '330932' '113059' 'SO/C 14885' '3101278' 'W./C. 6608'\n",
            " 'SOTON/OQ 392086' '343275' '343276' '347466' 'W.E.P. 5734' 'C.A. 2315'\n",
            " '364500' '374910' 'PC 17754' 'PC 17759' '231919' '244367' '349245'\n",
            " '349215' '35281' '7540' '3101276' '349207' '343120' '312991' '349249'\n",
            " '371110' '110465' '2665' '324669' '4136' '2627' 'STON/O 2. 3101294'\n",
            " '370369' 'PC 17558' 'A4. 54510' '27267' '370372' 'C 17369' '2668'\n",
            " '347061' '349241' 'SOTON/O.Q. 3101307' 'A/5. 3337' '228414' 'C.A. 29178'\n",
            " 'SC/PARIS 2133' '11752' '7534' 'PC 17593' '2678' '347081'\n",
            " 'STON/O2. 3101279' '365222' '231945' 'C.A. 33112' '350043' '230080'\n",
            " '244310' 'S.O.P. 1166' '113776' 'A.5. 11206' 'A/5. 851' 'Fa 265302'\n",
            " 'PC 17597' '35851' 'SOTON/OQ 392090' '315037' 'CA. 2343' '371362'\n",
            " 'C.A. 33595' '347068' '315093' '363291' '113505' 'PC 17318' '111240'\n",
            " 'STON/O 2. 3101280' '17764' '350404' '4133' 'PC 17595' '250653' 'LINE'\n",
            " 'SC/PARIS 2131' '230136' '315153' '113767' '370365' '111428' '364849'\n",
            " '349247' '234604' '28424' '350046' 'PC 17610' '368703' '4579' '370370'\n",
            " '248747' '345770' '3101264' '2628' 'A/5 3540' '347054' '2699' '367231'\n",
            " '112277' 'SOTON/O.Q. 3101311' 'F.C.C. 13528' 'A/5 21174' '250646'\n",
            " '367229' '35273' 'STON/O2. 3101283' '243847' '11813' 'W/C 14208'\n",
            " 'SOTON/OQ 392089' '220367' '21440' '349234' '19943' 'PP 4348' 'SW/PP 751'\n",
            " 'A/5 21173' '236171' '347067' '237442' 'C.A. 29566' 'W./C. 6609' '26707'\n",
            " 'C.A. 31921' '28665' 'SCO/W 1585' '367230' 'W./C. 14263'\n",
            " 'STON/O 2. 3101275' '2694' '19928' '347071' '250649' '11751' '244252'\n",
            " '362316' '113514' 'A/5. 3336' '370129' '2650' 'PC 17585' '110152'\n",
            " 'PC 17755' '230433' '384461' '110413' '112059' '382649' 'C.A. 17248'\n",
            " '347083' 'PC 17582' 'PC 17760' '113798' '250644' 'PC 17596' '370375'\n",
            " '13502' '347073' '239853' 'C.A. 2673' '336439' '347464' '345778'\n",
            " 'A/5. 10482' '113056' '349239' '345774' '349206' '237798' '370373'\n",
            " '19877' '11967' 'SC/Paris 2163' '349236' '349233' 'PC 17612' '2693'\n",
            " '113781' '19988' '9234' '367226' '226593' 'A/5 2466' '17421' 'PC 17758'\n",
            " 'P/PP 3381' 'PC 17485' '11767' 'PC 17608' '250651' '349243'\n",
            " 'F.C.C. 13529' '347470' '29011' '36928' '16966' 'A/5 21172' '349219'\n",
            " '234818' '345364' '28551' '111361' '113043' 'PC 17611' '349225' '7598'\n",
            " '113784' '248740' '244361' '229236' '248733' '31418' '386525'\n",
            " 'C.A. 37671' '315088' '7267' '113510' '2695' '2647' '345783' '237671'\n",
            " '330931' '330980' 'SC/PARIS 2167' '2691' 'SOTON/O.Q. 3101310' 'C 7076'\n",
            " '110813' '2626' '14313' 'PC 17477' '11765' '3101267' '323951' 'C 7077'\n",
            " '113503' '2648' '347069' 'PC 17757' '2653' 'STON/O 2. 3101293' '349227'\n",
            " '27849' '367655' 'SC 1748' '113760' '350034' '3101277' '350052' '350407'\n",
            " '28403' '244278' '240929' 'STON/O 2. 3101289' '341826' '4137' '315096'\n",
            " '28664' '347064' '29106' '312992' '349222' '394140' 'STON/O 2. 3101269'\n",
            " '343095' '28220' '250652' '28228' '345773' '349254' 'A/5. 13032' '315082'\n",
            " '347080' 'A/4. 34244' '2003' '250655' '364851' 'SOTON/O.Q. 392078'\n",
            " '110564' '376564' 'SC/AH 3085' 'STON/O 2. 3101274' '13507' 'C.A. 18723'\n",
            " '345769' '347076' '230434' '65306' '33638' '113794' '2666' '113786'\n",
            " '65303' '113051' '17453' 'A/5 2817' '349240' '13509' '17464'\n",
            " 'F.C.C. 13531' '371060' '19952' '364506' '111320' '234360' 'A/S 2816'\n",
            " 'SOTON/O.Q. 3101306' '113792' '36209' '323592' '315089' 'SC/AH Basle 541'\n",
            " '7553' '31027' '3460' '350060' '3101298' '239854' 'A/5 3594' '4134'\n",
            " '11771' 'A.5. 18509' '65304' 'SOTON/OQ 3101317' '113787' 'PC 17609'\n",
            " 'A/4 45380' '36947' 'C.A. 6212' '350035' '315086' '364846' '330909'\n",
            " '4135' '26360' '111427' 'C 4001' '382651' 'SOTON/OQ 3101316' 'PC 17473'\n",
            " 'PC 17603' '349209' '36967' 'C.A. 34260' '226875' '349242' '12749'\n",
            " '349252' '2624' '2700' '367232' 'W./C. 14258' 'PC 17483' '3101296'\n",
            " '29104' '2641' '2690' '315084' '113050' 'PC 17761' '364498' '13568'\n",
            " 'WE/P 5735' '2908' '693' 'SC/PARIS 2146' '244358' '330979' '2620'\n",
            " '347085' '113807' '11755' '345572' '372622' '349251' '218629'\n",
            " 'SOTON/OQ 392082' 'SOTON/O.Q. 392087' 'A/4 48871' '349205' '2686'\n",
            " '350417' 'S.W./PP 752' '11769' 'PC 17474' '14312' 'A/4. 20589' '358585'\n",
            " '243880' '2689' 'STON/O 2. 3101286' '237789' '13049' '3411' '237565'\n",
            " '13567' '14973' 'A./5. 3235' 'STON/O 2. 3101273' 'A/5 3902' '364848'\n",
            " 'SC/AH 29037' '248727' '2664' '349214' '113796' '364511' '111426'\n",
            " '349910' '349246' '113804' 'SOTON/O.Q. 3101305' '370377' '364512'\n",
            " '220845' '31028' '2659' '11753' '350029' '54636' '36963' '219533'\n",
            " '349224' '334912' '27042' '347743' '13214' '112052' '237668'\n",
            " 'STON/O 2. 3101292' '350050' '349231' '13213' 'S.O./P.P. 751' 'CA. 2314'\n",
            " '349221' '8475' '330919' '365226' '349223' '29751' '2623' '5727' '349210'\n",
            " 'STON/O 2. 3101285' '234686' '312993' 'A/5 3536' '19996' '29750'\n",
            " 'F.C. 12750' 'C.A. 24580' '244270' '239856' '349912' '342826' '4138'\n",
            " '330935' '6563' '349228' '350036' '24160' '17474' '349256' '2672'\n",
            " '113800' '248731' '363592' '35852' '348121' 'PC 17475' '36864' '350025'\n",
            " '223596' 'PC 17476' 'PC 17482' '113028' '7545' '250647' '348124' '34218'\n",
            " '36568' '347062' '350048' '12233' '250643' '113806' '315094' '36866'\n",
            " '236853' 'STON/O2. 3101271' '239855' '28425' '233639' '349201' '349218'\n",
            " '16988' '376566' 'STON/O 2. 3101288' '250648' '113773' '335097' '29103'\n",
            " '392096' '345780' '349204' '350042' '29108' '363294' 'SOTON/O2 3101272'\n",
            " '2663' '347074' '112379' '364850' '8471' '345781' '350047' 'S.O./P.P. 3'\n",
            " '2674' '29105' '347078' '383121' '36865' '2687' '113501' 'W./C. 6607'\n",
            " 'SOTON/O.Q. 3101312' '374887' '3101265' '12460' 'PC 17600' '349203'\n",
            " '28213' '17465' '349244' '2685' '2625' '347089' '347063' '112050'\n",
            " '347087' '248723' '3474' '28206' '364499' '112058' 'STON/O2. 3101290'\n",
            " 'S.C./PARIS 2079' 'C 7075' '315098' '19972' '368323' '367228' '2671'\n",
            " '347468' '2223' 'PC 17756' '315097' '392092' '11774' 'SOTON/O2 3101287'\n",
            " '2683' '315090' 'C.A. 5547' '349213' '347060' 'PC 17592' '392091'\n",
            " '113055' '2629' '350026' '28134' '17466' '233866' '236852'\n",
            " 'SC/PARIS 2149' 'PC 17590' '345777' '349248' '695' '345765' '2667'\n",
            " '349212' '349217' '349257' '7552' 'C.A./SOTON 34068' 'SOTON/OQ 392076'\n",
            " '211536' '112053' '111369' '370376']\n"
          ],
          "name": "stdout"
        }
      ]
    },
    {
      "cell_type": "code",
      "metadata": {
        "id": "UTfPpcU8O7h6"
      },
      "source": [
        "\n",
        "\n",
        "\n",
        "cleanup_nums = {\"passenger_survived\":     {\"N\": 0, \"Y\": 1},\n",
        "                \"passenger_sex\": {\"M\": 1, \"F\": 0},\n",
        "                \"passenger_class\": {\"Lower\": 0, \"Middle\": 1,\"Upper\": 2},\n",
        "                \"Embarked\": {\"S\": 0, \"C\": 1,\"Q\": 2,\"A\": 3}\n",
        "                }\n",
        "dataset = dataset.replace(cleanup_nums)"
      ],
      "execution_count": 36,
      "outputs": []
    },
    {
      "cell_type": "code",
      "metadata": {
        "colab": {
          "base_uri": "https://localhost:8080/",
          "height": 932
        },
        "id": "9JGGBLL8StYq",
        "outputId": "d61c9e04-a600-4245-969c-ab8d82731be8"
      },
      "source": [
        "dataset"
      ],
      "execution_count": 37,
      "outputs": [
        {
          "output_type": "execute_result",
          "data": {
            "text/html": [
              "<div>\n",
              "<style scoped>\n",
              "    .dataframe tbody tr th:only-of-type {\n",
              "        vertical-align: middle;\n",
              "    }\n",
              "\n",
              "    .dataframe tbody tr th {\n",
              "        vertical-align: top;\n",
              "    }\n",
              "\n",
              "    .dataframe thead th {\n",
              "        text-align: right;\n",
              "    }\n",
              "</style>\n",
              "<table border=\"1\" class=\"dataframe\">\n",
              "  <thead>\n",
              "    <tr style=\"text-align: right;\">\n",
              "      <th></th>\n",
              "      <th>PassengerId</th>\n",
              "      <th>Name</th>\n",
              "      <th>Age</th>\n",
              "      <th>SibSp</th>\n",
              "      <th>Parch</th>\n",
              "      <th>Ticket</th>\n",
              "      <th>Fare</th>\n",
              "      <th>Cabin</th>\n",
              "      <th>Embarked</th>\n",
              "      <th>passenger_class</th>\n",
              "      <th>passenger_sex</th>\n",
              "      <th>passenger_survived</th>\n",
              "    </tr>\n",
              "  </thead>\n",
              "  <tbody>\n",
              "    <tr>\n",
              "      <th>0</th>\n",
              "      <td>1</td>\n",
              "      <td>Braund, Mr. Owen Harris</td>\n",
              "      <td>22.0</td>\n",
              "      <td>1</td>\n",
              "      <td>0</td>\n",
              "      <td>A/5 21171</td>\n",
              "      <td>7.2500</td>\n",
              "      <td>SC</td>\n",
              "      <td>0</td>\n",
              "      <td>0</td>\n",
              "      <td>1</td>\n",
              "      <td>0</td>\n",
              "    </tr>\n",
              "    <tr>\n",
              "      <th>1</th>\n",
              "      <td>2</td>\n",
              "      <td>Cumings, Mrs. John Bradley (Florence Briggs Th...</td>\n",
              "      <td>38.0</td>\n",
              "      <td>1</td>\n",
              "      <td>0</td>\n",
              "      <td>PC 17599</td>\n",
              "      <td>71.2833</td>\n",
              "      <td>C85</td>\n",
              "      <td>1</td>\n",
              "      <td>2</td>\n",
              "      <td>0</td>\n",
              "      <td>1</td>\n",
              "    </tr>\n",
              "    <tr>\n",
              "      <th>2</th>\n",
              "      <td>3</td>\n",
              "      <td>Heikkinen, Miss. Laina</td>\n",
              "      <td>26.0</td>\n",
              "      <td>0</td>\n",
              "      <td>0</td>\n",
              "      <td>STON/O2. 3101282</td>\n",
              "      <td>7.9250</td>\n",
              "      <td>SC</td>\n",
              "      <td>0</td>\n",
              "      <td>0</td>\n",
              "      <td>0</td>\n",
              "      <td>1</td>\n",
              "    </tr>\n",
              "    <tr>\n",
              "      <th>3</th>\n",
              "      <td>4</td>\n",
              "      <td>Futrelle, Mrs. Jacques Heath (Lily May Peel)</td>\n",
              "      <td>35.0</td>\n",
              "      <td>1</td>\n",
              "      <td>0</td>\n",
              "      <td>113803</td>\n",
              "      <td>53.1000</td>\n",
              "      <td>C123</td>\n",
              "      <td>0</td>\n",
              "      <td>2</td>\n",
              "      <td>0</td>\n",
              "      <td>1</td>\n",
              "    </tr>\n",
              "    <tr>\n",
              "      <th>4</th>\n",
              "      <td>5</td>\n",
              "      <td>Allen, Mr. William Henry</td>\n",
              "      <td>35.0</td>\n",
              "      <td>0</td>\n",
              "      <td>0</td>\n",
              "      <td>373450</td>\n",
              "      <td>8.0500</td>\n",
              "      <td>SC</td>\n",
              "      <td>0</td>\n",
              "      <td>0</td>\n",
              "      <td>1</td>\n",
              "      <td>0</td>\n",
              "    </tr>\n",
              "    <tr>\n",
              "      <th>...</th>\n",
              "      <td>...</td>\n",
              "      <td>...</td>\n",
              "      <td>...</td>\n",
              "      <td>...</td>\n",
              "      <td>...</td>\n",
              "      <td>...</td>\n",
              "      <td>...</td>\n",
              "      <td>...</td>\n",
              "      <td>...</td>\n",
              "      <td>...</td>\n",
              "      <td>...</td>\n",
              "      <td>...</td>\n",
              "    </tr>\n",
              "    <tr>\n",
              "      <th>886</th>\n",
              "      <td>887</td>\n",
              "      <td>Montvila, Rev. Juozas</td>\n",
              "      <td>27.0</td>\n",
              "      <td>0</td>\n",
              "      <td>0</td>\n",
              "      <td>211536</td>\n",
              "      <td>13.0000</td>\n",
              "      <td>SC</td>\n",
              "      <td>0</td>\n",
              "      <td>1</td>\n",
              "      <td>1</td>\n",
              "      <td>0</td>\n",
              "    </tr>\n",
              "    <tr>\n",
              "      <th>887</th>\n",
              "      <td>888</td>\n",
              "      <td>Graham, Miss. Margaret Edith</td>\n",
              "      <td>19.0</td>\n",
              "      <td>0</td>\n",
              "      <td>0</td>\n",
              "      <td>112053</td>\n",
              "      <td>30.0000</td>\n",
              "      <td>B42</td>\n",
              "      <td>0</td>\n",
              "      <td>2</td>\n",
              "      <td>0</td>\n",
              "      <td>1</td>\n",
              "    </tr>\n",
              "    <tr>\n",
              "      <th>888</th>\n",
              "      <td>889</td>\n",
              "      <td>Johnston, Miss. Catherine Helen \"Carrie\"</td>\n",
              "      <td>28.0</td>\n",
              "      <td>1</td>\n",
              "      <td>2</td>\n",
              "      <td>W./C. 6607</td>\n",
              "      <td>23.4500</td>\n",
              "      <td>SC</td>\n",
              "      <td>0</td>\n",
              "      <td>0</td>\n",
              "      <td>0</td>\n",
              "      <td>0</td>\n",
              "    </tr>\n",
              "    <tr>\n",
              "      <th>889</th>\n",
              "      <td>890</td>\n",
              "      <td>Behr, Mr. Karl Howell</td>\n",
              "      <td>26.0</td>\n",
              "      <td>0</td>\n",
              "      <td>0</td>\n",
              "      <td>111369</td>\n",
              "      <td>30.0000</td>\n",
              "      <td>C148</td>\n",
              "      <td>1</td>\n",
              "      <td>2</td>\n",
              "      <td>1</td>\n",
              "      <td>1</td>\n",
              "    </tr>\n",
              "    <tr>\n",
              "      <th>890</th>\n",
              "      <td>891</td>\n",
              "      <td>Dooley, Mr. Patrick</td>\n",
              "      <td>32.0</td>\n",
              "      <td>0</td>\n",
              "      <td>0</td>\n",
              "      <td>370376</td>\n",
              "      <td>7.7500</td>\n",
              "      <td>SC</td>\n",
              "      <td>2</td>\n",
              "      <td>0</td>\n",
              "      <td>1</td>\n",
              "      <td>0</td>\n",
              "    </tr>\n",
              "  </tbody>\n",
              "</table>\n",
              "<p>891 rows × 12 columns</p>\n",
              "</div>"
            ],
            "text/plain": [
              "     PassengerId  ... passenger_survived\n",
              "0              1  ...                  0\n",
              "1              2  ...                  1\n",
              "2              3  ...                  1\n",
              "3              4  ...                  1\n",
              "4              5  ...                  0\n",
              "..           ...  ...                ...\n",
              "886          887  ...                  0\n",
              "887          888  ...                  1\n",
              "888          889  ...                  0\n",
              "889          890  ...                  1\n",
              "890          891  ...                  0\n",
              "\n",
              "[891 rows x 12 columns]"
            ]
          },
          "metadata": {
            "tags": []
          },
          "execution_count": 37
        }
      ]
    },
    {
      "cell_type": "code",
      "metadata": {
        "colab": {
          "base_uri": "https://localhost:8080/",
          "height": 496
        },
        "id": "oq0c6HtTUmBU",
        "outputId": "7df9543a-e74f-4061-9d84-943f26ed0b54"
      },
      "source": [
        "dataset[\"Cabin\"] = dataset[\"Cabin\"].astype('category')\n",
        "\n",
        "dataset[\"Cabin_cat\"] = dataset[\"Cabin\"].cat.codes\n",
        "dataset.head()"
      ],
      "execution_count": 39,
      "outputs": [
        {
          "output_type": "execute_result",
          "data": {
            "text/html": [
              "<div>\n",
              "<style scoped>\n",
              "    .dataframe tbody tr th:only-of-type {\n",
              "        vertical-align: middle;\n",
              "    }\n",
              "\n",
              "    .dataframe tbody tr th {\n",
              "        vertical-align: top;\n",
              "    }\n",
              "\n",
              "    .dataframe thead th {\n",
              "        text-align: right;\n",
              "    }\n",
              "</style>\n",
              "<table border=\"1\" class=\"dataframe\">\n",
              "  <thead>\n",
              "    <tr style=\"text-align: right;\">\n",
              "      <th></th>\n",
              "      <th>PassengerId</th>\n",
              "      <th>Name</th>\n",
              "      <th>Age</th>\n",
              "      <th>SibSp</th>\n",
              "      <th>Parch</th>\n",
              "      <th>Ticket</th>\n",
              "      <th>Fare</th>\n",
              "      <th>Cabin</th>\n",
              "      <th>Embarked</th>\n",
              "      <th>passenger_class</th>\n",
              "      <th>passenger_sex</th>\n",
              "      <th>passenger_survived</th>\n",
              "      <th>Cabin_cat</th>\n",
              "    </tr>\n",
              "  </thead>\n",
              "  <tbody>\n",
              "    <tr>\n",
              "      <th>0</th>\n",
              "      <td>1</td>\n",
              "      <td>Braund, Mr. Owen Harris</td>\n",
              "      <td>22.0</td>\n",
              "      <td>1</td>\n",
              "      <td>0</td>\n",
              "      <td>A/5 21171</td>\n",
              "      <td>7.2500</td>\n",
              "      <td>SC</td>\n",
              "      <td>0</td>\n",
              "      <td>0</td>\n",
              "      <td>1</td>\n",
              "      <td>0</td>\n",
              "      <td>146</td>\n",
              "    </tr>\n",
              "    <tr>\n",
              "      <th>1</th>\n",
              "      <td>2</td>\n",
              "      <td>Cumings, Mrs. John Bradley (Florence Briggs Th...</td>\n",
              "      <td>38.0</td>\n",
              "      <td>1</td>\n",
              "      <td>0</td>\n",
              "      <td>PC 17599</td>\n",
              "      <td>71.2833</td>\n",
              "      <td>C85</td>\n",
              "      <td>1</td>\n",
              "      <td>2</td>\n",
              "      <td>0</td>\n",
              "      <td>1</td>\n",
              "      <td>81</td>\n",
              "    </tr>\n",
              "    <tr>\n",
              "      <th>2</th>\n",
              "      <td>3</td>\n",
              "      <td>Heikkinen, Miss. Laina</td>\n",
              "      <td>26.0</td>\n",
              "      <td>0</td>\n",
              "      <td>0</td>\n",
              "      <td>STON/O2. 3101282</td>\n",
              "      <td>7.9250</td>\n",
              "      <td>SC</td>\n",
              "      <td>0</td>\n",
              "      <td>0</td>\n",
              "      <td>0</td>\n",
              "      <td>1</td>\n",
              "      <td>146</td>\n",
              "    </tr>\n",
              "    <tr>\n",
              "      <th>3</th>\n",
              "      <td>4</td>\n",
              "      <td>Futrelle, Mrs. Jacques Heath (Lily May Peel)</td>\n",
              "      <td>35.0</td>\n",
              "      <td>1</td>\n",
              "      <td>0</td>\n",
              "      <td>113803</td>\n",
              "      <td>53.1000</td>\n",
              "      <td>C123</td>\n",
              "      <td>0</td>\n",
              "      <td>2</td>\n",
              "      <td>0</td>\n",
              "      <td>1</td>\n",
              "      <td>55</td>\n",
              "    </tr>\n",
              "    <tr>\n",
              "      <th>4</th>\n",
              "      <td>5</td>\n",
              "      <td>Allen, Mr. William Henry</td>\n",
              "      <td>35.0</td>\n",
              "      <td>0</td>\n",
              "      <td>0</td>\n",
              "      <td>373450</td>\n",
              "      <td>8.0500</td>\n",
              "      <td>SC</td>\n",
              "      <td>0</td>\n",
              "      <td>0</td>\n",
              "      <td>1</td>\n",
              "      <td>0</td>\n",
              "      <td>146</td>\n",
              "    </tr>\n",
              "  </tbody>\n",
              "</table>\n",
              "</div>"
            ],
            "text/plain": [
              "   PassengerId  ... Cabin_cat\n",
              "0            1  ...       146\n",
              "1            2  ...        81\n",
              "2            3  ...       146\n",
              "3            4  ...        55\n",
              "4            5  ...       146\n",
              "\n",
              "[5 rows x 13 columns]"
            ]
          },
          "metadata": {
            "tags": []
          },
          "execution_count": 39
        }
      ]
    },
    {
      "cell_type": "code",
      "metadata": {
        "colab": {
          "base_uri": "https://localhost:8080/",
          "height": 379
        },
        "id": "YaN90M5bXcJr",
        "outputId": "daad25bf-21db-4f02-9c97-16d6f127762e"
      },
      "source": [
        "corrpearson = dataset.corr(method=\"pearson\")\n",
        "corrpearson\n",
        "\n"
      ],
      "execution_count": 41,
      "outputs": [
        {
          "output_type": "execute_result",
          "data": {
            "text/html": [
              "<div>\n",
              "<style scoped>\n",
              "    .dataframe tbody tr th:only-of-type {\n",
              "        vertical-align: middle;\n",
              "    }\n",
              "\n",
              "    .dataframe tbody tr th {\n",
              "        vertical-align: top;\n",
              "    }\n",
              "\n",
              "    .dataframe thead th {\n",
              "        text-align: right;\n",
              "    }\n",
              "</style>\n",
              "<table border=\"1\" class=\"dataframe\">\n",
              "  <thead>\n",
              "    <tr style=\"text-align: right;\">\n",
              "      <th></th>\n",
              "      <th>PassengerId</th>\n",
              "      <th>Age</th>\n",
              "      <th>SibSp</th>\n",
              "      <th>Parch</th>\n",
              "      <th>Fare</th>\n",
              "      <th>Embarked</th>\n",
              "      <th>passenger_class</th>\n",
              "      <th>passenger_sex</th>\n",
              "      <th>passenger_survived</th>\n",
              "      <th>Cabin_cat</th>\n",
              "    </tr>\n",
              "  </thead>\n",
              "  <tbody>\n",
              "    <tr>\n",
              "      <th>PassengerId</th>\n",
              "      <td>1.000000</td>\n",
              "      <td>0.034212</td>\n",
              "      <td>-0.057527</td>\n",
              "      <td>-0.001652</td>\n",
              "      <td>0.012658</td>\n",
              "      <td>-0.029906</td>\n",
              "      <td>0.035144</td>\n",
              "      <td>0.042939</td>\n",
              "      <td>-0.005007</td>\n",
              "      <td>-0.035197</td>\n",
              "    </tr>\n",
              "    <tr>\n",
              "      <th>Age</th>\n",
              "      <td>0.034212</td>\n",
              "      <td>1.000000</td>\n",
              "      <td>-0.233296</td>\n",
              "      <td>-0.172482</td>\n",
              "      <td>0.096688</td>\n",
              "      <td>0.007505</td>\n",
              "      <td>0.339898</td>\n",
              "      <td>0.081163</td>\n",
              "      <td>-0.064910</td>\n",
              "      <td>-0.240312</td>\n",
              "    </tr>\n",
              "    <tr>\n",
              "      <th>SibSp</th>\n",
              "      <td>-0.057527</td>\n",
              "      <td>-0.233296</td>\n",
              "      <td>1.000000</td>\n",
              "      <td>0.414838</td>\n",
              "      <td>0.159651</td>\n",
              "      <td>-0.063794</td>\n",
              "      <td>-0.083081</td>\n",
              "      <td>-0.114631</td>\n",
              "      <td>-0.035322</td>\n",
              "      <td>0.043525</td>\n",
              "    </tr>\n",
              "    <tr>\n",
              "      <th>Parch</th>\n",
              "      <td>-0.001652</td>\n",
              "      <td>-0.172482</td>\n",
              "      <td>0.414838</td>\n",
              "      <td>1.000000</td>\n",
              "      <td>0.216225</td>\n",
              "      <td>-0.082144</td>\n",
              "      <td>-0.018443</td>\n",
              "      <td>-0.245489</td>\n",
              "      <td>0.081629</td>\n",
              "      <td>-0.028179</td>\n",
              "    </tr>\n",
              "    <tr>\n",
              "      <th>Fare</th>\n",
              "      <td>0.012658</td>\n",
              "      <td>0.096688</td>\n",
              "      <td>0.159651</td>\n",
              "      <td>0.216225</td>\n",
              "      <td>1.000000</td>\n",
              "      <td>0.071010</td>\n",
              "      <td>0.549500</td>\n",
              "      <td>-0.182333</td>\n",
              "      <td>0.257307</td>\n",
              "      <td>-0.502569</td>\n",
              "    </tr>\n",
              "    <tr>\n",
              "      <th>Embarked</th>\n",
              "      <td>-0.029906</td>\n",
              "      <td>0.007505</td>\n",
              "      <td>-0.063794</td>\n",
              "      <td>-0.082144</td>\n",
              "      <td>0.071010</td>\n",
              "      <td>1.000000</td>\n",
              "      <td>-0.028566</td>\n",
              "      <td>-0.128526</td>\n",
              "      <td>0.118026</td>\n",
              "      <td>-0.077932</td>\n",
              "    </tr>\n",
              "    <tr>\n",
              "      <th>passenger_class</th>\n",
              "      <td>0.035144</td>\n",
              "      <td>0.339898</td>\n",
              "      <td>-0.083081</td>\n",
              "      <td>-0.018443</td>\n",
              "      <td>0.549500</td>\n",
              "      <td>-0.028566</td>\n",
              "      <td>1.000000</td>\n",
              "      <td>-0.131900</td>\n",
              "      <td>0.338481</td>\n",
              "      <td>-0.682176</td>\n",
              "    </tr>\n",
              "    <tr>\n",
              "      <th>passenger_sex</th>\n",
              "      <td>0.042939</td>\n",
              "      <td>0.081163</td>\n",
              "      <td>-0.114631</td>\n",
              "      <td>-0.245489</td>\n",
              "      <td>-0.182333</td>\n",
              "      <td>-0.128526</td>\n",
              "      <td>-0.131900</td>\n",
              "      <td>1.000000</td>\n",
              "      <td>-0.543351</td>\n",
              "      <td>0.095991</td>\n",
              "    </tr>\n",
              "    <tr>\n",
              "      <th>passenger_survived</th>\n",
              "      <td>-0.005007</td>\n",
              "      <td>-0.064910</td>\n",
              "      <td>-0.035322</td>\n",
              "      <td>0.081629</td>\n",
              "      <td>0.257307</td>\n",
              "      <td>0.118026</td>\n",
              "      <td>0.338481</td>\n",
              "      <td>-0.543351</td>\n",
              "      <td>1.000000</td>\n",
              "      <td>-0.253658</td>\n",
              "    </tr>\n",
              "    <tr>\n",
              "      <th>Cabin_cat</th>\n",
              "      <td>-0.035197</td>\n",
              "      <td>-0.240312</td>\n",
              "      <td>0.043525</td>\n",
              "      <td>-0.028179</td>\n",
              "      <td>-0.502569</td>\n",
              "      <td>-0.077932</td>\n",
              "      <td>-0.682176</td>\n",
              "      <td>0.095991</td>\n",
              "      <td>-0.253658</td>\n",
              "      <td>1.000000</td>\n",
              "    </tr>\n",
              "  </tbody>\n",
              "</table>\n",
              "</div>"
            ],
            "text/plain": [
              "                    PassengerId       Age  ...  passenger_survived  Cabin_cat\n",
              "PassengerId            1.000000  0.034212  ...           -0.005007  -0.035197\n",
              "Age                    0.034212  1.000000  ...           -0.064910  -0.240312\n",
              "SibSp                 -0.057527 -0.233296  ...           -0.035322   0.043525\n",
              "Parch                 -0.001652 -0.172482  ...            0.081629  -0.028179\n",
              "Fare                   0.012658  0.096688  ...            0.257307  -0.502569\n",
              "Embarked              -0.029906  0.007505  ...            0.118026  -0.077932\n",
              "passenger_class        0.035144  0.339898  ...            0.338481  -0.682176\n",
              "passenger_sex          0.042939  0.081163  ...           -0.543351   0.095991\n",
              "passenger_survived    -0.005007 -0.064910  ...            1.000000  -0.253658\n",
              "Cabin_cat             -0.035197 -0.240312  ...           -0.253658   1.000000\n",
              "\n",
              "[10 rows x 10 columns]"
            ]
          },
          "metadata": {
            "tags": []
          },
          "execution_count": 41
        }
      ]
    },
    {
      "cell_type": "code",
      "metadata": {
        "colab": {
          "base_uri": "https://localhost:8080/",
          "height": 1000
        },
        "id": "UeWerOZKlL30",
        "outputId": "7dcef04d-3b9a-4d6b-cf8e-a6ac5ee1e542"
      },
      "source": [
        "def GraficarCorrelacion (x,y,titulo,xtitulo,ytitulo,color1):\n",
        "  plt.scatter(x,y)\n",
        "  plt.title(titulo)\n",
        "  plt.xlabel(xtitulo)\n",
        "  plt.ylabel(ytitulo)\n",
        "  plt.plot(np.unique(x), np.poly1d(np.polyfit(x, y, 1))(np.unique(x)), color=color1)\n",
        "  plt.show()\n",
        "\n",
        "\n",
        "\n",
        "\n",
        "\n",
        "y = dataset['passenger_survived']\n",
        "x = dataset['Age']\n",
        "\n",
        "GraficarCorrelacion(x,y,'passenger_survived vrs Age','Age','passenger_survived','red')\n",
        "\n",
        "x = dataset['SibSp']\n",
        "GraficarCorrelacion(x,y,'passenger_survived vrs SibSp','SibSp','passenger_survived','red')\n",
        "\n",
        "x = dataset['Parch']\n",
        "GraficarCorrelacion(x,y,'Parch vrs passenger_survived','Parch','passenger_survived','red')\n",
        "\n",
        "x = dataset['Fare']\n",
        "GraficarCorrelacion(x,y,'passenger_survived vrs Fare','Fare','passenger_survived','red')\n",
        "\n",
        "x = dataset['Embarked']\n",
        "\n",
        "GraficarCorrelacion(y,x,'passenger_survived vrs Embarked','Embarked','passenger_survived','red')\n",
        "\n",
        "x = dataset['passenger_class']\n",
        "\n",
        "GraficarCorrelacion(y,x,'passenger_survived vrs passenger_class','passenger_class','passenger_survived','red')\n",
        "\n",
        "x = dataset['passenger_sex']\n",
        "\n",
        "GraficarCorrelacion(y,x,'passenger_survived vrs passenger_sex','passenger_sex','passenger_survived','red')\n",
        "\n",
        "x = dataset['Cabin_cat']\n",
        "\n",
        "GraficarCorrelacion(y,x,'passenger_survived vrs Cabin_cat','Cabin_cat','passenger_survived','red')\n",
        "\n",
        "\n",
        "\n",
        "\n",
        "fig = plt.figure()\n",
        "ax = fig.add_subplot(111)\n",
        "cax = ax.matshow(corrpearson,cmap='coolwarm', vmin=-1, vmax=1)\n",
        "fig.colorbar(cax)\n",
        "ticks = np.arange(0,len(dataset.columns),1)\n",
        "ax.set_xticks(ticks)\n",
        "plt.xticks(rotation=90)\n",
        "ax.set_yticks(ticks)\n",
        "ax.set_xticklabels(dataset.columns)\n",
        "ax.set_yticklabels(dataset.columns)\n",
        "plt.show()\n",
        "\n",
        "\n",
        "\n",
        "\n",
        "\n",
        "\n",
        "\n",
        "\n"
      ],
      "execution_count": 43,
      "outputs": [
        {
          "output_type": "display_data",
          "data": {
            "image/png": "[encoded data removed]",
            "text/plain": [
              "<Figure size 432x288 with 1 Axes>"
            ]
          },
          "metadata": {
            "tags": []
          }
        },
        {
          "output_type": "display_data",
          "data": {
            "image/png": "[encoded data removed]",
            "text/plain": [
              "<Figure size 432x288 with 1 Axes>"
            ]
          },
          "metadata": {
            "tags": []
          }
        },
        {
          "output_type": "display_data",
          "data": {
            "image/png": "[encoded data removed]",
            "text/plain": [
              "<Figure size 432x288 with 1 Axes>"
            ]
          },
          "metadata": {
            "tags": []
          }
        },
        {
          "output_type": "display_data",
          "data": {
            "image/png": "[encoded data removed]",
            "text/plain": [
              "<Figure size 432x288 with 1 Axes>"
            ]
          },
          "metadata": {
            "tags": []
          }
        },
        {
          "output_type": "display_data",
          "data": {
            "image/png": "[encoded data removed]",
            "text/plain": [
              "<Figure size 432x288 with 1 Axes>"
            ]
          },
          "metadata": {
            "tags": []
          }
        },
        {
          "output_type": "display_data",
          "data": {
            "image/png": "[encoded data removed]",
            "text/plain": [
              "<Figure size 432x288 with 1 Axes>"
            ]
          },
          "metadata": {
            "tags": []
          }
        },
        {
          "output_type": "display_data",
          "data": {
            "image/png": "[encoded data removed]",
            "text/plain": [
              "<Figure size 432x288 with 1 Axes>"
            ]
          },
          "metadata": {
            "tags": []
          }
        },
        {
          "output_type": "display_data",
          "data": {
            "image/png": "[encoded data removed]",
            "text/plain": [
              "<Figure size 432x288 with 1 Axes>"
            ]
          },
          "metadata": {
            "tags": []
          }
        },
        {
          "output_type": "display_data",
          "data": {
            "image/png": "[encoded data removed]",
            "text/plain": [
              "<Figure size 432x288 with 2 Axes>"
            ]
          },
          "metadata": {
            "tags": []
          }
        }
      ]
    },
    {
      "cell_type": "markdown",
      "metadata": {
        "id": "GVNhgdaoXPVd"
      },
      "source": [
        "# Seccion II\n",
        "\n",
        "Entrenamiento en base a los cuatro algoritmos indicados:\n",
        "\n",
        "\n",
        "\n",
        "1.   Spliting Dataset - Train,Test,Eval (0.80,0.16,0.04)\n",
        "2.   Ensemble Learning:\n",
        "      *   Decision Tree - SkLearn\n",
        "      *   Elemento de lista\n",
        "\n",
        "\n",
        "\n",
        "\n",
        "\n"
      ]
    },
    {
      "cell_type": "code",
      "metadata": {
        "id": "eg6YEWLRpbFa"
      },
      "source": [
        "#spliting Dataset\n",
        "dataset.drop(['Name', 'Ticket'], axis=1)\n",
        "Train, Test1 = train_test_split(dataset,train_size=0.8, random_state=42)\n",
        "Test,Eval = train_test_split(Test1,train_size=0.8, random_state=42)\n",
        "\n",
        "\n",
        "\n",
        "\n",
        "\n",
        "\n",
        "  \n"
      ],
      "execution_count": 55,
      "outputs": []
    },
    {
      "cell_type": "code",
      "metadata": {
        "colab": {
          "base_uri": "https://localhost:8080/",
          "height": 384
        },
        "id": "clK07I-O-qsx",
        "outputId": "a0114afb-4567-417f-ea46-a7b3ea3d1881"
      },
      "source": [
        "#sklearn DecisionTree\n",
        "def DecisionTree(y,columnas):\n",
        "  x = Train[columnas]\n",
        "  tree_model = tree.DecisionTreeClassifier(max_depth = 2)\n",
        "  model = tree_model.fit(X = x, \n",
        "                         y = y)\n",
        "  valid_acc = model.score(X = x,\n",
        "                          y = y)# We calculate accuracy with the fold validation data\n",
        "        \n",
        "    \n",
        "  print('Exactitud del modelo: ',str(valid_acc))\n",
        "  \n",
        "  return model\n",
        "\n",
        "c = [\"Age\"]\n",
        "ytrain = Train[\"passenger_survived\"]\n",
        "traintree = DecisionTree(ytrain,c)\n",
        "tree.plot_tree(traintree)\n",
        "\n"
      ],
      "execution_count": 90,
      "outputs": [
        {
          "output_type": "stream",
          "text": [
            "Exactitud del modelo:  0.6460674157303371\n"
          ],
          "name": "stdout"
        },
        {
          "output_type": "execute_result",
          "data": {
            "text/plain": [
              "[Text(167.4, 181.2, 'X[0] <= 6.5\\ngini = 0.472\\nsamples = 712\\nvalue = [440, 272]'),\n",
              " Text(83.7, 108.72, 'X[0] <= 2.5\\ngini = 0.361\\nsamples = 38\\nvalue = [9, 29]'),\n",
              " Text(41.85, 36.23999999999998, 'gini = 0.455\\nsamples = 20\\nvalue = [7, 13]'),\n",
              " Text(125.55000000000001, 36.23999999999998, 'gini = 0.198\\nsamples = 18\\nvalue = [2, 16]'),\n",
              " Text(251.10000000000002, 108.72, 'X[0] <= 63.5\\ngini = 0.461\\nsamples = 674\\nvalue = [431, 243]'),\n",
              " Text(209.25, 36.23999999999998, 'gini = 0.464\\nsamples = 662\\nvalue = [420, 242]'),\n",
              " Text(292.95, 36.23999999999998, 'gini = 0.153\\nsamples = 12\\nvalue = [11, 1]')]"
            ]
          },
          "metadata": {
            "tags": []
          },
          "execution_count": 90
        },
        {
          "output_type": "display_data",
          "data": {
            "image/png": "[encoded data removed]",
            "text/plain": [
              "<Figure size 432x288 with 1 Axes>"
            ]
          },
          "metadata": {
            "tags": []
          }
        }
      ]
    },
    {
      "cell_type": "code",
      "metadata": {
        "colab": {
          "base_uri": "https://localhost:8080/"
        },
        "id": "eFe8w5NgNAzJ",
        "outputId": "3960e319-4f2d-454d-e11b-3d735846d07e"
      },
      "source": [
        "#svm con sklearn\n",
        "def svm (y,columnas):\n",
        "  x = Train[columnas]\n",
        "  model = SVC()\n",
        "  param_grid = {'C':[1,2,5,10,20,50]} \n",
        "  clf = GridSearchCV(model, param_grid=param_grid, cv = 10, n_jobs=1, return_train_score = True)\n",
        "  clf.fit(x, y)\n",
        "  return clf\n",
        "\n",
        "ytrain = Train[\"passenger_survived\"]\n",
        "svmr = svm(ytrain,c)\n",
        "gpd = pd.DataFrame(svmr.cv_results_)\n",
        "print(\"Exactitud estimada del modelo:{0:1.4f}\".format(gpd['mean_test_score'][svmr.best_index_]))\n"
      ],
      "execution_count": 82,
      "outputs": [
        {
          "output_type": "stream",
          "text": [
            "Exactitud estimada del modelo:0.6432\n"
          ],
          "name": "stdout"
        }
      ]
    },
    {
      "cell_type": "code",
      "metadata": {
        "colab": {
          "base_uri": "https://localhost:8080/"
        },
        "id": "GhpYpnCjrL36",
        "outputId": "b9672ea2-ab8e-4a58-d5a7-55861c3eb691"
      },
      "source": [
        "def naiveBayes(y,columnas):\n",
        "  x = Train[columnas]\n",
        "  modelo= GaussianNB()\n",
        "  modelo.fit(x, y)\n",
        "  modelo.class_prior_\n",
        "  yhat=modelo.predict(x)\n",
        "  accuracy=round(accuracy_score(yhat,y),3)\n",
        "  print(accuracy)\n",
        "  \n",
        "  return modelo\n",
        "\n",
        "ytrain = Train[\"passenger_survived\"]\n",
        "naiveBayes(ytrain,c)\n"
      ],
      "execution_count": 96,
      "outputs": [
        {
          "output_type": "stream",
          "text": [
            "0.64\n"
          ],
          "name": "stdout"
        },
        {
          "output_type": "execute_result",
          "data": {
            "text/plain": [
              "GaussianNB(priors=None, var_smoothing=1e-09)"
            ]
          },
          "metadata": {
            "tags": []
          },
          "execution_count": 96
        }
      ]
    },
    {
      "cell_type": "code",
      "metadata": {
        "id": "m4BoMQJRu0Mn"
      },
      "source": [
        "class LogisticRegression:\n",
        "  def __init__(self,no_features,no_clases,beta,L2):\n",
        " \n",
        "    self.W = tf.Variable(tf.ones([no_features, no_clases]), name=\"w\")\n",
        "    self.b = tf.Variable(tf.zeros([no_clases]), name=\"bias\")\n",
        "    self.error_summary = tf.summary.scalar(\"error_summary\",0)\n",
        "    self.beta = tf.summary.scalar(\"Beta\",beta) #hiperaparametro\n",
        "\n",
        "    self.accuracy = tf.summary.scalar(\"accuracy\",0)\n",
        "    self.L2 = tf.summary.scalar(\"L2\",L2)\n",
        "\n",
        "  def __call__(self,x):\n",
        "    \n",
        "    return tf.nn.softmax(tf.matmul(x, self.W) + self.b)\n",
        "\n",
        "  def regresion_logistica(self,x):\n",
        "\n",
        "    \n",
        "    return tf.nn.softmax(tf.matmul(x, self.W) + self.b)\n",
        "    \n",
        "  def cross_entropy(self,y_pred, y_true):\n",
        "\n",
        "    y_true = tf.one_hot(tf.cast(y_true,dtype=tf.int32), depth=10)\n",
        "\n",
        "  \n",
        "    y_pred = tf.clip_by_value(y_pred, 1e-9, 1.)\n",
        "\n",
        "  \n",
        "    return tf.reduce_mean(-tf.reduce_sum(y_true * tf.math.log(y_pred)))\n",
        "\n",
        "  def exactitud(self,y_pred, y_true):\n",
        "    prediccion_correcta = tf.equal(tf.argmax(y_pred, 1), tf.cast(y_true, tf.int64))\n",
        "    return tf.reduce_mean(tf.cast(prediccion_correcta, tf.float32))\n",
        "\n",
        "  def L2(self,error):\n",
        "    regulizador = tf.nn.l2_loss(self.W)\n",
        "    return tf.reduce_mean(error+self.beta * regulizador)\n",
        "\n",
        "  def optimizacion(self,x, y,learning_rate):\n",
        "\n",
        "      pred = self.regresion_logistica(x)\n",
        "     \n",
        "      error = self.cross_entropy(pred, y)\n",
        "      if (self.L2 == 1):\n",
        "        error = self.L2(error)\n",
        "\n",
        "      self.error_summary = tf.summary.scalar(\"error_summary\",error)\n",
        "      #aca va la funcion de costo y la optimizacion por gradiente.\n",
        "      dc_dw, dc_db = tf.gradients(error,[self.W,self.b],name=\"Gradients\")\n",
        "   \n",
        "     \n",
        "      #gradientem = tf.reduce_mean((yhat-y)*x)#((yhat-y)*x)/1168\n",
        "      #gradienteb = tf.reduce_mean(yhat-y)\n",
        "     \n",
        "      actualizacion_w = tf.assign(self.W, self.W - learning_rate*dc_dw,name=\"actualizacion_w\" )\n",
        "      actualizacion_b = tf.assign(self.b, self.b - learning_rate*dc_db,name=\"actualizacion_b\" )\n",
        "      accuracy1 = self.exactitud(pred,y)\n",
        "      self.accuracy = accuracy1\n",
        "      actualizacion_parametros = tf.group(actualizacion_w,actualizacion_b,self.error_summary,self.accuracy)\n",
        "\n",
        "\n",
        "\n",
        "      return actualizacion_parametros"
      ],
      "execution_count": 98,
      "outputs": []
    }
  ]
}