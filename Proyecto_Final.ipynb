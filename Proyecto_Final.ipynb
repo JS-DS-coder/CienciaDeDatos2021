{
  "nbformat": 4,
  "nbformat_minor": 0,
  "metadata": {
    "colab": {
      "name": "Proyecto Final.ipynb",
      "provenance": [],
      "collapsed_sections": [],
      "authorship_tag": "ABX9TyPXk/UniTBRLNBgzQ8cAmO2",
      "include_colab_link": true
    },
    "kernelspec": {
      "name": "python3",
      "display_name": "Python 3"
    },
    "language_info": {
      "name": "python"
    }
  },
  "cells": [
    {
      "cell_type": "markdown",
      "metadata": {
        "id": "view-in-github",
        "colab_type": "text"
      },
      "source": [
        "<a href=\"https://colab.research.google.com/github/JS-DS-coder/CienciaDeDatos2021/blob/master/Proyecto_Final.ipynb\" target=\"_parent\"><img src=\"https://colab.research.google.com/assets/colab-badge.svg\" alt=\"Open In Colab\"/></a>"
      ]
    },
    {
      "cell_type": "markdown",
      "metadata": {
        "id": "m2oYV9XZ87_n"
      },
      "source": [
        "**Proyecto Final**\n",
        "\n",
        "Jairo Salazar\n",
        "\n",
        "Carnet : 21000887 \n",
        "\n",
        "***Parte I - Analisis exploratorio de Datos***\n",
        "\n",
        "\n",
        " "
      ]
    },
    {
      "cell_type": "code",
      "metadata": {
        "id": "tlhD5igi96eu"
      },
      "source": [
        "import numpy as np\n",
        "import pandas as pd\n",
        "import matplotlib.pyplot as plt\n",
        "import seaborn as sb\n",
        "\n"
      ],
      "execution_count": 73,
      "outputs": []
    },
    {
      "cell_type": "code",
      "metadata": {
        "colab": {
          "base_uri": "https://localhost:8080/"
        },
        "id": "BCWPdK9lUfEQ",
        "outputId": "91976068-19ea-4940-dfa6-797e3e50399f"
      },
      "source": [
        "#carga de dataset y slicin de los datos\n",
        "def slicingDataset (ds,inicio,porcentaje):\n",
        "  cantidad = int(np.round(ds.shape[0] * porcentaje,0))\n",
        "  return ds[inicio:inicio+cantidad,0:6]\n",
        "  \n",
        "\n",
        "\n",
        "Dataset = np.load('proyecto_training_data.npy')\n",
        "print (Dataset.shape)\n",
        "dsEntrenamiento = slicingDataset(Dataset,0,0.80)\n",
        "dsTest = slicingDataset(Dataset,int(dsEntrenamiento.shape[0])-1,0.20)\n",
        "print (dsTest.shape)\n",
        "print (dsEntrenamiento.shape)"
      ],
      "execution_count": 87,
      "outputs": [
        {
          "output_type": "stream",
          "text": [
            "(1460, 6)\n",
            "(292, 6)\n",
            "(1168, 6)\n"
          ],
          "name": "stdout"
        }
      ]
    },
    {
      "cell_type": "code",
      "metadata": {
        "colab": {
          "base_uri": "https://localhost:8080/"
        },
        "id": "QTWe7B3Y_0dq",
        "outputId": "4eb512a9-ce13-4aa4-e447-5a062231f5aa"
      },
      "source": [
        "#Analisis Exploratorio de los datasets\n",
        "#calculando media, valor maximo, valor minimo, rango, desviacion estandard.\n",
        "def dimensiones (ds,columna,nombre):\n",
        "  dimension = ds[0:ds.shape[0],columna-1:columna]\n",
        "  media = np.mean(dimension)\n",
        "  valmax = np.max(dimension)\n",
        "  valmin = np.min(dimension)\n",
        "  desvstd  = np.std(dimension)\n",
        "  rango    = np.ptp(dimension)\n",
        "  print('-------------------------------')\n",
        "  print('        ', nombre)\n",
        "  print ('Media: ',media)\n",
        "  print ('Valor Maximo: ',valmax)\n",
        "  print ('Valor Minimo: ',valmin)\n",
        "  print ('Rango: ',rango)\n",
        "  print ('Desviacion Standard: ',desvstd)\n",
        "  sb.set_theme()\n",
        "  print(dsEntrenamiento.shape)\n",
        "  #sb.displot(dimension,kde=True,x=nombre)\n",
        "\n",
        "\n",
        "print(dsEntrenamiento.shape)\n",
        "dimensiones(dsEntrenamiento,1,\"Precio de Venta\")\n"
      ],
      "execution_count": 98,
      "outputs": [
        {
          "output_type": "stream",
          "text": [
            "(1168, 6)\n",
            "-------------------------------\n",
            "         Precio de Venta\n",
            "Media:  180590.27739726027\n",
            "Valor Maximo:  755000.0\n",
            "Valor Minimo:  34900.0\n",
            "Rango:  720100.0\n",
            "Desviacion Standard:  78781.95108033362\n",
            "(1168, 6)\n"
          ],
          "name": "stdout"
        }
      ]
    }
  ]
}