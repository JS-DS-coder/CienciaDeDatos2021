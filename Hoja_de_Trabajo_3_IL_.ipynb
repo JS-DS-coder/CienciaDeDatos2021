{
  "nbformat": 4,
  "nbformat_minor": 0,
  "metadata": {
    "colab": {
      "name": "Hoja de Trabajo 3 IL .ipynb",
      "provenance": [],
      "collapsed_sections": [],
      "authorship_tag": "ABX9TyO/QQb/r2QPYliJqVDIdUsf",
      "include_colab_link": true
    },
    "kernelspec": {
      "name": "python3",
      "display_name": "Python 3"
    },
    "language_info": {
      "name": "python"
    }
  },
  "cells": [
    {
      "cell_type": "markdown",
      "metadata": {
        "id": "view-in-github",
        "colab_type": "text"
      },
      "source": [
        "<a href=\"https://colab.research.google.com/github/JS-DS-coder/CienciaDeDatos2021/blob/master/Hoja_de_Trabajo_3_IL_.ipynb\" target=\"_parent\"><img src=\"https://colab.research.google.com/assets/colab-badge.svg\" alt=\"Open In Colab\"/></a>"
      ]
    },
    {
      "cell_type": "markdown",
      "metadata": {
        "id": "B4uZyN-P3frm"
      },
      "source": [
        "# Hoja de Trabajo 3\n",
        "\n",
        "Jairo O. Salazar  \n",
        "\n",
        "**1. Realizar un breve resumen sobre las partes de una oracion, utilizar el siguiente link como referencia.**\n",
        "\n",
        "Las oraciones tienen 9 partes, de las cuales 5 son variables y 4 invariables. \n",
        "\n",
        "Las 9 partes de oración son los siguientes:\n",
        "\n",
        "\n",
        "***Variables***\n",
        "\n",
        "1.   Nombre o sustantivo\n",
        "2.   Adjetivo \n",
        "3.   Artículo \n",
        "4.   Pronombre \n",
        "5.   Verbo\n",
        "\n",
        "***Invariables***\n",
        "\n",
        "\n",
        "1.   Adverbio\n",
        "2.   Preposición\n",
        "3.   Conjunción\n",
        "4.   Interjección\n",
        "\n",
        "**Partes Variables de una oración**\n",
        "\n",
        "*Nombre o sustantivo:* Son palabras que nombran personas, animales, objetos, ideas o sentimientos. Pueden ser comunes o propios, concretos o abstractos, individuales o colectivos.\n",
        "\n",
        "*Adjetivo:* expresa características o propiedades atribuidas a un sustantivo.\n",
        "\n",
        "*Articulo:* son formas gramaticales que anteceden al sustantivo y aportan información sobre él. \n",
        "\n",
        "*Pronombre:* es un tipo de palabra que sustituye al nombre o sustantivo en una oración.\n",
        "\n",
        "*Verbo:* son aquellas palabras que se utilizan para expresar acciones, estados, actitudes, condiciones, sucesos de la naturaleza o existencia. \n",
        "\n",
        "*Adverbio:* es la parte invariable de la oración que puede modificar o complementar el significado del verbo, del adjetivo, de otro adverbio o de toda una oración. \n",
        "\n",
        "*Preposición:* son nexos que relacionan los diferentes elementos de una oración. Se utilizan para indicar origen, procedencia, dirección, destino, medio, motivo o posesión.\n",
        "\n",
        "*Conjunción:* son las palabras (o conjuntos de palabras) que funcionan como nexos para unir palabras, oraciones o proposiciones.\n",
        "\n",
        "*Interjección:* Son palabras cuya función es expresar sentimientos (¡ay!), impresiones (¡oh!), reacciones (¡ah!), sonidos que queremos imitar (¡buaaaaa!) o que utilizamos para formular verbalmente comportamientos y relaciones sociales (¡hola!).\n",
        "\n",
        "\n",
        "\n",
        "\n",
        "\n",
        "\n"
      ]
    },
    {
      "cell_type": "markdown",
      "metadata": {
        "id": "s4qFfisfahFX"
      },
      "source": [
        "# Problema 2\n",
        "# NLP (Procesamiento de Lenguaje Natural)\n",
        "\n",
        "El procesamiento del lenguaje natural (NLP) es la rama de la Inteligencia \n",
        "Artificial (AI) que se ocupa de la comunicación, es decir, cómo se puede \n",
        "programar una computadora para que “comprenda”, procese y genere un lenguaje \n",
        "como una persona.\n",
        "\n",
        "El procesamiento del lenguaje natural funciona a través del aprendizaje automático (ML). Los sistemas de aprendizaje automático almacenan las palabras y las formas en que se combinan al igual que cualquier otra forma de datos. Frases, oraciones y, a veces, libros completos se incorporan a los motores de LD donde se procesan según las reglas gramaticales, los hábitos lingüísticos de la vida real de las personas o ambos.\n",
        "\n",
        "Las subcategorías incluyen la generación de lenguaje natural (NLG), la capacidad de una computadora para crear comunicación propia, y la comprensión del lenguaje natural (NLU), la capacidad de entender jerga, errores de pronunciación, errores ortográficos y otras variantes en el lenguaje.\n",
        "\n",
        "\n",
        "\n",
        "\n",
        "\n",
        "\n",
        "\n",
        "\n",
        "\n"
      ]
    },
    {
      "cell_type": "markdown",
      "metadata": {
        "id": "zx2F2pFcfqom"
      },
      "source": [
        "# Problema 3\n",
        "\n",
        "1. Utilice expresiones regulares para validar las siguintes situaciones:\n",
        "Implemente una regex para validar un correo electŕonico en general, a continuacion se muestran algunos ejemplos:\n",
        "\n",
        "Guate.360-porelmundo@miguate.com \n",
        "\n",
        "Miercoles3@hotmail.com \n",
        "\n",
        "Progra3.galileo@galileo.edu"
      ]
    },
    {
      "cell_type": "code",
      "metadata": {
        "id": "wawAm0Xr3ZW9"
      },
      "source": [
        "import re"
      ],
      "execution_count": 1,
      "outputs": []
    },
    {
      "cell_type": "code",
      "metadata": {
        "colab": {
          "base_uri": "https://localhost:8080/"
        },
        "id": "dZ5JhmNmgS0h",
        "outputId": "11cdfde5-61bb-4bca-a409-def204acd3a5"
      },
      "source": [
        "def ValidaEmail(email):\n",
        "  regex = r'\\b[A-Za-z0-9._%+-]+@[A-Za-z0-9.-]+\\.[A-Z|a-z]{2,}\\b'\n",
        "  if(re.fullmatch(regex, email)):\n",
        "        return 'Email Valido'\n",
        "  else:\n",
        "        return 'Email Invalido'\n",
        "\n",
        "\n",
        "print (ValidaEmail ('Guate.360-porelmundo@miguate.com'))\n",
        "print(ValidaEmail ('Miercoles3@hotmail.com'))\n",
        "print(ValidaEmail ('Progra3.galileo@galileo.edu'))\n",
        "\n"
      ],
      "execution_count": 7,
      "outputs": [
        {
          "output_type": "stream",
          "text": [
            "Email Valido\n",
            "Email Valido\n",
            "Email Valido\n"
          ],
          "name": "stdout"
        }
      ]
    },
    {
      "cell_type": "markdown",
      "metadata": {
        "id": "W_9Z3CVxixHU"
      },
      "source": [
        "2. implemente una regex para validar la direccion url de una pagina web con los tipos de domino (.com, .org, .edu). Note que la url incluye el protocolo (http o https) y los sımbolos (//www.), a continuacion se muestran algunos ejemplos:\n",
        "\n",
        "https://www.guate360-porelmundo.com \n",
        "\n",
        "http://www.a2.net \n",
        "\n",
        "https://www.galileo.edu \n",
        "\n",
        "http://www.8.org (No valida)\n",
        "\n"
      ]
    },
    {
      "cell_type": "code",
      "metadata": {
        "colab": {
          "base_uri": "https://localhost:8080/"
        },
        "id": "2Hrf2tC6it2B",
        "outputId": "f14bf153-534e-4f27-cea8-4eda8df61aac"
      },
      "source": [
        "def ValidaSitioWeb(sitio):\n",
        "  regex = (\"((http|https)://)(www.)?\" +\n",
        "             \"[a-zA-Z0-9@:%._\\\\-+~#?&//=]\" +\n",
        "             \"{2,256}\\\\.[a-z]\" +\n",
        "             \"{2,6}\\\\b([-a-zA-Z0-9@:%\" +\n",
        "             \"._\\\\+~#?&//=]*)\")\n",
        "     \n",
        "    # Compile the ReGex\n",
        "  p = re.compile(regex)\n",
        "\n",
        "  if(re.search(p, sitio)):\n",
        "        return 'Sitio Web Valido'\n",
        "  else:\n",
        "        return 'Sitio Web Invalido'\n",
        "\n",
        "print (ValidaSitioWeb('https://www.guate360-porelmundo.com'))\n",
        "print (ValidaSitioWeb('http://www.a2.net'))\n",
        "print (ValidaSitioWeb('https://www.galileo.edu'))\n",
        "print (ValidaSitioWeb('http://www.8.org'))"
      ],
      "execution_count": 31,
      "outputs": [
        {
          "output_type": "stream",
          "text": [
            "Sitio Web Valido\n",
            "Sitio Web Valido\n",
            "Sitio Web Valido\n",
            "Sitio Web Valido\n"
          ],
          "name": "stdout"
        }
      ]
    },
    {
      "cell_type": "markdown",
      "metadata": {
        "id": "OJRK8FC9whaM"
      },
      "source": [
        "3. Implemente una regex para validar una MAC Address, notar que las mac addres estan divididas en 6 bloques de caracteres hexadecimales, es decir que los sımbolos solo pueden variar del 0 al 9 y las letras de la A a la F. a continuacion se muestran algunos ejemplos:\n",
        "\n",
        "5A 6F AF 8C 9B 1D\n",
        "\n",
        "6D 6C 4D 3A EB 3F\n",
        "\n",
        "3A 7C FA C8 6D 4J (no valida por que el ultimo bloque contiene una J)"
      ]
    },
    {
      "cell_type": "code",
      "metadata": {
        "colab": {
          "base_uri": "https://localhost:8080/"
        },
        "id": "4EgCd6YmxBrD",
        "outputId": "cd927319-5518-4ff1-fd09-a81e09a20113"
      },
      "source": [
        "def ValidaMacAdress(macadress):\n",
        "  regex = (\"^([0-9A-F]{2}[ -]){5}([0-9A-F]{2})$\")\n",
        "     \n",
        "    # Compile the ReGex\n",
        "  p = re.compile(regex)\n",
        "\n",
        "  if(re.search(p, macadress)):\n",
        "        return 'Mac Address Valido'\n",
        "  else:\n",
        "        return 'Mac Address Invalido'\n",
        "\n",
        "print (ValidaMacAdress('5A 6F AF 8C 9B 1D'))\n",
        "print (ValidaMacAdress('6D 6C 4D 3A EB 3F'))\n",
        "print (ValidaMacAdress('3A 7C FA C8 6D 4J'))"
      ],
      "execution_count": 34,
      "outputs": [
        {
          "output_type": "stream",
          "text": [
            "Mac Address Valido\n",
            "Mac Address Valido\n",
            "Mac Address Invalido\n"
          ],
          "name": "stdout"
        }
      ]
    },
    {
      "cell_type": "markdown",
      "metadata": {
        "id": "7kb9mQzdyIqN"
      },
      "source": [
        "4. Implemente una regex para validar una direccion IPv4, notar que las direcciones IPv4 est ́an divididas en 4 bloques de valores los cuales solo pueden ir desde 0 hasta 255, una ip donde algunos de sus bloques sea mayor a 255 no es valida, ademas tome en cuenta que cada bloque est ́a separada por un punto. A continuacion se muestran algunos ejemplos:\n",
        "\n",
        "192.16.8.1\n",
        "\n",
        "234.56.78.90\n",
        "\n",
        "1.2.3.4\n",
        "\n",
        "192.168.45.345 (no valida por que el ultimo bloque es mayor a 255)"
      ]
    },
    {
      "cell_type": "code",
      "metadata": {
        "colab": {
          "base_uri": "https://localhost:8080/"
        },
        "id": "BkL_RTDe0B1d",
        "outputId": "e949c33e-d0cd-4978-f6a3-bde7c9038593"
      },
      "source": [
        "def ValidaIpAddress(ip1):\n",
        "  regex = \"^((25[0-5]|2[0-4][0-9]|1[0-9][0-9]|[1-9]?[0-9])\\.){3}(25[0-5]|2[0-4][0-9]|1[0-9][0-9]|[1-9]?[0-9])$\"\n",
        "     \n",
        "    # Compile the ReGex\n",
        "  p = re.compile(regex)\n",
        "\n",
        "  if(re.search(p, ip1)):\n",
        "        return 'Ip Address Valido'\n",
        "  else:\n",
        "        return 'Ip Address Invalido'\n",
        "\n",
        " \n",
        "print (ValidaIpAddress('192.16.8.1'))\n",
        "print (ValidaIpAddress('234.56.78.90'))\n",
        "print (ValidaIpAddress('1.2.3.4'))\n",
        "print (ValidaIpAddress('192.168.45.345'))\n",
        "     "
      ],
      "execution_count": 36,
      "outputs": [
        {
          "output_type": "stream",
          "text": [
            "Ip Address Valido\n",
            "Ip Address Valido\n",
            "Ip Address Valido\n",
            "Ip Address Invalido\n"
          ],
          "name": "stdout"
        }
      ]
    },
    {
      "cell_type": "markdown",
      "metadata": {
        "id": "vLDnuBlL1BDI"
      },
      "source": [
        "5. Implemente una regex para validar una fecha con la secuencia dıa-mes-año donde el dıa, mes y año puedan estar separados ya sea por el caracter / o el caracter - o el caracter ., notar que las fechas son validas si los si los d ́ıas est ́an definidos desde el 1 al 31, el mes del 1 al 12 y el año de 2000 al 2019. Tambien debe tomar en cuenta que los d ́ıas y meses pueden estar escritos ya sea con uno o dos caracteres por ejemplo: Enero puede escribirse como 1 o como 01. Los an ̃os tambien pueden expresarse ya sea con dos o con cuatro caracteres por ejemplo: 19 o 2019 son validos. \n",
        "\n",
        "A continuacion se muestran algunos ejemplos:\n",
        "20/1/2019\n",
        "\n",
        "12.03.2005\n",
        "\n",
        "31-11-08\n",
        "\n",
        "1-1-2012\n",
        "\n",
        "12-12-22 (no valida, por que el año supera al 2019)."
      ]
    },
    {
      "cell_type": "code",
      "metadata": {
        "colab": {
          "base_uri": "https://localhost:8080/"
        },
        "id": "MrD2c6C90_Q1",
        "outputId": "cd050bce-77c5-4a9b-8a3b-26b32f21c159"
      },
      "source": [
        "def ValidaFecha(date1):\n",
        "  regex = \"^(0[1-9]|[12][0-9]|3[01])[- /.](0[1-9]|1[012])[- /.]((20)|[00-19])$\"\n",
        "     \n",
        "    # Compile the ReGex\n",
        "  p = re.compile(regex)\n",
        "\n",
        "  if(re.search(p, date1)):\n",
        "        return 'Fecha Valida'\n",
        "  else:\n",
        "        return 'Fecha Invalido'\n",
        "\n",
        " \n",
        "print (ValidaFecha('12.03.2005'))\n",
        "print (ValidaFecha('31-11-08'))\n",
        "\n",
        "     "
      ],
      "execution_count": 46,
      "outputs": [
        {
          "output_type": "stream",
          "text": [
            "Fecha Invalido\n",
            "Fecha Invalido\n"
          ],
          "name": "stdout"
        }
      ]
    }
  ]
}