{
  "nbformat": 4,
  "nbformat_minor": 0,
  "metadata": {
    "colab": {
      "name": "ProyectofinalSL2INDEX.ipynb",
      "provenance": [],
      "authorship_tag": "ABX9TyMZH3C/MfeV2Ne5fTxIoxEx",
      "include_colab_link": true
    },
    "kernelspec": {
      "name": "python3",
      "display_name": "Python 3"
    },
    "language_info": {
      "name": "python"
    }
  },
  "cells": [
    {
      "cell_type": "markdown",
      "metadata": {
        "id": "view-in-github",
        "colab_type": "text"
      },
      "source": [
        "<a href=\"https://colab.research.google.com/github/JS-DS-coder/CienciaDeDatos2021/blob/SL2/ProyectofinalSL2INDEX.ipynb\" target=\"_parent\"><img src=\"https://colab.research.google.com/assets/colab-badge.svg\" alt=\"Open In Colab\"/></a>"
      ]
    },
    {
      "cell_type": "markdown",
      "metadata": {
        "id": "TiTcJe-p-FaC"
      },
      "source": [
        "# Proyecto Final \n",
        "# Statistical Learning II\n",
        "Jairo O. Salazar\n",
        "Carnet:\n",
        "\n",
        "Set de datos, poster y Paper: \n",
        "\n",
        "https://drive.google.com/drive/folders/1rZccmCOakc_T2O-JBJ2Rz_BkWhIjSLUP?usp=sharing"
      ]
    },
    {
      "cell_type": "markdown",
      "metadata": {
        "id": "qhEOL6EY-Lc2"
      },
      "source": [
        "\n",
        "\n",
        "[Heart Failure Prediction (NN)](https://github.com/JS-DS-coder/CienciaDeDatos2021/blob/SL2/proyecto_final_SL2_problema_1.ipynb)\n",
        "\n",
        "[HeartBeat Sound Clasification (CNN y RNN)](https://github.com/JS-DS-coder/CienciaDeDatos2021/blob/SL2/ProyectofinalParteSL2.ipynb)\n",
        "\n",
        "\n",
        "\n"
      ]
    }
  ]
}