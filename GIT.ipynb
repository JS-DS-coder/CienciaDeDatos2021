{
  "nbformat": 4,
  "nbformat_minor": 0,
  "metadata": {
    "colab": {
      "name": "Untitled0.ipynb",
      "provenance": [],
      "collapsed_sections": []
    },
    "kernelspec": {
      "name": "python3",
      "display_name": "Python 3"
    }
  },
  "cells": [
    {
      "cell_type": "markdown",
      "metadata": {
        "id": "KpnQOiOZ4iSz"
      },
      "source": [
        "# ***Git y Control de Versiones***\n",
        "\n",
        "Jairo O. Salazar\n",
        "21000887"
      ]
    },
    {
      "cell_type": "markdown",
      "metadata": {
        "id": "ybAHBQ4q4uP3"
      },
      "source": [
        "# **GIT**\n",
        "\n",
        "GIT es una herramienta que permite llevar un control de versiones sobre codigo fuente u otras colecciones de archivos, ofreciendo las siguientes bondades:\n",
        "\n",
        "\n",
        "> - Registro de los cambios efectuados sobre cada archivo.\n",
        "- Almacenamiento de versiones anteriores de los archivos.\n",
        "- Permite la colaboración entre equipos de desarrollo.\n",
        "- Almacenamiento de Metadata asociada al cambio.\n",
        "- Permite regresar a alguna version anterior del codigo y crear una version paralela que luego puede ser integrada a una una nueva version.\n",
        "\n",
        "# **Estructura del GIT**\n",
        "\n",
        "> GIT denomina a cada archivo un blob, que en su definicion mas básica en un arreglo de bytes. A cada directorio, lo denomina un arbol (Tree), el mismo es una colección de blobs o de otros Trees (anidados).\n",
        "\n",
        "> Luego de efectuar un cambio en algun archivo o programa, que se desea subir al repositorio se debe de efectuar un COMMIT. Esto sube al archivo y crea una nueva version que apunta a la anterior, guardando metadata del cambio como el autor, alguna observacion o comentarios del cambio. Esta es la tercera estructura que guarda el GIT.\n",
        "\n",
        "# **Control de Versiones**\n",
        "\n",
        "> El control de versiones nos permite a partir de un directorio, ir efectuando \"salvado\" (commit) de versiones a partir de una version inicial (o base). Cada archivo (o blob) apunta a su version padre (o versiones padres) indicando ademas quien efectuo el cambio salvado, cuando se efectuo y comentarios adicionales al mismo.\n",
        "\n",
        "> Lo interesante del Control de Versiones de GIT, es la forma en que permite generar versiones paralelas (branches) y luego permite hacer una nueva version integrada de los cambios (merge).\n",
        "\n",
        "\n",
        "![GIT.jpeg](data:image/jpeg;base64,/9j/4AAQSkZJRgABAQEAoACgAAD/2wBDAAgGBgcGBQgHBwcJCQgKDBQNDAsLDBkSEw8UHRofHh0aHBwgJC4nICIsIxwcKDcpLDAxNDQ0Hyc5PTgyPC4zNDL/2wBDAQkJCQwLDBgNDRgyIRwhMjIyMjIyMjIyMjIyMjIyMjIyMjIyMjIyMjIyMjIyMjIyMjIyMjIyMjIyMjIyMjIyMjL/wAARCAIIBIgDASIAAhEBAxEB/8QAGwABAAIDAQEAAAAAAAAAAAAAAAUGAwQHAgH/xABLEAABAwMBAwkDBwsCBgEFAQAAAQIDBAURBhIhQRMWMVFVYXGU0QcigRQ2U3SRo7IVIzI3dYKTobHBw0JyJDM1UmLwJSZDc6Lh8f/EABoBAQADAQEBAAAAAAAAAAAAAAABAwQCBQb/xAAnEQEBAAMAAgIBBAMBAQEAAAAAAQIDEQQxEiFhEyJBUQUUMpFxsf/aAAwDAQACEQMRAD8A7+AAAAAAAAAAAAAAAAAAAAAAAAAAAAAAAAAAAAAAAAAAAAAAAAAAAAAAAAAAAAAAAAAAAAAAAAAAAAAAAAAAAAAAAAAAAAAAAAAAAAAAAAAAAAAAAAAAAAAAAAAAAAAAAAAAAAAAAAAAAAAAAAAAAAAAAAAAAAAAAAAAAAAAAAAAAAAAAAAAAAAAAAAAAAAAAAAAAAAAAAAAAAAAAAAAAAAAAAAAAAAAAAAAAAAAAAAAAAAAAAAAAAAAAAAAAAAAAAAAAAAAAAAAAAAAAAAAAAAAAAAAAAAAAAAAAAAAAAAAAAAAAAAAAAAAAAAAAAAAAAAAAAAAAAAAAAAAAAAAAAAAAAAAAAAAAAAAAAAAAAAAAAAAAAAAAAAAAAAAAAAAAAAAAAAAAAAAAAAAAAAAAAAAAAAAAAAAAAAAAAAAAAAAAAAAAAAAAAAAAAAAAAAAAAAAAAAAAAAAAAAAAAAAAAAAAAAAAAAAAAAAAAAAAAAAAAAAAAAAAAAAAAAAAAAAAAAAAAAAAAAAAAAAAAAAAAAAAAAAAAAAAAAAAAAAAAAAAAAAAAAAAAAAAAAAAAAAAAAAAAAAAAAAAAAAAAAAAAAAAAAAAAAAAAAAAAAAAAAAAAAAAAAAAAAAAAAAAAAAAAAAAAAAAAAAAAAAAAAAAAAAAAAAAAAAAAAAAAAAAAAAABFX+6LZLDW3RIeWWlhdLye1s7WOGcLgCVBRV1dqWC1tulTpFq0HJJO98FxY57Y8bSu2FamcJwyWm23Wkudqo7jDI1IKtjXR7aoi5cn6Pjwx3ASIMCVELmOkSaNWMVUc5HJhF714Cnqqerj5SnnjmZnG1G9HJnxQDODWkraaFu1JUwsbtbGXSIibXV49xsZTGeAH0GGKeGdFWGVkiJuVWORcfYV3SmpnXmxsrLlJTQTSVMsDGtXYR2y5URERyqqruAtAAAAAAAAAAAAAAAAAAAAAAAAAAAAAAAAAAAAAAAAAAAAAAAAAAAAAAAAAAAAAAAAAAAAAAAAAAAAAAAAAAAAAAAAAAAAAAAAAAAAAAAAAAAAAAAAAAAAAAAAAAAAAAAAAAAAAAAAAAAAAAAAAAAAAAAAAAAAAAAAAAAAAAAAAAAAAAAAAAAA8bTdrZym104zvCuRuMqiZXCZA9lc178wr59Uf/QsZHXm2R3qy1dsmkdHHUxLG57MZRF4pkCjs07q+46Qgp49SwLTz0bG/J/kaRq5isT3OUyqpu3bWCHvlTS6g9nOkGUMUlvifd4KVrGSbToVakjMo7iu7KKW+PRFV8iSil1Ze1pmsSNI4nxx+6iYxlGZ6O83KjRtsltVotlNt0tNa6yOrhZGucuarlwqr1q5VXiBBaqpdPWO12myMtNRM2oq0fTW2lcjW1Ejcf8xXdLd6Zz3Z6N0ZZllt3tXo6dLHSWRaq3yJLTU07ZGyNRVVr1RrWo1ctVPgpd9Q6egvbqKpWsmoa2hkV9NVQq3aYrkwqKjkVFRd2U7iMi0RQR3Sluy3i4PusEjnurHzMc6RqphWKit2UZjOERExlQIHRemrTeZ9TVF0o46xzbzVQRpOm02NuUVVai7mqqu6U37kIemqKh/s403aJJpfktTe0t1Q5HK1Xwco/LFVN6ZTdu4Jg6hYbBBYWXBIZpJPltbJWv28e65+MomOG4jGaFtvNd1illnfCs7qhkzVRskUiuVyOaqJuVFUDNT6Ts1rvVJXW1q2+Vkbo1gpnNZHUtx/9xuPeVvSi9OenJS9G6Us9x0Zc62uoo6qeaWpa2SVu0sTWquEZn9HflcpvypcrZpFlFdYLnW3SvulZTxLDTuqnNxE1elURET3lTcrlXKm5ZNOwWSxyWqGaWSKR0jle/GU21VV6PEDQ9ndRPVez+zSVKo6TkNjKf8Aa1ytb8dlELURdgs8VhslLa4JXyxUzdlr34yu9V348SUAAAAAAAAAAAAAAAAAAAAAAAAAAAAAAAAAAAAAAAAAAAAAAAAAAAAAAAAAAAAAAAAAAAAAAAAAAAAAAAAAAAAAAAAAAAAAAAAAAAAAAAAAAAAAAAAAAAAAAAAAAAAAAAAAAAAAAAAAAAAAAAAAAAAAAAAAAAAAAAAAAAAAAAAAAAAAAAAA5JfYbhSe0W96jtjnPmtENM+amTongc13KN8URqKnh14JnWVfTXSl0ZXUcqSU899pHxuTii5/n1oS1oglZ7QdSyviekUkFIjHq1dl2GvzheOCk3uy3Ox6qstoo6SWaxSXqC4UzmMVyUq7WJI1xuRuXbSdCInXvAuVVqO8V2oqyz6eoKSV1A1i1VTWzOZG1zkyjGo1FVVxnf8A+rp8/KiK2Pqaq2JBVUdxio7lC+XLYWPXCStcie8m9MfHxWBuFjttt1zd6jUVruM9vuDmS0tVSLOrWOxhzXpG7OVXGNy9HAlqDTFsr9Iagit9jqbatwY6NnyySR0kyszyb1a9VVqbS7k6f5ATN21ctr1fbrN8l5SCo2EnqNr/AJLpFc2NMd7mqnxQ3aO/PrdX3GzRQtWC308T5ptpdrlJMq1uOrZTOSjUNLc77ozUV9qKSogukywSQRvYu1mmYxzdlOne9H+OS06DjnmttfeKuCSCputbJUcnK3D440XYY1U7kb/MCO9qMVNPTachrEYtNJe4GzI9cN2FRyOyvBMZM0Wl/Z2k0awwWpZUcmwjarK54Y949e0WgdcU03AtKtTCt7p+XZye23k/eR20n/bhd+dxNx6Q01FKyWKwW1kjHI5rm0rEVFToVNwEXVajvFdqKss+nqCkldQNYtVU1szmRtc5MoxqNRVVcZ3/APq5rPque4Wq5y1Frljulse6OehidyivciZbsKib0dwXx4byn3Gx22265vFTqG13Cot9wcyWlq6RZlax2MPa9I3Zyq4xuXo4G462SU2hL/VaVslwtVbUuRrOVkldUTsY79JrXKrmqrVfhOn+QEvLqjUFpdbqi92ejhoa+ojp05Cpc6Wmc/o5RFaiLv6cKYJbjfne1xKCFadaRlsSTkX1D0byazNR0mEbjlOCJ0Y4lOulmoZaChqtPadu09TQzQz1lbUQSJJKjVw5iI7e9+d67KYRGlxlllp/ahQ3laKsfQV9pSljkjpnqrHrKjvziYyxMKn6WMfBQJ7TF/ff23V0lO2H5DcZqJuy7O2jNn3l6lXPQQFb7Q5aLSFvvzraki1NwWjfCx6qqNR0iZbu3r7nR3mtYrhUaVrdQ26otNyqKuqus1XRpBTOcydsmzjD/wBFuMe8qqiIRNNaq+b2d6VhqKWXl4r+yWePk1yiLNIirhOhPeznowBaa7VV6tlBSR1lmhW83GqWGjoYanKbKNRVc9+N2MrnHd3mak1HeKPUNFZtQ0FJFJXse6lqaKZz43OYmXMVHIiouOPQRvtHskldPY7otBU19Jb53pV01MrklWN6Ny5uyqKuNnoRePVkxWC16bqNRUU1p09dPzDXSrXVTqhjIXYwjUSRcOcuVzjo/oHRgAAAAAAAAAAAAAAAAAAAAAAAAAAAAAAAAAAAAAAAAAAAAAAAAAAAAAAAAAAAAAAAAAAAAAAAAAAAAAAAAAAAAAAAAAAAAAAAAAAAAAAAAAAAAAAAAAAAAAAAAAAAAAAAAAAAAAAAAAAAAAAAAAAAAAAAAAAAAAAAAAAAAAAAAAAAAAAAAAAAAAAAAAAAAAAAAAAAAAAAAAAAAAAAAAAAAAAAAAAAAAAAAAAAAAAAAAAAAAAAAAAAAAAAAAAAAAAAAAAAAAAAAAAAAAAAAAAAAAAAfAa9XV09BTSVNVMyGCNMue9cIhzu4a+ud2qH0umaXZiTc6smbv8AFEXcnxyq9SHOWUxnai3n3XSJZI4GLJLI2NidLnuRET4qRL9V6eiXDrzQr/tma7+hzddNTXCRJ71c6mrm6cba4TrRFXh4YNxmmbPGmEo0Xvc9y/3MuXm656+1V3YxfGas09KuG3mhT/dM1v8AUlopY52JJFI2Ri9DmORUX4octfpmzyJhaNE72vcn9zTTTU1vkWey3OppJunG2uF6kVU4eORj5mu+/om7GuxA5nb9fXO01DKXU1LtRLubWQt3+Kom5fhhU6lOiUlXT19NHU0szJoJEy17FyimrHKZTsWy9+42QAdJAAAAAAAAAAAAAAAAAAAAAAAAAAAAAAAAADWq6unoaWSpqpmQwRplz3rhEA2DHLLHBGsksjY2J0ue5ERPipz2q1reL/Uvo9KUezC3c+tnb0d6Iu5PjlV6kMcWgX10iVGoLvVVs/Tstf7retMuyuPBEKdm/DX7rrHC1cH6s0/EuHXqhVf/ABma7+gZqvT8q4beqFF/8pmt/qQkWh9OxNwlta7PF8j3f1US6H07K3C21rccWSPb/RSj/dw/p3+lVxiljnjSSKRsjF6HMciovxQyHNZdAvoZFqNP3eqop+nZc/3XdSZbhceKKZKXWt4sFSyj1XR7ULtzK2BvT3qibl+GFTqUv178NnquMsLHRwa1JV09dSx1NLMyaCRMtexcopslzkAAAAAAAAAAAAAAAAAAAAAAAAAAAAAAAAAAA+GvV1dPQ0slTVSshgjTLnvXCIc8r9eXO71D6XTFLsxN3OrJm7/FEXcnxyq9SEyW3kRbJO10eWWOBiySyMjYnS57kRE+KkTJqzT8S4deaFV/8Zmu/oc75rTV8qT3u51NZN0421w3rRFXO7wwbselrNGmEomr3ue5f7l88bOs+XlYT19rvHqzT8q4beaFF/8AKZrf6ktFJHOxJIpGSMXocxyKi/FDmUmlrNImFomp3te5P7mlzWmoJVnslzqaObpxtrh3UiqmN3jkXxs4Y+Vhff068fTmdBry52eoZS6npdqJ25tZC3f4qibl+GFTqU6HSVdPXUsdTSzMmgkTLXsXKKUWWXlaJZZ2NkAEJAAAAAAAAAAAAAAAAAAAAAAAAAAAAAAAAAAAAAAAAAAAAAAAAAAAAAAAAAAAAAAAAAAAAAAAAAAAAAAAAAAAAAHw16urgoaSWqqZEjgiarnvdwRDYOZ6+uM13vVNpilfsxNxLVuT7URfBN/eqp1HOVmM7UW8+6i62trdd3JZplfT2WBypFCi4V69a9/fw6E4qTkEEVNC2GCNscbUwjWpuQQQRU0DIIWIyNibLUTghkPF378tmX4Y887lQAGdWAADHPBFUwuhnjbJG5MK1yblIOira3QlySaFX1FlnciSwquVYvWnf38eheClgMc8EVTA+CZiPjemy5F4oaNG/LXl+HeGdxq+UlXBXUkVVTSJJBK1HMe3iimwcz0DcZrReqnTFU/aidmWkcv2qieKb+5UXrOmHtY5TKdjbL37j6ADpIAAAAAAAAAAAAAAAAAAAAAAAAAAAAA1qurgoaSWqqZEjgiarnvXgiHNGtrvaLc1qalZKaw071SKJFwsi9fj1rw6E4qbutaqe/6hpNKUcithTE1Y9vDiiL4Jv71cnUWykpYKKlipaaNI4Ymo1jU4IZPK3/pz44+6t14d+6UtJBQ0zKaliZFCxMNYxMIhmAPKt60AAIAw1VJBXUz6aqiZLC9MOY9MopmBMvBQHNrvZ1c0qaZZKmw1D0SWJVysa9fj1Lx6F4KdLpKuCupIqqmkSSCVqOY9OKKRtXSw1tLLS1MaSQytVr2rxQqeiqqewahq9KVkiuhXM1G93HiqJ4pv7lavWer4u/8AUnxy9xm2Yc+46OADWrAAAAAAAAAAAAAAAAAAAAAAAAAAAAAA1qurgoaSWqqZEjgiar3vdwRDYOaa9r5rxeqbTFK/ZibiWrcnX0oi+Cb+9VTqJktvIi2SdqMqqqt15clnnV9PZYHqkUKLhXr1r39a8OhOKlhp6eGlgbDBG2OJqYRrUwiHynp4qWnjghYjI402WtTghlPR1aphPy8rbtuy/gABapAABjqKeGqgdDPG2SJyYVrkyilepaqt0HckngV9RZZ3oksKrlWL1p39S8eheCllMVRTxVVPJBMxHxyJsuavFCrbqmc/K7Vtuu/hdqSrgrqSKqppEkglajmPbxRTZOZ6Cr5rPeqnTFU/aidmWkcvX0qieKb+5UXrOlnnWcvK9WWWdj6ACEgAAAAAAAAAAAAAAAAAAAAAAAAAAAAAAAAAAAAAAAAAAAAAAAAAAAAAAAAAAAAAAAAAAAAAAAAAAAAAAAAAAwyzMghfLIuyxjVc5epETKnItNK+4VNwvU6fnqqZ2M78JnKoi9W9E/dOkatk5LSV2VONLI37Ux/coemWJHp6kROKK5fi5TH5mXNfP7U7rzFLHxy7LVXCrhM4TpU+g8hkadrudNd6BlZSq5Y3KqYemHIqLhUVOB5kutNHeIbWu26pljWXDW5RrU4qvDemCItSJaNV3G2rugrE+WwdSO6Hp9uFx1HzTLfyjcLlf3b21EiwUy9UTFxlPFUz8C665O3+Hfxn3VkkljhidLK9rI2JtOe5cIidaqRtp1BQXuaqjoXvf8nVqOcrcIu1nCp19Cm/UU8NXA6CoibLE7G0x6ZRd+d6FesKI3WGpmtREai0yIicPcU5xxxuNt9xEksqzAAqcq7qVX2+pt96gT89SzNzjdlM5RFXq3Kn7x16KVk8LJY12mPajmr1ou9DlupmJJp6rReCI5Pg5C1WXUdptmkbU+4XCCFzaSNNhXZfhGon6Kb16Oo9jwsu6+X+GvTe4raDnFz9rFDFllsopahyLjlJl2G+KImVX44MmjddSXWor33yuoaRjUj5FiubE3K7W1jaXK8OJsXOhgiuc1h7btvm4/Uc5rD23bfNx+oEqCK5zWHtu2+bj9RzmsPbdt83H6gSoIrnNYe27b5uP1HOaw9t23zcfqBKgiuc1h7btvm4/Uc5rD23bfNx+oEqCK5zWHtu2+bj9RzmsPbdt83H6gSoIrnNYe27b5uP1HOaw9t23zcfqBKgiuc1h7btvm4/Uc5rD23bfNx+oEqCK5zWHtu2+bj9RzmsPbdt83H6gSoIrnNYe27b5uP1HOaw9t23zcfqBKgiuc1h7btvm4/Uc5rD23bfNx+oEqYpZWQQvlkXZYxqucvUiJlSP5zWHtu2+bj9SK1JqG0S6ZucVNdqCaaSlka2NlSxznZaqbkRd4Fe0DE+vlumoKhPz9ZOrW537Lf0lRF6sqifulsuVfFa7bUV87JHQ07FkekaZdsp0rjuTeRGiYki0fb0TftNc5fi5VJ+SNksb45Go5j0Vrmr0Ki9KHi7svlttv8AbThOYxioqyG4UNPWUztqGeNsjF60VMoalLe6SsvdbaoEkdPRNY6d2z7jVcmWpnrx/RStaWr2adtd8tFdIqtsUj3sVVyrqdyK9i969KfYhvaCoJYNPrcatP8AjbrK6tmXq21y1PDZxu4ZUi4Sdv8A46l6nrhcaO1UUlXX1EdPTxp7z3rhPBOte5N5rWK+0WoretbQ8pyKSOj/ADjdlcp07vibdTRUtasPyqnjm5GRJY0kblGvRFRHJ3plStez3/o1y/alR+JDmYy4W/ydvVu6EIOg1baLpfZbPQ1Cz1EUayOexuY8IqIqI7iuVTo3E09jZI3MemWuRUVOtFKXDTQUftap6emhjhhjsOGRxtRrWpyy9CIMMZZelq7FJ19E6glteoKdv5+jnRrsbtpv6SIq9WUVP3i7KV7W8SS6Pr0Xdsta5Pg5FOtGXx2QzncVxilZPCyWNdpj2o5q9aKmUMpUrLqS02zSNqdcLhBC5tJGmwrsvwjUT9FN69HUQtz9rFDFllsopahyLjlJl2G+KImVX44PbZHRwc80brqS61Fe++V1DSMakfIsVzYm5Xa2sbS5XhxLdzmsPbdt83H6gSoIrnNYe27b5uP1HOaw9t23zcfqBKgiuc1h7btvm4/Uc5rD23bfNx+oEqCK5zWHtu2+bj9RzmsPbdt83H6gSoIrnNYe27b5uP1HOaw9t23zcfqBKgiuc1h7btvm4/Uc5rD23bfNx+oEqCK5zWHtu2+bj9RzmsPbdt83H6gSoIrnNYe27b5uP1HOaw9t23zcfqBKgiuc1h7btvm4/Uc5rD23bfNx+oEqCK5zWHtu2+bj9RzmsPbdt83H6gSoIrnNYe27b5uP1HOaw9t23zcfqBvyysghfLIuyxjVc5epETKnJtLbdfUXG9zp+eqp1xnfspnKoi9W9E/dLpqTUNol0zc4qa60M0slLI1scdSxznZaqbkRd5WNLRpHpukROKOcvxcpo8adzZvKy5hz+0hXVkdvoJqyVr3RQsV70YmV2U6VPVLUxVtJDVQO2opmI9i9aKmUMj2NkjdG9qOY5Fa5F6FRSq6erG2S33a21b1Vtoe57VXeqwORXt8V6U+xDbcuX8PPmPZ+U9T3amqrrV26LbdNStasrse63aTKJnrx/QzVtdS26lfU1k7IYWdL3rj4d69xDaOo5IbMtdUp/wAXcZHVUvdtb2p4Yx9qk3UUlPVcl8ohZLyT0kZtpnZciKiL471EtuPTKSZca1ovFLe6Jauj5TkkerPfbsrlOncbznI1qucqIiJlVXgVvRX/AEyu/aE/4ixSxsmifFKxr43tVrmuTKKi9KKMbbOmcky5EC3WlqcrHo2rSle5GpWOpnJDlVxjaVCwlXviQ3KmXS9sY3aVGNnVjfcpYkVF38NpUTc3p47uks7URrUROCYIxttvU5ySSxW9U7dBUW69wJ+epZ0zjdtJnKIq9W5U/eOsxSsnhZNGu0x7Uc1etFTKHM9UxpJpurReCNcnwchZbLqO02zSNqdcLhBC5tJGmwrsvwjUT9FN69HUYvJnM2/xcu4c/pbQc4uftYoYsstlFLUORccpMuw3xREyq/HBk0brqS61Fe++V1DSMakfIsVzYm5Xa2sbS5XhxKGl0MEVzmsPbdt83H6jnNYe27b5uP1AlQRXOaw9t23zcfqOc1h7btvm4/UCVBFc5rD23bfNx+o5zWHtu2+bj9QJUEVzmsPbdt83H6jnNYe27b5uP1AlQRXOaw9t23zcfqOc1h7btvm4/UCVBFc5rD23bfNx+o5zWHtu2+bj9QJUEVzmsPbdt83H6n1NSWJVwl6tyr9aZ6gSgMbHtkY17HI5rkyjmrlFQyAAAAAAAAAAAAAAAAAAAAAAAhuclp5xrYPlWLnscpyKsdvTGdzsYXdvxkmTk2oYHw601BfqdjnVVmShq0RvS6LZekrfBWKv2AdJu11o7LbJrjXzcjSwoivfsquMqiJuTeu9UMtDWQXCgp6ymer4KiNskbsKmWuTKLhd6biia9qGX6egs1M9JKZKSW7VLmruWNjV5LxRz1/kR9fqSazaK0bbobi22flClZytese3yMbI2quE61VyInxA6sDl1l1TBTaztltt+p573b69skcrKpEWSne1u01yORqZR29McDd0pU3y7XS811depW2223OoiZTsjbmRG78OdjOyiK3CJ3gdEBy+0S6nvOkptWsvs8dXI2Want6QsWBGMc7EapjK52dzsou9Ok1KrWlxg0XpVk13Sjqbsr1qblJGj1jjYvvKiYxlctRN3qB1sHLbNqmCl1lbLbbdTT3u316SRytqkRZKd7Uy1yORrcou9McPsOpAAAAAAAAAAAAAAAAAAAAAAAAAAABCatj5XSV2ROFLI77Ez/YoemXpJp6kVOCK1fg5TqMsLJ4XxSJtMe1WuTrRUwpyLTSPt9TcLLOv56lmdjO7KZwqonVuRf3jH5uPdff6U7p3FYgAeOyILUtjnvEED6KobTVkDnbEqp/pc1WuT4ov8iVoKOO32+Cji/5cMaMTvwnSbAO7nbjMf4T284165Kx1I9KB0LandsrOiqzp35RN/RkrlFZtR0d0rK9Kq2K+sWNZkWN+ERqYTZ37tylrBOOdxlkTMufQACtyidTPSPT1Wq8URqfFyFqsunLTc9I2plwt8EznUka7atw/CtRf0k3p09ZSdSo+4VNvssC/nqqZucb8JnCKqdW9V/dOvRRMghZFGmyxjUa1OpE3Iex4WPNfb/LXpnMXPbn7J6GXL7ZWy07lXPJzJtt8EVMKnxyZNG6FktVRXsvlDQ1bHJHyL1a2VuU2trG0mU4cDoYNi5Fc2bD2JbfKR+g5s2HsS2+Uj9CVAEVzZsPYlt8pH6DmzYexLb5SP0JUARXNmw9iW3ykfoObNh7EtvlI/QlQBFc2bD2JbfKR+g5s2HsS2+Uj9CVAEVzZsPYlt8pH6DmzYexLb5SP0JUARXNmw9iW3ykfoObNh7EtvlI/QlQBFc2bD2JbfKR+g5s2HsS2+Uj9CVAEVzZsPYlt8pH6DmzYexLb5SP0JUARXNmw9iW3ykfoObNh7EtvlI/QlQBFc2bD2JbfKR+g5s2HsS2+Uj9CVAEVzZsPYlt8pH6ETqTTtoj0xdJKa1UMM0dNI9skdOxrm4aq7lRC1mKWJk8L4pE2mParXJ1oqYUCnaHlSXR9Aqbtlrmr8HKhYSk6BldQS3TT9Qv5+jnVzc7tpv6KqidWURf3i7KeJvx+OyxqwvZFP1ToyW/3emq6erbTwvjSCvZhczwo9r0anUuUXf4FvREaiNRERE3IiH0FdztkldSRG3dl5fBGlmloo5dr31q2Oc1W44bKpvyV/TFh1LYpVhmrLXLRS1D55kZHJymXb12VzhN+OkuQJmdmPDn31FRQ3pi3RZKqlkV6qtAisVEi3LhH43rvx0FaXT2sV1G2+/LrL8rbS/JNnkpNjY2troznOe8vOT6TjssLiw0yTpSwpVLG6oRjeVWNFRivxv2c78ZzghNbSpFo+4Ku/aa1qfFyIWEpOvpXV8trsFOv5+snRzsb9lv6KKqdWVVf3TvRj8tkc53mNT1l03abnpG1NuFvgmc6kjXbVuH4VqL+km9OnrIW5+yehly+2VstO5VzycybbfBFTCp8cnQoomQQsijTZYxqNanUiJhDKe0yueaN0LJaqivZfKGhq2OSPkXq1srcptbWNpMpw4Fu5s2HsS2+Uj9CVAEVzZsPYlt8pH6DmzYexLb5SP0JUARXNmw9iW3ykfoObNh7EtvlI/QlQBFc2bD2JbfKR+g5s2HsS2+Uj9CVAEVzZsPYlt8pH6DmzYexLb5SP0JUARXNmw9iW3ykfoObNh7EtvlI/QlQBFc2bD2JbfKR+g5s2HsS2+Uj9CVAEVzZsPYlt8pH6DmzYexLb5SP0JUARXNmw9iW3ykfoObNh7EtvlI/QlQBFc2bD2JbfKR+g5s2HsS2+Uj9CVAEVzZsPYlt8pH6DmzYexLb5SP0JUAVTUmnbRHpm5y01qoYZo6aR7ZI6djXNw1V3KiFY0tIkmm6RU4I5q/BynTJYmTwvikTaY9qtcnWiphTk2ltugqLjZJ1/PUs64zu2kzhVROrci/vGjxrzNm8rHuHf6WUrOodLSXm5QVENSkMT2JDWM4yxo5HIidS5Rd5ZgbssZlOV52OVxvY+IiIiIiYRNyIaVzbc3Qs/JclKyTa99alrnJju2V6TeBPP4RLy9ViwWe/WiRYpam3yUkk7ppUax+3l3ThejpJVILtsXJHVUCrJn5H7uOS3Lja69+CSBzMJJx1c7b1UbVZdS2ehbS0tRaNnKuc98cive5elzlzvUtVOkyU8SVCsWfYTlFjRUarsb8Z4ZMgGOMnoyyuX3UPqmRI9N1arxRrU+LkLLZdOWm56RtTbhb4JnOpI121bh+Fai/pJvTp6ym6p26+ot1kgX89VTpnG/ZTOEVU6t6r+6dZiiZBCyGNNljGo1qdSImEMPk3ub0PFx5h3+3Prn7J6GXL7ZWy07lXPJzJtt8EVMKnxyetH6Dfa6ivZfKGiqmuSPkXqiSNz721jKZThwOigoaURzV0/wBiW/y7fQc1dP8AYlv8u30JcARHNXT/AGJb/Lt9BzV0/wBiW/y7fQlwBEc1dP8AYlv8u30HNXT/AGJb/Lt9CXAERzV0/wBiW/y7fQc1dP8AYlv8u30JcARHNXT/AGJb/Lt9BzV0/wBiW/y7fQlwBEc1dP8AYlv8u30HNXT/AGJb/Lt9CXAERzV0/wBiW/y7fQ+LpXT6oqLZaDf1U7fQmABTLDDzf1jWWCne5bfNSpW08TlVeRXa2XIirwVcr8PtuZVH/rWZ+xv8ylrAAAAAAAAAAAAAAAAAAAAAABXKSxzN1Xfq2qZE+iuEEETW5yrtlrkcip1e8WMAUHTejbhabRe4auobUVVRCtFSPV2dmnYxWxIu7cvvLlPA9VmkLm7T+mH0M1PHe7FGxI+VVyxSe4jXsVU34XZTf3Y3Zyl8AFbtrtUVVzjmuUdDQ0McbkdTwSLM+V+7Cq5WojWpv3Jv37+7HpKxVVmgvcVckapW3SeqjRjs5jejcZ79y7i0ADk1FRXq16LuloorvZZbDTJPH+UGyudNExdpXtVqbuU97dvTGeO42rZpe412hdI11ukhgu1tb8op0qEXk5GP3q12N6ZTZ3/DjlLbX6I01cri64VlohlqXLtPcquRHr/5NRcO+KKT7Wo1ERERERMIiAV63O1TPcoprnHQUVDHG5H09PIsz5XrjCq5WpstTeu7K9ZZAAAAAAAAAAAAAAAAAAAAAAAAAAAAA+HM9fW6a0Xqm1PSs2onYiq2p9iKvim7uVE6zphr1dJBXUktLUxpJBK1WvY7iinOUmU5UWd+qocE8VTAyeF6Pjem01U4oZCv1tFW6EuSwzI+oss7lWKZEyrF6l7+7j0pxQnIJ4qmFs0EjZI3JlHNXcp4u/Rlry/DHnhcayAAzqwAADHPPFTQPnmejI2JtOVeCCeeKmhdNPI2ONqZVzl3IQdFRVuu7kkMKPp7LA5FlmVMK9epO/u4dK8ENGjRlsy/DvDC5VKaBt013vVTqeqZsxNzFSNX7FVPBN3eqr1HTDXpKSChpIqWmjSOCJqNYxvBENg9rHGYzkbZOfUfQAdJAAAAAAAAAAAAAAAAAAAAAAAAAAAAAHONa0s9g1DSaro41dCuIaxjePBFXxTd3K1OstlJVQVtLFVU0iSQytRzHJxQkqukgrqSWlqY0kglarXsXiinNGurvZ1c1pqlJKmw1D1WKVEysa9Xj1px6U4oY/K0fqT5Y+4t158+qv4MNLVwV1MyppZWSwvTLXsXKKZjy7ONAACAAMNVVwUNM+pqpWRQsTLnvXCITJ0KuqgoqWWqqZEjhiarnuXghU9FUs9/1DV6rrI1bCmYaNjuHBVTwTd3q5eo0nOrvaLc0pqZJKaw070WWVUwsi9Xj1Jw6V4IdLpKSChpIqWmjSOCJqNYxOCIer4uj9OfLL3WbZn36jZABrVgAAAAAAAAAAAAAAAAAAAAAAAAAAAAD4c017QTWe9U2p6Vm1E7EVW1OvoRV8U3dyonWdMNarpIK6klpamNJIJWqx7HcUUmWy9iLJZyqTT1EVVTxzwvR8cibTXJxQylaq6Wt0FclgnR9RZZ3qsUyJlWL1L39acelOKFhp6iGqgbNBI2SJyZRzVyinpatszn5eVt1XXfwyAAsUgAAGKoqIqWnknmejI402nOXgh9qKiGlgdNPI2OJqZVzlwiFepaWt15ckggR9PZYHossyphXr1J39ScOleCFW3bMJ+V2rVdl/CT0FQTXi9VOp6pmzE3MVI1evoVU8E3d6qvUdLNekpIKGkipaaNI4Imo1jG8EQ2Tzre3terJJOQABCQAAAAAAAAAAAAAAAAAAVR/wCtZn7G/wAylrKo/wDWsz9jf5lLWAAAAAAAAAAAAAAAAAAAAAAAAAAAAAAAAAAAAAAAAAAAAAAAAAAAAAAAAAAAAAAAABrVdJT19NJTVULJoJEw5j0yinO7hoG52mofVaZqtqJd7qOZ2/wRV3L8cKnWp0wHOWMynKizv1XHV1LNb5EgvVsqaSbozsLhetUReHhk3Gams8iZSsRO5zHJ/Y6lLHHOxY5Y2yMXpa9qKi/BSJfpTT0q5dZqFP8AbC1v9DLl4Wu+vpVdONUN+prPGmVrEXuaxy/2NNNSzXCRYLLbKmrm6M7C4TqVUTh44OkM0np6Jcts1Cv+6Frv6ktFFHAxI4o2xsToaxqIifBBj4eue/smnGOb2/QNzu1Qyq1NVbMSb20cLt/gqpuT4ZVetDolJSU9BTR01LCyGCNMNYxMIhsA1Y4zGci2Tn1H0AHSQAAAAAAAAAAAAAAAAAAAAAAAAAAAAAAAA1qukp66lkpqqFk0EiYcx6ZRTZAHOKrRV4sFS+s0pWbULt76Kd3T3Iq7l+OFTrUxxa+fQyJT6gtFVRT9G01nuu61w7C48FU6UY5Yo541jljbIxelr2oqL8FKdmjDZ7jrHOxTotcadlblLk1uOD43t/qgl1xp2JuVuTXZ4Mje7+iGxqSzaetlgrbg6z0LXQwrsYha1NtdzU3J/wByofdN2bT1zsFFcG2ihc6aJNvMLXJtpucm9P8AuRSj/Sw/t3+tUDLr59dItPp+0VVbP0bTme63qXDcrjxVDJS6KvF/qWVmq6zZhbvZRQO6O5VTcnwyq9aHQooo4I0jijbGxOhrGoiJ8EMhfr0Ya/UcZZ2tekpKehpY6alhZDBGmGsYmEQ2QC5yAAAAAAAAAAAAAAAAAAAAAAAAAAAAAAAAAADWq6SnrqWSmqomTQSJhzHplFOeV+g7naKh9Vpiq2onb3Uczt/giruX44VOtTph8JlsvYiyWcrkPOmaglSC92ypo5ujOwuHdaoi43eGTdj1TZpEyla1O5zHJ/Y6bLFHOxY5Y2SMXpa9qKi/BSraksunrZYK64Os9A10MK7GIWtTbXc1Nyf9yoXzyc4z5eLhfX0rcmqbNGmVrWr3NY5f7Glzpmr5VgslsqaybozsLhvUqomd3jguOm7Np652Ghr22egc6aFNvMLXJtpucm9OtFLTFHHAxI4o2RsToaxqIifBBfJzpj4uE9/bnFBoO53ioZVanqtmJu9tHC7f4Kqbk+GVXrQ6HSUlPQ0sdNSwshgjTDWMTCIbB9KLbb2tEkk5AAEJAAAAAAAAAAAAAAAAAAAAAFUf+tZn7G/zKWsqj/1rM/Y3+ZS1gAAAAAAAAAAAAAAAAAAAAAAA1qurp6GlkqaqZkMEaZc964RANkwyyxwMWSV7I2J0ueqIifFTnFw19c7tUPpNM0uzEm51ZM3f4oi7k+OVXqQiV01NcJEnvVzqaubpxtrhOtEVeHhgp2eRr1/9Vxlsxx9ukv1Zp+Lc680K/wC2Zrv6BmrNPy7m3mhT/dM1v9ShM0zZ40wlGi97nuX+4fpmzyJhaNE72vcn9zP/AL+v+q4/XxdRiljmjSSJ7JGL0OYqKi/FDMccTTU1vkWey3OppJunG2uF6kVU4eOSWt+vrnaahlLqal2ol3NrIW7/ABVE3L8MKnUpo179ez1XeOzHL06aDWpKunrqWOppZmTQSJlr2LlFNkudgAAAAAAAAAAAAAAAAAAAAAAAAAAAAAAAAAAAAAAAAAAAAAAAAAAAAAAAAAAAAAAAAAAAAAAAAAAAAAAAOce1m58ja6O2MVUdPIsr8L/pbuRF8VXP7o9k1z5a11lseqq6CRJWZX/S7cqJ4Kmf3jJrrRs11lrL4+4oxlLSKrIORyuGNV2Nra4rnhxPOg9HTWySjvjLi1zKmlRXwcjhcORFxtbXBUThwA6KAAAAAAAAAAAAAAAAAAAAAAAAAAAAAAAAAAAAAAAAAABzj2s3PkbXR2xiqjp5Flfhf9LdyIviq5/dOjnPNdaNmustZfH3FGMpaRVZByOVwxquxtbXFc8OIGP2TXPlrXWWx6qroJElZlf9LtyongqZ/eOjnPNC6NmtUtHfGXFHsqqRFfByOFw9qOxtbXBccOB0MAAAAAAAAAAAAAAAAAAAAAAAAAAAKo/9azP2N/mUtZVH/rWZ+xv8ylrAAAAAAAAAAAAAAAAAAAAAANarq4KGklqqmRI4Imq973cEQ5PW1tbru5LNMr6eywOVIoUXCvXrXv7+HQnFSU19cJrveqbTFK/ZibiWrcnX0oi+Cb+9VTqNiCCKmgZBCxGRsTZaicEMfl+R+nPjj7qnbs+P1CCCKmhbDBG2ONqYRrU3IZADyLe+2QABAGOeCKphdDPG2SNyYVrk3KZATLz0K/RVtboS5JNCr6iyzuRJYVXKsXrTv7+PQvBTrFHVwV1JFVU0iSQStR7HpxRShzwRVMD4JmI+N6bLkXihr6BuM1ovVTpiqftROzLSOX7VRPFN/cqL1nreJ5H6k+OXuNerZ8vq+3TQAbVwAAAAAAAAAAAAAAAAAAAAAAAAAAAAAAAAAAAAAAAAAAAAAAAAAAAAAAAAAAAAAAAAAAAAAAAAAAAAAitS/NW7/UpvwKedLfNO0fU4vwoetS/NW7/UpvwKedLfNO0fU4vwoBLgAAAAAAAAAAAAAAAAAAAAAAAAAAAAAAAAAAAAAAAAAARWpfmrd/qU34FJUitS/NW7/UpvwKA0181bR9Sh/AhKkVpr5q2j6lD+BCVAAAAAAAAAAAAAAAAAAAAAAAAAAACqP/Wsz9jf5lLWUy/VH5C1jRX+pY9bfJSrRTytRV5Fdraa5UTgqrj/ANTM43U9he1HJerdheupYi/YqgS4IrnNYe27b5uP1HOaw9t23zcfqBKgiuc1h7btvm4/Uc5rD23bfNx+oEqCK5zWHtu2+bj9RzmsPbdt83H6gSoIrnNYe27b5uP1HOaw9t23zcfqBKgiuc1h7btvm4/Uc5rD23bfNx+oEqCK5zWHtu2+bj9RzmsPbdt83H6gSoIrnNYe27b5uP1HOaw9t23zcfqBKmKWVkEL5ZF2WMarnL1IiZUj+c1h7btvm4/UidSagtM2mbpFTXWhmmfSyNbHHUMc5ctVFwiLld2QKPppX3CpuF6nT89VTOxnfhM5VEXq3on7pNV1XHQUM1XK17o4WK96MTK4TpU0dMsSPT1IicUVy/Fyko9jZI3MeiOa5FRUXiinhb8vlttv9sOd7nevFLUxVlJDUwO2opWI9i9yplDXgutPU3Sqt8W26ala1ZVx7rdreiZ6/QgtP1jbLQXW3Vb1VLS9z2qu9Vhciub4r0p9ht6QpJIrOtbUJ/xVwkdVS/vb2p4Yx9qkZa5j2/8AhcedTFZW01vpX1NXMyGFnS96/wAu9e417Td6W9Ua1VJt8mj1Z77cLlO42Z6WCq5Ll4WS8k9JGbaZ2XIioi+O9SC0Z/0yt+vzf1OZjLhb/KJJ8erE5zWNV7lRrWplVXoRCAbrK1LsyK2sbSOVEbVupnpEqquMbWP7E7LFHPE+KVjXxvRWuY5Mo5F6UVCnaskrI6CS2rbkpbE3k2PrI1bIrWJsrujyiph27PxOtWOOV5U4yVdCu6lV9vqbfeoE/PUszc43ZTOURV6typ+8T0HJ/J4+SdtRbCbC5zlMbt5G6mYkmnqtF4Ijk+DkJ0ZfHbP/AKa7zKOpRSsnhZLGu0x7Uc1etFTKGUhdJSLLpK0qvCljb9iY/sTR7rcAAAAAAAAAAAAAAAAAAAAAAAAAAAAAAAAAAAAAAAAAAAAAAAAAAAAAAAAAAAAAAAAAAAAAAAAAAAAAIrUvzVu/1Kb8CnnS3zTtH1OL8KHrUvzVu/1Kb8CnnS3zTtH1OL8KAS4AAAAAAAAAAAAAAAAAAAAAAAAAAAAAAAAAAAAAAAAAAEVqX5q3f6lN+BSVIrUvzVu/1Kb8CgNNfNW0fUofwISpFaa+ato+pQ/gQlQAAAAAAAAAAAAAAAAAAAAAAAAAAApl+p/y7rGisFS96W+OlWtniaqpyy7Wy1qqnBFTP/qYmeaWnuxqL+ChHP8A1rM/Y3+ZS1gQvNPT/YtF/BaOaen+xaL+C0mgBC809P8AYtF/BaOaen+xaL+C0mgBC809P9i0X8Fo5p6f7Fov4LSaAELzT0/2LRfwWjmnp/sWi/gtJoAQvNPT/YtF/BaOaen+xaL+C0mgBC809P8AYtF/BaOaen+xaL+C0mgBC809P9i0X8Fo5p6f7Fov4LSaAELzT0/2LRfwWkXqHTVmptNXOaktdJDPHSyObIyJEVMNXOF8MluMUsTJ4XxSJtMe1WuTrRUwoHLdMvSTT1IqcEVq/ByksV3TSPt9TcLLOv56lmdjO7KZwqonVuRf3ixHg+Rj8dljDsnMqreoNMPvFxgqIalIY3MSGsZxliRyORE78opY0RERERMIm5EPoOLnbJL/AA5ttnGlcm3N0TPyZJSsk2veWoa5Ux3YXpIew2i+2l6xS1NA+lkmdNKjWP28u6cL0dJZQTNlmPxTMuTiN+RVlTHcIK6pRaedVSDkfdfG3x6+giJLJqGot/5JqLpSLQqzk3TpE5Z3NTguVxvTcqlpAmyz0TKxjghjp6eOCJqNjjajGNTgiJhEI3Uz0j09VqvFEanxchLFd1Kj7hU2+ywL+eqpm5xvwmcIqp1b1X9070Y3LbE653KOk6SjWLSVpReNLG77Uz/cmjFFEyCFkUabLGNRrU6kRMIZT3W4AAAAAAAAAAAAAAAAAAAAAAAAAAAAAAAAAAAAAAAAAAAAAAAAAAAAAAAAAAAAAAAAAAAAAAAAAAAAARWpfmrd/qU34FPOlvmnaPqcX4UPWpfmrd/qU34FPOlvmnaPqcX4UAlwAAAAAAAAAAAAAAAAAAAAAAAAAAAAAAAAAAAAAAAAAAIrUvzVu/1Kb8CkqRWpfmrd/qU34FAaa+ato+pQ/gQlSK0181bR9Sh/AhKgAAAAAAAAAAAAAAAAAAAAAAAAAABVH/rWZ+xv8ylrKo/9azP2N/mUtYAAAAAAAAAAAAAAAAAAAAABzLX1vmtN6ptT0rNqJ2IqtqdfQir4pu7lROs2IJ4qmBk8L0fG9NpqpxQvlXSQV1JLS1MaSQStVj2O4opyetoq3QlyWGZH1FlncqxTImVYvUvf3celOKGPy/H/AFJ8sfcU7dfy+4sAMcE8VTC2aCRskbkyjmruUyHkWc9sgACAAMc88VNC6aeRscbUyrnLuQmTvoJ54qaB88z0ZGxNpyrwQ19A26a73qp1PVM2Ym5ipGr9iqngm7vVV6iLoqKt13ckhhR9PZYHIssyphXr1J393DpXgh1ijpIKGkipaaNI4ImoxjE4Ih63ieP+nPll7rXq1/H7vtsgA2rgAAAAAAAAAAAAAAAAAAAAAAAAAAAAAAAAAAAAAAAAAAAAAAAAAAAAAAAAAAAAAAAAAAAAAAAAAAAABFal+at3+pTfgU86W+ado+pxfhQ9al+at3+pTfgU86W+ado+pxfhQCXAAAAAAAAAAAAAAAAAAAAAAAAAAAAAAAAAAAAAAAAAAAitS/NW7/UpvwKSpFal+at3+pTfgUBpr5q2j6lD+BCVIrTXzWtH1KH8CEqAAAAAAAAAAAAAAAAAAAAAAAAAAAFUf+tZn7G/zKWsqj/1rM/Y3+ZS1gAAAAAAAAAAAAAAAAAAAAAA1qukp66lkpqqFk0EiYcx6ZRTZAHMrhoG52mofV6ZqtqJd7qOZ2/wRV3L8cKnWpErqWa3yJBerZU0k3RnYXC9aoi8PDJ2MwyxRzsWOVjJGL0teiKi/BSnZ4+vZ/1HGWvHL25czU1nkTKViJ3OY5P7B+prPGmVrEXuaxy/2L6/Sen5d7rNQp/tha3+gZpPT8W9tmoV/wB0LXf1M/8Aoa/7rj9DFzZNSzXCRYLLbKmrm6M7C4TqVUTh44Ja36Bud2qGVWpqrZiTe2jhdv8ABVTcnwyq9aHR4oo4Y0jiYyNidDWIiInwQzGjXo16/Ud468cfTWpKSnoaWOmpYWQwRphrGJhENkAudgAAAAAAAAAAAAAAAAAAAAAAAAAAAAAAAAAAAAAAAAAAAAAAAAAAAAAAAAAAAAAAAAAAAAAAAAAAAAAAAIrUvzVu/wBSm/Ap50t807R9Ti/Ch61L81bv9Sm/Ap50t807R9Ti/CgEuAAAAAAAAAAAAAAAAAAAAAAAAAAAAAAAAAAAAAAAAARt0vNus9Py1wrI4Gqi7KOX3neCJvX4ASGSL1L81bv9Sm/ApT6r2n8s90dmtE9Vjdykq7KIvgmd3iqEVWam1hc6OemloqGKGaN0b2omFVHJhf8AUqpuU5ueM91Zhp2Z/wDONdF0181bR9Sh/AhKZOTUmptX22igpoqKhlhhjbGxrkyqNamE/wBSZ3ErS+0/kXtjvNonpc7uUiXaRV8Fxu8FUTPG+qZadmH/AFjXRgRtrvNuvFPy1vrI52oibSNX3m+KLvT4kkdKwAAAAAAAAAAAAAAAAAAAAAAAFUf+tZn7G/zKWsqj/wBazP2N/mUtYAAAAAAAAAAAAAAAAAAAAAAAAAAAAAAAAAAAAAAAAAAAAAAAAAAAAAAAAAAAAAAAAAAAAAAAAAAAAAAAAAAAAAAAAAAAAAAAAAAAAAAAAAAAAAAAAAAARWpfmrd/qU34FPOlvmnaPqcX4UPWpfmrd/qU34FPOlvmnaPqcX4UAlwAAAAAAAAAAAAAAAAAAAAAAAAAAAAAAAAAAAAAAq+ttS83bP8AmMLXVKqynbjOOt2O7KfFUA0dW61ZZn/ky2MSpuj92MZbDnr617vivfSobNJV1C116qH1lU/eqOdlE7u/w6DNZ7YtIx1TUqslbMquke5cqirvVM/1UlTDt323mPp7vieDjjJnnO15YxsaIyNqNam5GtTCIRltuklVcrhQ1MbI5qWRNnZzh8bky12/j1kr3leu/wD8ff7ddm7o5F+R1H+1y5avwd/Ypx/d2N2y3CSz1Pbcud0lpLjbqCmjZJNVSLtbXQyNqZcvj1eBJPa2Rqxva1zV3K1yZRSBs7fyjf7jdnb441+R0/8Atbvcvxdx8Swd5GX1yGu3OW31fSFms0lJUJXWWd9HVM3ojXYRe7u8OguuktasvL/yZc2JTXRm7GMNmx1dS93xTuhSKvFsWsY2pplWOthVHRvauFVU3omf6KX6t9l5l6YfL8HHKXPCcrsoKvonUvOKz/n8JXUyoyobjGep2O/C/FFLQbnhAAAAAAAAAAAAAAAAAAAAACqP/Wsz9jf5lLWVR/61mfsb/MpawAAAAAAAAAAAAAAAAAAAAAAAAAAAAAAAAAAAAAAAAAAAAAAAAAAAAAAAAAAAAAAAAAAAAAAAAAAAAAAAAAAAAAAAAAAAAAAAAAAAAAAAAAAAAAAAAAAAitS/NW7/AFKb8CnnS3zTtH1OL8KHrUiZ0td0Teq0U34FPGlVRdJ2jC5/4SJP/wBUAmAAAAAAAAAAAAAAAAAAAAAAAAAAAAAAAAAAAAAHk4/X1a6h1xV1jvepaFeRhTguFVEX7dpfsOpXmrdb7JX1jMbcFPJI3PWjVVP5nJtMwpFZmv4yvc5ftx/Yp35fHBt8DVNm2d/hMjB8waVVdaGiqoKWoqWMqJ3I2ONEVXKqrhNydCZ4ruPOkt9Po7lMZ91vGpcKGG5UE1HUbXJSphVauFTflFTvRUNvialdcaO2xJJWVDIWr+jnpd4Im9fgTO9+kZfHn7vRb6GG2UENHT7XJRJhFcuVXflVXvVVNtDToLnRXSJ0lFUJM1q4dhFRWr3ou9Dbzjp6Be9+zC4/H9vp9BpUN2oblLPHR1LZ3QKiSbCLhM5xheheheg3eIss+q6xymU7EZb6rm9rijrG+7S1y8jMnBMqiKv27K/adhOL6mhSWzPfxie1yfbj+51qzVbrhZKCsfjbnp45HY61air/ADPQ0ZfLB835+qa9t5/KQBjkkZFGr5HNYxqZVzlwifE0aC9W66TTxUFbFUvhRFkWJdpEznG9Ny9C9ClzEkgAAAAAAAAAAAAAAAAABVH/AK1mfsb/ADKWsqf6ftUTZ37Fnw7uXlf/AOlsAAAAAAAAAAAAAAAAAAAAAAAAAAAAAAAAAAAAAAAAAAAAAAAAAAAAAAAAAAAAAAAAAAAAAAAAAAAAAAAAAAAAAAAAAAAAAAAAAAAAAAAAAAAAAAAAAAADE9jZGOY9EcxyKjkVMoqLwKlBYdRWBX09graGa3q5XR09e1+YcrlUa5u9U8f/APbkAKpt6++j09996jb199Hp7771LWAKpt6++j09996jb199Hp7771LWAKpt6++j09996jb199Hp7771LWAKpt6++j09996jb199Hp7771LWAKpt6++j09996jb199Hp7771LWAKpt6++j09996jb199Hp7771LWAKpt6++j09996jb199Hp7771LWAKpt6++j09996jb199Hp7771LWAKpt6++j09996jb199Hp7771LWAKpt6++j09996jb199Hp7771LWAKpt6++j09996jb199Hp7771LWAKpt6++j09996jb199Hp7771LWAKpt6++j09996jb199Hp7771LWAKpt6++j09996jb199Hp7771LWAKDf3avXTlx/KLLKlL8ndt/J+V28d2VwVyxf9Epf9q/1U6heaR1wslfRsxtz08kbc9atVE/mcn0vMktmazjE9zV+3P8AczeTP2vS/wAXZNtn4TJVdQ0FLTVlqqIoWpNPdYXSSLvc7p3Z6u4tRWrxS3m41FJydFTNjpKts7VWoXL0aq4RU2d2fiZNft7O+dx9dWU1Kiko0q2XKoRqSU7FRsj3qjWNXpXHQnia8s14dbHPhpqWOu2sNjfIr2bPXlMLk079QXCurqTkoIp6KLL5IJJthJH8NrcuUTGcCT79pzy/b66+2Vq1d2uF3jZsU1QjI4VVqosqNTe9U6lzhO5CXq6WKtpZKadquikTDkRVTKdWUNeimuT5tmroYIIkbudHPtrnqxsoeYJbu217dRT0r6/P/LjerWKmetcr0C9tMOTHnEZYYYoNT6ghhjbHG1adGsYmERNhehCx8StUNNfKS719ctDSuStWPLflK+4jUVP+3f09xZuI2e+o0fWPOc9//qOvv/RKr/an9UJ+k528zLb+QfkOx8mbja/52e7a9z7SsaomSKzOZxle1qfbn+x1izUjqCyUFG/G3BTsjdjrRqIv8zX40/a8b/KWXdJ+HCb/AM4uX/8Anvl2dpdn5RtbGf8Ax/0/YT/s6W/JJcfyI23quI+V+Wbf/ljZ2fjnPcdkkjZLGrJGtexyYVrkyi/A0aCy261zTy0FFFTPmREkSJNlFxnG5NydK9CGl5qG29ffR6e++9Rt6++j09996lrAFU29ffR6e++9Rt6++j09996lrAFU29ffR6e++9Rt6++j09996lrAFU29ffR6e++9Rt6++j09996lrAFU29ffR6e++9Rt6++j09996lrAFU29ffR6e++9Rt6++j09996lrAFU29ffR6e++9T5/wDXj92NPsz/AKk5VVQtgAr9gsL7TLU1dbVLW3SrVFnqFbhMJ0NanBE9O5CwAAAAAAAAAAAAAAAAAAAAAAAAAAAAAAAAAAAAAAAAAAAAAAAAAAAAAAAAAAAAAAAAAAAAAAAAAAAAAAAAAAAAAAAAAAAAAAAAAAAAAAAAAAAAAAAAAAAAAAAAAAAAAAAAAAAAAAAAAAAAAAAAAAAAAAAAAAAAB54nH7hSc3dcVlG73aWuXloV4JlVVE+3aT7DsJV9a6b5xWf8xhtdTKr6d2cZ62578J8UQ4zx+UsW6dt1ZzOfwrGQRVnua1bHU1Six1sKq2Rjkwqqm5Vx/VCVPNyxuN5X1GrZjsxmWIADlcAAAMgirxc1pGNpqZFkrZlRsbGplUVdyLj+iHWONyvIp27MdeNyr3b6TnFrijo2+9S0K8tMvBcKiqn27Kfadg4lY0Vpvm7Z/wA9h1dUqj6h2c46m57sr8VUtB6eGPxxkfL7tt253O/y+gA6VAAAAAAAAAAAAAAAAAAAAAAAAAAAAAAAAAAAAAAAAAAAAAAAAAAAAAAAAAAAAAAAAAAAAAAAAAAAAAAAAAAAAAAAAAAAAAAAAAAAAAAAAAAAAAAAAAAAAAAAAAAAAAAAAAAAAAAAAAAAAAAAAAAAAAAAAAAAAAAAAAAAAAAAAAAAAAAAAAAApOrdFNvMn5Ttj0prqxM5zhs2OvqXv+C91KhvMlJULQ3qnfR1TNyq9uEXv7vHoO1EddLNbrxT8jcKOKdqIuyrk95vgqb0+BXnrxzn20aPJ2ab2Vz9j2yMR7HNc1d6K1cop6Nqq9mHIvdJZbxPS538nKm0ir4pjd4opoLo/WsO5Kugl70d6tQzXxsv4r1cP8phZ+6cZTy97Y2K97mtam9VcuEQ8Jo/Ws25augi71d6NU36X2Ycs9sl6vE9VjfycSbKIviud3giCeNl/NM/8phJ+2dVqa8yVdQlDZad9ZVP3IrG5RO/v8eguuktFMsz/wAp3N6VN1emc5y2HPV1r3/BO+yWuzW6z0/I2+kigaqJtK1Ped4qu9fiSJpw144T6eVv8nZuvcq+gAsZwAAAAAAAAAAAAAAAAAAAAAAAAAAAAAAAAAAAAAAAAAAAAAAAAAAAAAAAAAAAAAAAAAAAAAAAAAAAAAAAAAAAAAAAAAAAAAAAAAAAAAAAAAAAAAAAAAAAAAAAAAAAAAAAAAAAAAAAAAAAAAAAAAAAAAAAAAAAAAAAAAAAAAAAAAAAAAAAAAAAAAAAAAAAAAAAAAAAAAAAAAAAAAAAAAAAAAAAAAAAAAAAAAAAAAAAAAAAAAAAAAAAAAAAAAAAAAAAAAAAAAAAAAAAAAAAAAAAAAAAAAAAAAAAAAAAAAAAAAAAAAAAAAAAAAAAAAAAAAAAAAAAAAAAAAAAAAAAAAAAAAAAAAAAAAAAAAAAAAAAAAAAAAAAAAAAAAAAAAAAAAAAAAAAAAAAAAAAAAAAAAAAAAAAAAAAAAAAAAAAAAAAAAAAAAAAAAAAAAAAAAAAAAAAAAAAAAAAAAAAAAAAAAAAAAAAAAAAAAAAAAAAAAAAAAAAAAAAAAAAAAAAAAAAAAAAAAAAAAAAAAAAAAAAAAAAAAAAAAAAAAAAAAAAAAAAAAAAAAAAAAAAAAK7rDUkmlrMyvio0q3vnZCkSybG92d+cL1FiKB7W0e7SFOkbka9bhCjXKmcLvwoGau1ne7FB8svullpre1yNlqaetZMseVREVWYRcZXrLny0WWJyjMyJlibSZcnTu6znOrbHqVbFNUXW9U91tlN/wARVUDadKXl2M97G2m0vDOO42a6uiueu/Z/XwtVkNTT1UzGuTCojoEVE/mBf+UZynJ7bdtUzs53468GP5XTJU/JvlEXL42uS202sdeOkp9wqeS9rVI2PDnpZZVVnHHKZT+bSuaZ09art7MJ77XxsW7VDKipfcXKvKxyMc/ZejkXKY2UXCYReoDq7HslYj43te1ehWrlFKredUXSj1ZHYLVZY6+Z1ElYrpKtIcN21Yqb2r1J9p79m/6vbN/+FfxOIK9vu7PbBAtlio5Kr8h+8lW9zWbHLOzvairnOP5gWO23PU09wiiuOnaejpHKu3O2vbIrdy491GpnK4T4khaamsdRsS6y0Hyp8j0alI9dhzUXdjaXKrjGe80bXLq51c1LvTWeOkwu06llkdJnG7CORE6Sl2a3Udd7K55aup+Rvo6uoqYKxP0oJGyKqOTj3YTpzu34A6i6WNkjGOe1r3Z2WquFXw6zQtNRWLQNddpaFKh0rmotK9eTVMrsom1v2sdPeUv2f1Mmp7pWagu7kbd6eNlNHSK1W/Jo3NR22jV3/nFVVz1bkXBVpqdaz2dWGlSV8Szan5NJGLhzMulTKL1pkDtUNVTzySRxTxSPjXD2seiq1e9E6BNVU8MjIpaiKOSTcxjnoiu8EXpKBe7Fa9Oal0jU2ihho5FrVpXrE3G2xzFRdpely96795j0zY7Xqm8arrb3RxVtQy5y0TOW3rFEzCNRu/3V7037ukDozJGSbWw5rtlVa7C5wqcF7zKc99k8fJWe+R8s6fZvU7eWcqqsmGx+8qrvVV6ToQAAAAAAAAAAAAAAAAAAAAAAAAAAAAAAAAAAAAAAAAAAAAAAAAAAAAAAAAAAAAAAAAAAAAAAAAAAAAAAAAAAAAAAAAAAAAAAAAAAAAAAAAAAAAAAAAAAAAAAAAAAAAAAAAAAAAAAAAAAAAAAAAAAAAAAAAAAAAAAAAAAAAAAAAAAAAAAILVGm4dU2ptBPUS07WzNmbJFjaRzc46fEnQBT59DPuMKU921JeK2mVcyU6yMjZInU7ZaiqnxN686Wo7rFb1innt89tytJPSqjXRIrdlW70VFaqIiKncWIrmvfmFfPqj/AOgGtatH0tBqFt9dcqytreRdDLJUPR23tLngiI1ExhEREQo1bHp+0x3O1PqdR0avfIsVhwqxTuXKokasauWKq9COTo39BrTu9m7dKsdRuY2+JSt5FaVZUl+UbO7GN2dr4FyuOpblo/Q9hqrlSura6WSCmqGI/L8qxyqqLv2n+7jvUCd0ZbJrPo+1UFS1WzxQJyjV/wBLl3q34Zx8DMtggXVyah5aTl0ovkXJbtnZ29vPXnJoTXjUVPaIZX2JklzqKhImU0U6ujiYv+uSTG5E44Tq7zHbNQ3RmpWWC+0NJBUy07qiCeknc+OREdhW4c1FRUTf8ALYVCPQVG21UlrkraiShhq3VUsCo1EqFV20jX7t7UXhxNOi1bqG9z3OGz2Skd+T6uWnklqalWtfsOwjWoiKu0qb9+ETKdJmZr2GbRdDfI6J76mumSlgomyJl1QrlajFcqIiJlqrlU6OAExPp6GTU1PfYJpaeqZEsMzWY2ahnBHp3LvRU3/YQ9FpC01Vjt9JR3N89NRXT5eyaJ7X7UjXOVWKqbsZcqde437feL4l1gobzZUiSpYr46mie6aKNUTKtkVWpsr1LvRV6CmaKu2oKfS1V+SbRTT01FVTulkqahWOm95XK2NEau9EVN67s7uAHQbvY4bxV2ueaaSN1vqUqWIzGHORMYXu3lGvzbHZtT3GWsuN/sSVjUe9aXfBWKqb1YrWuVr92Fzhd+7pL7p+7w36w0V1gbssqYkfsZzsL0ObnjhUVPgSgFK9mtodatNVD1ppaWOtrpaqGCVFR8cbsNYi5352Wou/rLqAAAAAAAAAAAAAAAAAAAAAAAAAAAAAAAAAAAAAAAAAAAAAAAAAAAAAAAAAAAAAAAAAAAAAAAAAAAAAAAAAAAAAAAAAAAAAAAAAAAAAAAAAAAAAAAAAAAAAAAAAAAAAAAAAAAAAAAAAAAAAAAAAAAAAAAAAAAAAAAAAAAAAAAAAAAAAAAAAAK7reGSfRF5ihjdJI+lejWMRVVVx0IiFiAHPaXVFtfpmChfp+610jKZkUlMlseqPcjURUVVTGM8SIksd3t+hdG0NbBI6qgvkEkkTE2+Rj2pFRFVM7kRU8Og6yAKH7RIq2V9lRXV35E+UO/KaUTXq9W4RW5Ru/Y3Oz4pxwV23UENB7QrXd7XpuvobK5klNtrTP23SKi++5u9zWLlqIqonQqnXgBS/Z9BNTxakSeGSLbvtS9m21W7TV2MKmelO8qlLaLkmhbXXQ0E8tRar26ufS8mvKSRpI7Oy1elcKip/I6+AKrbdVT3q701Pb7RWMoeSdJU1NXA+Hk3cGNymHOz078d6mhoamng0FVQzQyRyLLVKjHsVHLlzsblLyAKr7OqZ9JoG0wSROhe2JyuY9qtVFV7lXKL4lqAAAAAAAAAAAAAAAAAAAAAAAAAAAAAAAAAAAAAAAAAAAAAAAAAAAAAAAAAAAAAAAAAAAAAAAAAAAAAAAAAAAAAAAAAAAAAAAAAAAAAAAAAAAAAAAAAAAAAAAAAAAAAAAAAAAAAAAAAAAAAAAAAAAAAAAAAAAAAAAAAAAAAAAAAAAAAAAAAAAAAAAAAAAAAAAAAAAAAAAAAAAAAAAAAAAAAAAAAAAAAAAAAAAAAAAAAAAAAAAAAAAAAAAAAAAAAAAAAAAAAAAAAAAAAAAAAAAAAAAAAAAAAAAAAAAAAAAAAAAAAAAAAAAAAAAAAAAAAAAAAAAAAAAAAAAAAAAAAAAAAAAAAAAAAAAAAAAAAAAAAAAAAAAAAAAAAAAAAAAAAAAAAAAAAAAAAAAAAAAAAAAAAAAAAAAAAAAAAAAAAAAAAAAAAAAAAAAAAAAAAAAAAAAAAAAAAAAAAAAAAAAAAAAAAAAAAAAAAAAAAAAAAAAAAAAAAAAAAAAAAAAAAAAAAAAAAAAAAAAAAAAAAAAAAAAAAAAAAAAAAAAAAAAAAAAAAAAAAAAAAAAAAAAAAAAAAAAAAAAAAAAAAAAAAAAAAAAAAAAAAAAAAAAAAAAAAAAAAAAAAAAAAAAAAAAAAAAAAAAAAAAAAAAAAAAAAAAAAAAAAAAAAAAAAAAAAAAAAAAAAAAAAAAAAAAAAAAAAAAAAAAAAAAAAAAAAAAAAAAAAAAAAAAAAAAAAAAAAAAAAAAAAAAAAAAAAAAAAAAAAAAAAAAAAAAAAAAAAAAAAAAAAAAAAAAAAAAAAAAAAAAAAAAAAAAAAAAAAAAAAAAAAAAAAAAAAAAAAAAAAAAAAAAAAAAAAAAAAAAAD/2Q==)\n"
      ]
    },
    {
      "cell_type": "markdown",
      "metadata": {
        "id": "f5AYE1WoS2Mw"
      },
      "source": [
        "> En general cada maquina tiene un repositorio de GIT instalado. Eso quiere decir que cada desarrollador tendra su propio repositorio GIT y debe de sincronizar sus cambios y los cambios de los demas (por medio de los comandos PUSH y FETCH). \n",
        "\n",
        "> Esto tambien permite que se puedan tener repositorios en servidores o en la nube y que cada usuario sincronice su repositorio local y lograr asi que todos puedan trabajar de forma colaborativa. \n",
        "\n",
        "> Aunque ya existen bastantes herramientas graficas, el conocer los comandos de linea, puede ayudar a comprender la estructura y funcionamiento del GIT y aprovechar de mejor manera sus bondades y caracteristicas."
      ]
    },
    {
      "cell_type": "markdown",
      "metadata": {
        "id": "XkqnbvDJX5k2"
      },
      "source": [
        "# **Comandos Básicos en Git**\n",
        "\n",
        "> Para ejemplificar el funcionamiento del GIT, a continuación se efectuara un ejercicio, en el cual se creara un repositorio GIT desde cero y se podran ir observando la forma en que las versiones se van creando y cambiando. Como documentacion adicional, se encuentra codigo ejecutable para ir ejecutando estos comandos conforme se van revisando, disenados para ejecutarse en macosx o cualquier plataforma unix. \n",
        "\n",
        "**Inicialización del Repositorio**\n",
        "\n",
        "> Para inicializar un repositorio en el directorio base debemos de ejecutar el siguiente comando:\n",
        "\n",
        "```\n",
        "# git init\n",
        "```\n",
        "Primero Crearemos un directorio de prueba y luego inicializaremos el repositorio GIT."
      ]
    },
    {
      "cell_type": "code",
      "metadata": {
        "id": "tRBzkk9nS1_a",
        "colab": {
          "base_uri": "https://localhost:8080/"
        },
        "outputId": "aa43d634-2b98-4722-8d63-c02fb232ada8"
      },
      "source": [
        "%sx mkdir PruebaJsalazar2021\n",
        "%sx git init"
      ],
      "execution_count": 2,
      "outputs": [
        {
          "output_type": "execute_result",
          "data": {
            "text/plain": [
              "['mkdir: cannot create directory ‘PruebaJsalazar2021’: File exists']"
            ]
          },
          "metadata": {
            "tags": []
          },
          "execution_count": 2
        }
      ]
    },
    {
      "cell_type": "markdown",
      "metadata": {
        "id": "sTGGd9BeVglQ"
      },
      "source": [
        "> Esto creara un repositorio nuevo en el directorio en el cual se encuentra la linea de comando. Es decir el presente directorio sera el \"Tree\" inicial o base.\n",
        "\n",
        "\n",
        "\n",
        "**Conexión con GitHub**\n",
        "> Como se menciono anteriormente el repositorio del control de versiones creado con el comando anterior, crea un repositorio en la maquina local, pero podemos \"sincronizarlo\" con un repositorio remoto. Para ello podemos utilizar el siguiente codigo para poder sincronizarlo (Asumiendo que ya tenemos nuestra cuenta creada en GITHUB).\n",
        "\n",
        "\n",
        "```\n",
        "# git remote add <nombre> <url>\n",
        "```\n",
        "> el nombre sera el nombre logico con el que llamaremos al repositorio remoto y asi evitar tener que poner la URL siempre que se haga referencia al mismo, y la URL es donde se encuentra, puede estar en la nube o puede estar en un servidor en una red local lan o en la misma computadora.\n",
        "\n",
        "\n",
        "```\n",
        "# git remote add nube git@github.com:JS-DS-coder/CienciaDeDatos2021.git\n",
        "```\n",
        "A continuacion el comando para sincronizarlo con la nube.\n"
      ]
    },
    {
      "cell_type": "code",
      "metadata": {
        "id": "Y0PzSbVNVtFK"
      },
      "source": [
        "%sx git remote add nubeCD2021 git@github.com:JS-DS_coder/CienciaDeDatos20212.git"
      ],
      "execution_count": null,
      "outputs": []
    },
    {
      "cell_type": "markdown",
      "metadata": {
        "id": "5rUhEDs3WHFT"
      },
      "source": [
        "**Sincronizar Archivos (FETCH)**\n",
        "\n",
        "> Con el comando anterior, creamos un repositorio GIT remoto en la nube, al cual se puede acceder por SSH (como en el ejemplo) o con HTTPS. Para poder extraer lo que se tiene en el repositorio remoto, se puede utilizar el comando FETCH:\n",
        "\n",
        "```\n",
        "# git fetch <repositorio> \n",
        "```\n",
        "> Dependiento de la forma en que se creo el repositorio remoto (por SSH o HTML) nos solicitara algun dato adicional, como usuario del github o intentara establecer una conexion por el puerto 22. \n",
        "\n",
        "> Según la documentación de GitHub, la autenticacion simple sobre HTTPS, sera deshabilitada a partir de Agosto 2021, por lo que sugieren utilizar la autenticación de dos factores, lo cual obligara a utilizar un token por dispositivo para acceder a los repositorios remotos de Github.\n",
        "\n",
        ">A continuacion el comando para efectuar el FETCH, el cual bajara un archivo a nuestro repositorio llamado prueba.txt con el que trabajaremos los siguientes comandos."
      ]
    },
    {
      "cell_type": "code",
      "metadata": {
        "id": "OvOj1DG1WS5o"
      },
      "source": [
        "%sx git fetch nubeCD2021"
      ],
      "execution_count": null,
      "outputs": []
    },
    {
      "cell_type": "markdown",
      "metadata": {
        "id": "F-zpkRmGXMZ_"
      },
      "source": [
        "**Creacion de versiones (Branch)**\n",
        "\n",
        "> Para crear una version nueva y modificar el archivo, se puede utilizar el comando checkout, este lo que hara es crear un \"Branch\" a partir de uan version determinada.\n",
        "\n",
        "\n",
        "\n",
        "```\n",
        "# git checkout prueba.txt\n",
        "```\n",
        "A continuación encontrara la ejecucion de dicho comando y la modificacion de dicho archivo.\n"
      ]
    },
    {
      "cell_type": "code",
      "metadata": {
        "id": "x973Kv6MB1WH"
      },
      "source": [
        "%sx git checkout prueba2.txt\n",
        "%sx echo 'For desktop usage I prefer Apple OS X unix operating systems.' > prueba2.txt"
      ],
      "execution_count": null,
      "outputs": []
    },
    {
      "cell_type": "markdown",
      "metadata": {
        "id": "hgGN23c2CiDc"
      },
      "source": [
        "**Actualizacion de versiones**\n",
        "\n",
        "Para actualizar y crear una nueva version a partir de cambios efectuados, se puede utilizar el comando git add y gid commit. De la siguiente manera:\n",
        "\n",
        "\n",
        "\n",
        "```\n",
        "# git add <archivo o hash>\n",
        "# git commit\n",
        "```\n",
        "Asi como se muestra a continuacion con el ejemplo que estamos trabajando.\n"
      ]
    },
    {
      "cell_type": "code",
      "metadata": {
        "id": "CKBDoQ34DWRu"
      },
      "source": [
        "%sx git add prueba2.txt\n",
        "%sx git commit"
      ],
      "execution_count": null,
      "outputs": []
    },
    {
      "cell_type": "markdown",
      "metadata": {
        "id": "Qa7B87yTDrFz"
      },
      "source": [
        "**Subir cambios al repositorio remoto**\n",
        "Para subir cambios al repositorio remoto se puede utilizar los comandos push o el comando pull. Esto actualizara y sincronizara las versiones remotas.\n",
        "\n",
        "\n",
        "\n",
        "```\n",
        "# git push\n",
        "```\n",
        "\n"
      ]
    },
    {
      "cell_type": "code",
      "metadata": {
        "id": "zoby-c87Ltp9"
      },
      "source": [
        "#sx git push nubeCD2021 prueba2.txt"
      ],
      "execution_count": null,
      "outputs": []
    },
    {
      "cell_type": "markdown",
      "metadata": {
        "id": "HhTq7xtoQZ-Q"
      },
      "source": [
        "**Conclusiones**\n",
        "1. La estructura del GIT es muy poderosa y bastante flexible para permitir que se puedan manejar versiones y estructuras, copias, versiones paralelas y poder permitir el merge de todos estos cambios.\n",
        "\n",
        "2. Tambien nos permite tener repositorios remotos y locales, y nos permite tener una version local con nuestros cambios e integrarlos con cambios que se encuentren en un repositorio remoto.\n",
        "\n",
        "3. Aunque existen herramientas graficas para poder trabajar todo esto, los comandos desde la linea de comandos, nos permiten tener mayor flexibilidad al efectuar los cambios. \n",
        "\n",
        "4. En el presente trabajo solo liste algunos comandos basicos, pero existen una gran infinidad de comandos que nos permiten ir navegando en diferentes versiones de los archivos, lo importante es entender la estructura los comandos se iran aprendiendo teniendo clara la estructura del GIT.\n",
        "\n",
        "**Recomendaciones**\n",
        "- Para poder integrar de mejor manera los cambios es importante que el GIT se configure sobre SSH, ya que la autenticacion HTTPS quedara obsolota. Por temas de tiempo me falto efectuar esa integracion pero la trabajare en los proximos dias para tenerla lista."
      ]
    }
  ]
}